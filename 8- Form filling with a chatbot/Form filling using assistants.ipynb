{
 "cells": [
  {
   "cell_type": "markdown",
   "metadata": {
    "id": "RwyDfYSkfx9U"
   },
   "source": [
    "# Form filling with Azure OpenAI assistants\n"
   ]
  },
  {
   "cell_type": "code",
   "execution_count": 1,
   "metadata": {},
   "outputs": [],
   "source": [
    "from langchain_openai import AzureChatOpenAI\n",
    "from dotenv import load_dotenv\n",
    "import os\n",
    "from typing import Optional\n",
    "from pydantic import BaseModel, Field\n",
    "\n",
    "load_dotenv()\n",
    "\n",
    "llm = AzureChatOpenAI(\n",
    "    azure_endpoint=os.getenv(\"AISTUDIO_AZURE_OPENAI_ENDPOINT\"),\n",
    "    azure_deployment=os.getenv(\"AI_STUDIO_AZURE_OPENAI_GPT4o_DEPLOYMENT\"),\n",
    "    openai_api_version=\"2024-02-01\",\n",
    "    api_key=os.getenv(\"AISTUDIO_AZURE_OPENAI_KEY\")\n",
    ")"
   ]
  },
  {
   "cell_type": "code",
   "execution_count": 2,
   "metadata": {
    "id": "76DeeTs1Jqli"
   },
   "outputs": [],
   "source": [
    "class PersonalDetails(BaseModel):\n",
    "    first_name: str = Field(\n",
    "        ...,\n",
    "        description=\"This is the first name of the user.\",\n",
    "    )\n",
    "    last_name: str = Field(\n",
    "        ...,\n",
    "        description=\"This is the last name or surname of the user.\",\n",
    "    )\n",
    "    full_name: str = Field(\n",
    "        ...,\n",
    "        description=\"Is the full name of the user \",\n",
    "    )\n",
    "    phone_nr: str = Field(\n",
    "        ...,\n",
    "        description=\"Is the phone number of the user \",\n",
    "    )\n",
    "    city: str = Field(\n",
    "        ...,\n",
    "        description=\"The name of the city where someone lives\",\n",
    "    )\n",
    "    email: str = Field(\n",
    "        ...,\n",
    "        description=\"an email address that the person associates as theirs\",\n",
    "    )\n",
    "    language: str = Field(\n",
    "        ..., enum=[\"spanish\", \"english\", \"french\", \"german\", \"italian\"]\n",
    "    )\n",
    "structured_llm = llm.with_structured_output(PersonalDetails)\n"
   ]
  },
  {
   "cell_type": "code",
   "execution_count": 3,
   "metadata": {},
   "outputs": [],
   "source": [
    "prompt = \"\"\"\n",
    "You are a helpful telcom sales assistant. In order to help someone to the right plan you need the city a person is based on wether the person is look for an individual plan or a family plan. \n",
    "\n",
    "For an individual plan- just ask the age of the person. \n",
    "\n",
    "If It is a family plan - we need to know how many people are on it and what there ages are for each person. \n",
    "The max for a family plan is set to 5. \n",
    "In order to provide a quote - you will need to have the ages of all people on the plan.\n",
    "\n",
    "When people provide only the city name, please infer the State and then confirm with the person. Like when they say 'Atlanta' - you ask something like 'So you are in Atlanta, Georgia right?\n",
    "\n",
    "Once you have all the information (Individual or family plan, number of people and age for EACH person, city and state) you can call the plan function that will return the price. \n",
    "\"\"\""
   ]
  },
  {
   "cell_type": "code",
   "execution_count": null,
   "metadata": {},
   "outputs": [
    {
     "ename": "",
     "evalue": "",
     "output_type": "error",
     "traceback": [
      "\u001b[1;31mThe Kernel crashed while executing code in the current cell or a previous cell. \n",
      "\u001b[1;31mPlease review the code in the cell(s) to identify a possible cause of the failure. \n",
      "\u001b[1;31mClick <a href='https://aka.ms/vscodeJupyterKernelCrash'>here</a> for more info. \n",
      "\u001b[1;31mView Jupyter <a href='command:jupyter.viewOutput'>log</a> for further details."
     ]
    }
   ],
   "source": [
    "function_profile ={\n",
    "  \"name\": \"getplanprice\",\n",
    "  \"parameters\": {\n",
    "    \"type\": \"object\",\n",
    "    \"properties\": {\n",
    "      \"plan\": {\n",
    "        \"type\": \"string\",\n",
    "        \"Description\": \"Individual or Family\"\n",
    "      },\n",
    "      \"people\": {\n",
    "        \"type\": \"integer\",\n",
    "        \"description\": \"The number of people on the plan\"\n",
    "      },\n",
    "      \"ages\": {\n",
    "        \"type\": \"string\",\n",
    "        \"description\": \"Commma separates list of the ages of all plan participants\"\n",
    "      }\n",
    "    },\n",
    "    \"required\": [\n",
    "      \"plan\",\n",
    "      \"people\",\n",
    "      \"ages\"\n",
    "    ]\n",
    "  },\n",
    "  \"description\": \"Needs the city/state, the type of plan, the number of peole on the plan and the ages of the people\"\n",
    "}"
   ]
  }
 ],
 "metadata": {
  "colab": {
   "provenance": []
  },
  "kernelspec": {
   "display_name": ".venv",
   "language": "python",
   "name": "python3"
  },
  "language_info": {
   "codemirror_mode": {
    "name": "ipython",
    "version": 3
   },
   "file_extension": ".py",
   "mimetype": "text/x-python",
   "name": "python",
   "nbconvert_exporter": "python",
   "pygments_lexer": "ipython3",
   "version": "3.10.11"
  }
 },
 "nbformat": 4,
 "nbformat_minor": 0
}
