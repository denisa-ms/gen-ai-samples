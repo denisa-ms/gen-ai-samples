{
 "cells": [
  {
   "attachments": {},
   "cell_type": "markdown",
   "metadata": {},
   "source": [
    "# RAG with Azure AI search"
   ]
  },
  {
   "cell_type": "code",
   "execution_count": 2,
   "metadata": {},
   "outputs": [
    {
     "data": {
      "text/plain": [
       "True"
      ]
     },
     "execution_count": 2,
     "metadata": {},
     "output_type": "execute_result"
    }
   ],
   "source": [
    "# Import required libraries\n",
    "import os\n",
    "import json\n",
    "from dotenv import load_dotenv\n",
    "\n",
    "from tenacity import retry, wait_random_exponential, stop_after_attempt\n",
    "from openai import AzureOpenAI\n",
    "from azure.core.credentials import AzureKeyCredential\n",
    "from azure.search.documents import SearchClient\n",
    "from azure.search.documents.indexes import SearchIndexClient\n",
    "from azure.search.documents.indexes.models import (\n",
    "    SimpleField,\n",
    "    SearchFieldDataType,\n",
    "    SearchableField,\n",
    "    SearchField,\n",
    "    VectorSearch,\n",
    "    HnswAlgorithmConfiguration,\n",
    "    VectorSearchProfile,\n",
    "    SemanticConfiguration,\n",
    "    SemanticPrioritizedFields,\n",
    "    SemanticField,\n",
    "    SemanticSearch,\n",
    "    SearchIndex,\n",
    "    AzureOpenAIVectorizer,\n",
    "    AzureOpenAIParameters\n",
    ")\n",
    "\n",
    "\n",
    "from azure.identity import DefaultAzureCredential, get_bearer_token_provider\n",
    "import json\n",
    "\n",
    "load_dotenv()"
   ]
  },
  {
   "cell_type": "code",
   "execution_count": 3,
   "metadata": {},
   "outputs": [],
   "source": [
    "# Configure environment variables\n",
    "service_endpoint = os.getenv(\"AZURE_SEARCH_SERVICE_ENDPOINT\")\n",
    "index_name = os.getenv(\"AZURE_SEARCH_INDEX_NAME\")\n",
    "key = os.getenv(\"AZURE_SEARCH_ADMIN_KEY\")\n",
    "\n",
    "OPENAI_ADA_EMBEDDING_DEPLOYMENT_NAME = os.getenv(\"OPENAI_ADA_EMBEDDING_DEPLOYMENT_NAME\")\n",
    "OPENAI_DEPLOYMENT_ENDPOINT = os.getenv(\"OPENAI_DEPLOYMENT_ENDPOINT\")\n",
    "OPENAI_API_KEY = os.getenv(\"OPENAI_API_KEY\")\n",
    "azure_openai_embedding_dimensions = 1536\n",
    "index_name = \"product_data_csv\"\n",
    "\n",
    "credential = AzureKeyCredential(key)"
   ]
  },
  {
   "cell_type": "code",
   "execution_count": 4,
   "metadata": {},
   "outputs": [],
   "source": [
    "# Configure OpenAI API\n",
    "aoai_client = AzureOpenAI(\n",
    "  azure_endpoint = OPENAI_DEPLOYMENT_ENDPOINT, \n",
    "  api_key=OPENAI_API_KEY,  \n",
    "  api_version=\"2023-05-15\"\n",
    ")\n",
    "credential = AzureKeyCredential(key)"
   ]
  },
  {
   "cell_type": "code",
   "execution_count": 5,
   "metadata": {},
   "outputs": [],
   "source": [
    "from azure.search.documents.models import VectorizedQuery\n",
    "\n",
    "search_client = SearchClient(endpoint=service_endpoint, index_name=index_name, credential=credential)\n",
    "\n",
    "# Generate Document Embeddings using OpenAI Ada Model\n",
    "@retry(wait=wait_random_exponential(min=1, max=20), stop=stop_after_attempt(6))\n",
    "# Function to generate embeddings for title and content fields, also used for query embeddings\n",
    "def calc_embeddings(text):\n",
    "    # model = \"deployment_name\"\n",
    "    embeddings = aoai_client.embeddings.create(input = [text], model=OPENAI_ADA_EMBEDDING_DEPLOYMENT_NAME).data[0].embedding\n",
    "    return embeddings\n",
    "\n",
    "def do_search(query, fields):\n",
    "    embedding = calc_embeddings(query)\n",
    "    vector_query = VectorizedQuery(vector=embedding, k_nearest_neighbors=3, fields=fields)\n",
    "  \n",
    "    results = search_client.search(  \n",
    "        search_text=None,  \n",
    "        vector_queries= [vector_query],\n",
    "        select=[\"name\", \"description\"],\n",
    "    )  \n",
    "\n",
    "    for result in results:  \n",
    "        print(f\"Score: {result['@search.score']}\")  \n",
    "        print(f\"Name: {result['name']}\")  \n",
    "        print(f\"Description: {result['description']}\\n\")  "
   ]
  },
  {
   "cell_type": "code",
   "execution_count": 6,
   "metadata": {},
   "outputs": [
    {
     "name": "stdout",
     "output_type": "stream",
     "text": [
      "Score: 0.88662547\n",
      "Name: Cuisinart Countertop Griddler - GR4\n",
      "Description: Cuisinart Countertop Griddler - GR4/ Nonstick Grill/ Knob Selector/ Light Indicator/ Temperature Controls/ Cleaning/Scraping Tool Included\n",
      "\n",
      "Score: 0.87544817\n",
      "Name: Weber Cast Iron Griddle - 7531\n",
      "Description: Weber Cast Iron Griddle - 7531/ Heavy-Duty Cast Iron Griddle/ Fits Weber Genesis Silver A & Spirit 500 Gas Grills\n",
      "\n",
      "Score: 0.8752122\n",
      "Name: Weber Cast Iron Griddle - 7542\n",
      "Description: Weber Cast Iron Griddle - 7542/ Heavy-Duty Cast Iron Griddle/ Two-Sided For Cooking A Variety Of Foods/ Fits Several Weber Grills\n",
      "\n"
     ]
    }
   ],
   "source": [
    "# Pure Vector Search\n",
    "do_search(\"nonstick grills\", \"description_embedding\")\n",
    "\n",
    "# We get non stick grills as the top result and cast iron grills as the second and third result\n"
   ]
  },
  {
   "cell_type": "code",
   "execution_count": 14,
   "metadata": {},
   "outputs": [
    {
     "name": "stdout",
     "output_type": "stream",
     "text": [
      "Score: 0.03333333507180214\n",
      "Name: Cuisinart Countertop Griddler - GR4\n",
      "Description: Cuisinart Countertop Griddler - GR4/ Nonstick Grill/ Knob Selector/ Light Indicator/ Temperature Controls/ Cleaning/Scraping Tool Included\n",
      "\n",
      "Score: 0.032786883413791656\n",
      "Name: Weber Cast Iron Griddle - 7531\n",
      "Description: Weber Cast Iron Griddle - 7531/ Heavy-Duty Cast Iron Griddle/ Fits Weber Genesis Silver A & Spirit 500 Gas Grills\n",
      "\n",
      "Score: 0.032258063554763794\n",
      "Name: Weber Cast Iron Griddle - 7542\n",
      "Description: Weber Cast Iron Griddle - 7542/ Heavy-Duty Cast Iron Griddle/ Two-Sided For Cooking A Variety Of Foods/ Fits Several Weber Grills\n",
      "\n"
     ]
    }
   ],
   "source": [
    "# Cross fieldPure Vector Search\n",
    "do_search(\"nonstick grills\", \"name_embedding, description_embedding\")\n"
   ]
  },
  {
   "cell_type": "code",
   "execution_count": 16,
   "metadata": {},
   "outputs": [
    {
     "name": "stdout",
     "output_type": "stream",
     "text": [
      "Score: 0.0416666679084301\n",
      "Name: Cuisinart Countertop Griddler - GR4\n",
      "Description: Cuisinart Countertop Griddler - GR4/ Nonstick Grill/ Knob Selector/ Light Indicator/ Temperature Controls/ Cleaning/Scraping Tool Included\n",
      "\n",
      "Score: 0.04098360240459442\n",
      "Name: Weber Cast Iron Griddle - 7531\n",
      "Description: Weber Cast Iron Griddle - 7531/ Heavy-Duty Cast Iron Griddle/ Fits Weber Genesis Silver A & Spirit 500 Gas Grills\n",
      "\n",
      "Score: 0.04032257944345474\n",
      "Name: Weber Cast Iron Griddle - 7542\n",
      "Description: Weber Cast Iron Griddle - 7542/ Heavy-Duty Cast Iron Griddle/ Two-Sided For Cooking A Variety Of Foods/ Fits Several Weber Grills\n",
      "\n"
     ]
    }
   ],
   "source": [
    "# Pure Multi-Vector weighted Search\n",
    "from azure.search.documents.models import VectorizableTextQuery\n",
    "query = \"nonstick grills\"  \n",
    "\n",
    "vector_query_1 = VectorizableTextQuery(text=query, k_nearest_neighbors=3, fields=\"name_embedding\", weight=2)\n",
    "vector_query_2 = VectorizableTextQuery(text=query, k_nearest_neighbors=3, fields=\"description_embedding\", weight=0.5)\n",
    "\n",
    "results = search_client.search(  \n",
    "    search_text=None,  \n",
    "    vector_queries=[vector_query_1, vector_query_2],\n",
    "    select=[\"name\", \"description\"],\n",
    ")  \n",
    "  \n",
    "for result in results:  \n",
    "    print(f\"Score: {result['@search.score']}\")  \n",
    "    print(f\"Name: {result['name']}\")  \n",
    "    print(f\"Description: {result['description']}\\n\")  "
   ]
  },
  {
   "cell_type": "markdown",
   "metadata": {},
   "source": [
    "#### Perform a Pure Vector Search with a filter\n",
    "In my case I don't have a category field in my index, so I will put the code sample for reference only   \n",
    "#### THIS CODE BELOW WILL NOT WORK UNLESS YOU HAVE A COLUMN TO FILTER BY!!!"
   ]
  },
  {
   "cell_type": "code",
   "execution_count": null,
   "metadata": {},
   "outputs": [],
   "source": [
    "# Perform a Pure Vector Search with a filter\n",
    "# in my case I don't have a category field in my index, so I will put the code sample for reference only \n",
    "# THIS CODE BELOW WILL NOT WORK UNLESS YOU HAVE A COLUMN TO FILTER BY!!!\n",
    "\n",
    "from azure.search.documents.models import VectorFilterMode\n",
    "\n",
    "# Pure Vector Search\n",
    "query = \"nonstick grills\"  \n",
    "  \n",
    "vector_query = VectorizableTextQuery(text=query, k_nearest_neighbors=3, fields=\"description_embedding\")\n",
    "\n",
    "results = search_client.search(  \n",
    "    search_text=None,  \n",
    "    vector_queries= [vector_query],\n",
    "    vector_filter_mode=VectorFilterMode.PRE_FILTER,\n",
    "    filter=\"category eq 'grills'\",\n",
    "    select=[\"name\", \"description\"],\n",
    ")\n",
    "  \n",
    "for result in results:  \n",
    "    print(f\"Score: {result['@search.score']}\")  \n",
    "    print(f\"Name: {result['name']}\")  \n",
    "    print(f\"Description: {result['description']}\\n\") "
   ]
  }
 ],
 "metadata": {
  "kernelspec": {
   "display_name": "Python 3",
   "language": "python",
   "name": "python3"
  },
  "language_info": {
   "codemirror_mode": {
    "name": "ipython",
    "version": 3
   },
   "file_extension": ".py",
   "mimetype": "text/x-python",
   "name": "python",
   "nbconvert_exporter": "python",
   "pygments_lexer": "ipython3",
   "version": "3.10.11"
  },
  "orig_nbformat": 4
 },
 "nbformat": 4,
 "nbformat_minor": 2
}
