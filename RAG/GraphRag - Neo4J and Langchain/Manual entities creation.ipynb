{
 "cells": [
  {
   "cell_type": "markdown",
   "metadata": {},
   "source": [
    "### **Load Environment variables from .env file**"
   ]
  },
  {
   "cell_type": "code",
   "execution_count": 1,
   "metadata": {},
   "outputs": [],
   "source": [
    "from langchain_openai import AzureOpenAIEmbeddings\n",
    "from dotenv import load_dotenv\n",
    "import os\n",
    "from IPython.display import display, HTML, JSON, Markdown, Image\n",
    "from langchain.text_splitter import RecursiveCharacterTextSplitter\n",
    "from langchain_openai import AzureOpenAIEmbeddings\n",
    "from langchain_community.document_loaders import PyPDFLoader\n",
    "from tenacity import retry, wait_random_exponential, stop_after_attempt\n",
    "from openai import AzureOpenAI\n",
    "import textwrap\n",
    "import pandas as pd\n",
    "\n",
    "\n",
    "load_dotenv()\n",
    "OPENAI_API_KEY = os.getenv(\"OPENAI_API_KEY\")\n",
    "OPENAI_DEPLOYMENT_ENDPOINT = os.getenv(\"OPENAI_DEPLOYMENT_ENDPOINT\")\n",
    "OPENAI_GPT4_32k_DEPLOYMENT_NAME = os.getenv(\"OPENAI_GPT4_32k_DEPLOYMENT_NAME\")\n",
    "OPENAI_ADA_EMBEDDING_DEPLOYMENT_NAME = os.getenv(\"OPENAI_ADA_EMBEDDING_DEPLOYMENT_NAME\")\n",
    "api_version = \"2024-02-01\"\n",
    "\n",
    "\n",
    "# define embeddings \n",
    "embeddings = AzureOpenAIEmbeddings(\n",
    "    model=OPENAI_ADA_EMBEDDING_DEPLOYMENT_NAME,\n",
    "    azure_endpoint=OPENAI_DEPLOYMENT_ENDPOINT,\n",
    "    openai_api_version=api_version,\n",
    "    chunk_size = 1\n",
    ")\n",
    "\n",
    "# call OpenAI to get the answer\n",
    "clientOpenAI = AzureOpenAI(\n",
    "  azure_endpoint = OPENAI_DEPLOYMENT_ENDPOINT, \n",
    "  api_key=OPENAI_API_KEY,  \n",
    "  api_version=\"2023-05-15\"\n",
    ")\n"
   ]
  },
  {
   "cell_type": "code",
   "execution_count": 2,
   "metadata": {},
   "outputs": [],
   "source": [
    "def call_openAI_for_final_answer(question, answer):\n",
    "    prompt = 'Question: {}'.format(question) + '\\n' + 'Information: {}'.format(answer)\n",
    "    # prepare prompt\n",
    "    messages = [{\"role\": \"system\", \"content\": \"You are a HELPFUL assistant answering users questions. Answer the question using the provided information and do not add anything else.\"},\n",
    "            {\"role\": \"user\", \"content\": prompt}]\n",
    "    return call_openAI(messages)\n",
    "\n",
    "@retry(wait=wait_random_exponential(min=1, max=20), stop=stop_after_attempt(6))\n",
    "def call_openAI(messages):\n",
    "    response = clientOpenAI.chat.completions.create(\n",
    "        model=OPENAI_GPT4_32k_DEPLOYMENT_NAME,\n",
    "        messages = messages,\n",
    "        temperature=0.7,\n",
    "        max_tokens=800,\n",
    "        top_p=0.95,\n",
    "        frequency_penalty=0,\n",
    "        presence_penalty=0,\n",
    "        stop=None\n",
    "    )\n",
    "\n",
    "    return response.choices[0].message.content\n",
    "\n",
    "#we use the tenacity library to create delays and retries when calling openAI embeddings to avoid hitting throttling limits\n",
    "@retry(wait=wait_random_exponential(min=1, max=20), stop=stop_after_attempt(6))\n",
    "def calc_embeddings(text):\n",
    "    deployment = OPENAI_ADA_EMBEDDING_DEPLOYMENT_NAME\n",
    "    # replace newlines, which can negatively affect performance.\n",
    "    txt = text.replace(\"\\n\", \" \")\n",
    "    return embeddings.embed_query(txt)\n",
    "\n",
    "def prettyprint(text: str) -> str:\n",
    "    print(textwrap.fill(text, 60))"
   ]
  },
  {
   "cell_type": "code",
   "execution_count": 3,
   "metadata": {},
   "outputs": [],
   "source": [
    "#Use GPT-4 to extract entities from a text\n",
    "def extract_entities(text):\n",
    "    system_message = \"\"\"\n",
    "        You are an assistant designed to extract entities from a text. \n",
    "        Users will paste in a string of text and you will respond with entities you have extracted from the text as a JSON object.\n",
    "        Here is an example of your output format:{aircraft_make:'',accident_number:'',aircraft_damage:'',city:'', state:'', country:'', phase_of_operation:'', pilot_flight_hours:'', injuries:[], engine_manufacturer:'', probable_cause:'', findings:[], ocurrence:[]}\n",
    "    \"\"\"\n",
    "    messages = [{\"role\":\"system\",\"content\":system_message},{\"role\":\"user\",\"content\":text}]\n",
    "    response = call_openAI(messages)\n",
    "    return response"
   ]
  },
  {
   "cell_type": "code",
   "execution_count": 4,
   "metadata": {},
   "outputs": [
    {
     "name": "stdout",
     "output_type": "stream",
     "text": [
      "['20071229X02007.pdf', '20071231X02009.pdf', '20080102X00002.pdf', '20080102X00005.pdf', '20080117X00064.pdf', '20080117X00072.pdf', '20080122X00080.pdf', '20080123X00097.pdf', '20080124X00100.pdf', '20080124X00101.pdf', 'processed', 'test']\n",
      "Number of pages:  4\n",
      "Entities:  {\"aircraft_make\":\"Piper PA-22-150\",\"accident_number\":\"NYC08CA055\",\"aircraft_damage\":\"Substantial\",\"city\":\"Tallahassee\", \"state\":\"FL\", \"country\":\"USA\", \"phase_of_operation\":\"Approach\", \"pilot_flight_hours\":2319, \"injuries\":[1], \"engine_manufacturer\":\"Lycoming\", \"probable_cause\":\"The pilot's misjudged clearance over obstacles during final approach.\", \"findings\":[\"In flight collision with object\", \"Tree(s)\", \"Altitude/Clearance - Misjudged\"], \"ocurrence\":[\"In flight collision with object\"]}\n",
      "Number of pages:  4\n",
      "Entities:  {\"aircraft_make\": \"Beech A23\", \"accident_number\": \"SEA08CA049\", \"aircraft_damage\": \"Substantial\", \"city\": \"Death Valley\", \"state\": \"CA\", \"country\": \"US\", \"phase_of_operation\": [\"LANDING - FLARE/TOUCHDOWN\", \"LANDING - ROLL\"], \"pilot_flight_hours\": 119, \"injuries\": [\"1 None\"], \"engine_manufacturer\": \"Continental\", \"probable_cause\": \"The pilot's improper flare during landing.\", \"findings\": [\"FLARE - IMPROPER - PILOT IN COMMAND\", \"TERRAIN CONDITION - RUNWAY\"], \"occurrence\": [\"HARD LANDING\", \"NOSE DOWN\"]}\n",
      "Number of pages:  3\n",
      "Entities:  {\"aircraft_make\":\"Reims F172 M\",\"accident_number\":\"DEN08WA042\",\"aircraft_damage\":\"Destroyed\",\"city\":\"Chevroux\", \"state\":\"\", \"country\":\"France\", \"phase_of_operation\":\"\", \"pilot_flight_hours\":\"\", \"injuries\":[{\"type\":\"fatal\", \"count\":1}], \"engine_manufacturer\":\"Lycoming\", \"probable_cause\":\"\", \"findings\":[\"The airplane collided with the ground in bad weather conditions\"], \"ocurrence\":[\"The flight originated from Chalon (LFLH) and was en route to Bourg (LFHS), France.\", \"A postimpact fire ensued.\"]}\n",
      "Number of pages:  4\n",
      "Entities:  {\"city\": \"Belen\", \"state\": \"NM\", \"accident_number\": \"DEN08CA034\", \"date_time\": \"11/27/2007, 1100 MST\", \"aircraft_registration\": \"N74SR\", \"aircraft_make\": \"Godwin, David P Sorrell SNJ-7\", \"aircraft_damage\": \"Substantial\", \"injuries\": [\"1 None\"], \"phase_of_operation\": \"LANDING - ROLL\", \"pilot_flight_hours\": \"1364 hours\", \"engine_manufacturer\": \"Lycoming\", \"probable_cause\": \"the pilot's loss of directional control during landing resulting in a ground loop.\", \"findings\": [\"DIRECTIONAL CONTROL - NOT MAINTAINED - PILOT IN COMMAND\", \"GROUND LOOP/SWERVE - INADVERTENT - PILOT IN COMMAND\"], \"ocurrence\": [\"LOSS OF CONTROL - ON GROUND/WATER\"]}\n",
      "Number of pages:  3\n",
      "Entities:  {\"city\": \"Charlestown\", \"state\": \"St Kitts And Nevis\", \"accident_number\": \"NYC08WA076\", \"aircraft_make\": \"Bombardier, Inc. BD-700-1A11\", \"aircraft_damage\": \"Substantial\", \"country\": \"\", \"phase_of_operation\": \"landing\", \"pilot_flight_hours\": \"\", \"injuries\": [{\"crew_injuries\": \"2 None\"}, {\"passenger_injuries\": \"2 None\"}], \"engine_manufacturer\": \"\", \"probable_cause\": \"\", \"findings\": [\"airplane struck approach lights and a fence about 56 feet prior to the runway threshold\", \"airplane sustained damage to the rear fuselage, right flap, and right main landing gear\"], \"ocurrence\": [\"12/12/2007, 0826 EST\"]}\n",
      "Number of pages:  4\n",
      "Entities:  {\"aircraft_make\":\"Cessna 172S\",\"accident_number\":\"SEA08CA052\",\"aircraft_damage\":\"Substantial\",\"city\":\"Fullerton\", \"state\":\"CA\", \"country\":\"USA\", \"phase_of_operation\":\"TAXI - FROM LANDING\", \"pilot_flight_hours\":102, \"injuries\":[\"1 None\"], \"engine_manufacturer\":\"Lycoming\", \"probable_cause\":\"The pilot's failure to maintain clearance while taxiing. Contributing to the accident was the pilot's diverted attention.\", \"findings\":[\"ON GROUND/WATER COLLISION WITH OBJECT\", \"OBJECT - BUILDING(NONRESIDENTIAL)\", \"(C) CLEARANCE - NOT MAINTAINED - PILOT IN COMMAND\", \"(F) DIVERTED ATTENTION - PILOT IN COMMAND\"], \"ocurrence\":[\"ON GROUND/WATER COLLISION WITH OBJECT\"]}\n",
      "Number of pages:  4\n",
      "Entities:  {\"aircraft_make\":\"Piper PA-28-140\", \"accident_number\":\"NYC08CA040\", \"aircraft_damage\":\"Substantial\", \"city\":\"Murfreesboro\", \"state\":\"TN\", \"country\":\"USA\", \"phase_of_operation\":\"LANDING\", \"pilot_flight_hours\":{\"flight_instructor\":{\"total_flight_hours\":435, \"last_90_days\":69, \"last_30_days\":22, \"last_24_hours\":2}, \"student_pilot\":{\"total_flight_hours\":42, \"last_90_days\":33, \"last_30_days\":11}}, \"injuries\":{\"crew\":2, \"passenger\":\"N/A\", \"ground\":\"N/A\"}, \"engine_manufacturer\":\"Lycoming\", \"probable_cause\":\"The flight instructor's inadequate remedial action and failure to maintain runway alignment.\", \"findings\":[\"DISTANCE/ALTITUDE - MISJUDGED - DUAL STUDENT\", \"FLARE - IMPROPER - DUAL STUDENT\", \"(C) REMEDIAL ACTION - INADEQUATE - PILOT IN COMMAND(CFI)\", \"(C) PROPER ALIGNMENT - NOT MAINTAINED - PILOT IN COMMAND(CFI)\", \"TERRAIN CONDITION - GRASS\"], \"occurrence\":[\"ON GROUND/WATER ENCOUNTER WITH TERRAIN/WATER\"]}\n",
      "Number of pages:  4\n",
      "Entities:  {\"aircraft_make\":\"Piper PA-31T\",\"accident_number\":\"NYC08CA073\",\"aircraft_damage\":\"Substantial\",\"city\":\"Muscle Shoals\",\"state\":\"AL\",\"country\":\"USA\",\"phase_of_operation\":\"LANDING - FLARE/TOUCHDOWN\",\"pilot_flight_hours\":{\"total\":10127,\"total_this_make_and_model\":1500,\"pilot_in_command\":8768,\"last_90_days\":79,\"last_30_days\":37},\"injuries\":{\"crew\":0,\"passengers\":0,\"ground\":null},\"engine_manufacturer\":\"Pratt & Whitney Canada\",\"probable_cause\":\"The pilot's failure to lower the landing gear.\",\"findings\":[\"WHEELS UP LANDING - INADVERTENT - PILOT IN COMMAND\"],\"ocurrence\":[\"WHEELS UP LANDING\"]}\n",
      "Number of pages:  5\n",
      "Entities:  {\"aircraft_make\":\"Fisher Aero Celebrity\", \"accident_number\":\"NYC08CA058\", \"aircraft_damage\":\"Substantial\", \"city\":\"White Plains\", \"state\":\"AL\", \"country\":\"USA\", \"phase_of_operation\":[\"CRUISE\", \"EMERGENCY DESCENT/LANDING\", \"EMERGENCY LANDING\"], \"pilot_flight_hours\":11423, \"injuries\":[\"None\"], \"engine_manufacturer\":\"Continental\", \"probable_cause\":\"A propeller failure during cruise flight\", \"findings\":[\"PROPELLER SYSTEM/ACCESSORIES - DISINTEGRATED\", \"TERRAIN CONDITION - PLOWED/FURROWED\"], \"ocurrence\":[\"PROPELLER FAILURE/MALFUNCTION\", \"FORCED LANDING\", \"ON GROUND/WATER ENCOUNTER WITH TERRAIN/WATER\"]}\n",
      "Number of pages:  4\n",
      "Entities:  {\"aircraft_make\":\"Cessna 170B\",\"accident_number\":\"NYC08CA068\",\"aircraft_damage\":\"Substantial\",\"city\":\"Alton\", \"state\":\"NH\", \"country\":\"USA\", \"phase_of_operation\":\"MANEUVERING\", \"pilot_flight_hours\":\"1700\", \"injuries\":[{\"crew\":1, \"passenger\":3, \"ground\":\"N/A\"}], \"engine_manufacturer\":\"Continental\", \"probable_cause\":\"The pilot's failure to maintain clearance above a frozen lake while maneuvering\", \"findings\":[\"TERRAIN CONDITION - WATER,FROZEN\",\"ALTITUDE/CLEARANCE - NOT MAINTAINED - PILOT IN COMMAND\",\"LIGHT CONDITION - OTHER\",\"LOW ALTITUDE FLIGHT/MANEUVER - ATTEMPTED - PILOT IN COMMAND\"], \"ocurrence\":[\"IN FLIGHT COLLISION WITH TERRAIN/WATER\"]}\n"
     ]
    }
   ],
   "source": [
    "# splitting into 1000 char long chunks with 30 char overlap\n",
    "# split [\"\\n\\n\", \"\\n\", \" \", \"\"]\n",
    "import uuid\n",
    "splitter = RecursiveCharacterTextSplitter(\n",
    "    chunk_size=5000,\n",
    "    chunk_overlap=100,\n",
    ")\n",
    "\n",
    "pdf_folder_path = \"./data/test/\"\n",
    "print(os.listdir(pdf_folder_path))\n",
    "\n",
    "# read the pdf files and split them into chunks, extract entities and calculate embeddings\n",
    "embeddings_df = pd.DataFrame(columns=['document_id','document_name', 'content', 'embedding'])\n",
    "entities_df = pd.DataFrame(columns=['document_id','document_name', 'entities'])\n",
    "\n",
    "for file in os.listdir(pdf_folder_path):\n",
    "    if file.endswith('.pdf'):\n",
    "        # generate a unique guid for the document\n",
    "        id = uuid.uuid4()\n",
    "        pdf_path = os.path.join(pdf_folder_path, file)\n",
    "        loader = PyPDFLoader(pdf_path)\n",
    "        # calculate embeddings\n",
    "        pages = loader.load_and_split(text_splitter=splitter)\n",
    "        print(\"Number of pages: \", len(pages))\n",
    "        all_pages = ''\n",
    "        for page in pages:\n",
    "            #save all the pages into a pandas dataframe\n",
    "            embeddings_df.loc[len(embeddings_df.index)] = [id, file, page.page_content, \"\"]  \n",
    "            all_pages += page.page_content\n",
    "\n",
    "        # extract entities from the whole document - we assume the document is less than 32k tokens (we are using GPT4 32k model)\n",
    "        entities = (extract_entities(all_pages))\n",
    "        print(\"Entities: \", entities)\n",
    "        entities_df.loc[len(entities_df.index)] = [id, file, entities]  \n"
   ]
  },
  {
   "cell_type": "code",
   "execution_count": null,
   "metadata": {},
   "outputs": [],
   "source": [
    "# calculate the embeddings using openAI ada \n",
    "embeddings_df[\"embedding\"] = embeddings_df.content.apply(lambda x: calc_embeddings(x))\n",
    "\n",
    "# save the dataframes to csv files\n",
    "entities_df.to_csv('./data/processed/entities.csv', index=False)\n",
    "embeddings_df.to_csv('./data/processed/embedddings.csv', index=False)\n"
   ]
  },
  {
   "cell_type": "code",
   "execution_count": 9,
   "metadata": {},
   "outputs": [],
   "source": [
    "# read the entities csv into a pandas dataframe\n",
    "import pandas as pd\n",
    "\n",
    "entities_df = pd.read_csv(\"./data/processed/entities.csv\")\n",
    "embeddings_df = pd.read_csv(\"./data/processed/embeddings.csv\")\n"
   ]
  },
  {
   "cell_type": "code",
   "execution_count": 11,
   "metadata": {},
   "outputs": [],
   "source": [
    "import json \n",
    "# add entities to the graph\n",
    "for index, row in entities_df.iterrows():\n",
    "    document_id = row[\"document_id\"]\n",
    "    document_name = row[\"document_name\"]\n",
    "    entities_json = row[\"entities\"] \n",
    "\n",
    "    entities = json.loads(entities_json)\n",
    "    accident = Accident.nodes.first_or_none(document_name=document_name)\n",
    "    if accident == None:\n",
    "        accident = Accident(name=document_name).save() \n",
    "        accident.accident_number = get_json_key(entities,\"accident_number\")\n",
    "        accident.aircraft_make = get_json_key(entities,\"aircraft_make\")\n",
    "        accident.aircraft_damage = get_json_key(entities,\"aircraft_damage\")\n",
    "        accident.phase_of_operation = get_json_key(entities,\"phase_of_operation\")\n",
    "        accident.save() \n",
    "\n",
    "        city_name = get_json_key(entities,\"city\")\n",
    "        state_name = get_json_key(entities,\"state\")\n",
    "        country_name = get_json_key(entities,\"country\")\n",
    "\n",
    "        city = City.nodes.first_or_none(name=city_name)\n",
    "        if city == None:\n",
    "            city = City(name=city_name).save()\n",
    "        accident.city.connect(city)\n",
    "        \n",
    "        state = State.nodes.first_or_none(name=state_name)\n",
    "        if state == None:\n",
    "            state = State(name=state_name).save()\n",
    "        city.state.connect(state)\n",
    "\n",
    "        country = Country.nodes.first_or_none(name=country_name)\n",
    "        if country == None:\n",
    "            country = Country(name=country_name).save()\n",
    "        state.country.connect(country)"
   ]
  },
  {
   "cell_type": "code",
   "execution_count": 14,
   "metadata": {},
   "outputs": [],
   "source": [
    "from langchain_community.graphs import Neo4jGraph\n",
    "graph = Neo4jGraph()\n",
    "graph.connect(uri=NEO4J_URI, user=NEO4J_USERNAME, password=NEO4J_PASSWORD)\n",
    "\n",
    "graph.add_graph_documents(\n",
    "  pages, \n",
    "  baseEntityLabel=True, \n",
    "  include_source=True\n",
    ")\n",
    "\n",
    "neo4j_url = \"neo4j+s://{}:7687\".format(NEO4J_URI)\n",
    "\n",
    "\n",
    "vector_index = Neo4jVector.from_existing_graph(\n",
    "    embeddings,\n",
    "    search_type=\"hybrid\",\n",
    "    node_label=\"Document\",\n",
    "    text_node_properties=[\"text\"],\n",
    "    embedding_node_property=\"embedding\",\n",
    "    url=neo4j_url,\n",
    "    username=NEO4J_USERNAME,\n",
    "    password=NEO4J_PASSWORD\n",
    ")\n",
    "\n",
    "\n",
    "def query_neo4j_vector(query):\n",
    "    try:\n",
    "        results = vector_index.similarity_search(query)\n",
    "        vector_index._driver.close()\n",
    "        return results[0].page_content\n",
    "    except Exception as e:\n",
    "        print(f\"[ERROR] {e}\")"
   ]
  },
  {
   "cell_type": "code",
   "execution_count": 18,
   "metadata": {},
   "outputs": [],
   "source": [
    "query = \"How many accident reports are there?\"\n",
    "\n",
    "results = vector_index.similarity_search(query, k=3)\n",
    "# print(results[0].page_content)"
   ]
  },
  {
   "cell_type": "code",
   "execution_count": 19,
   "metadata": {},
   "outputs": [
    {
     "ename": "NameError",
     "evalue": "name 'graph' is not defined",
     "output_type": "error",
     "traceback": [
      "\u001b[1;31m---------------------------------------------------------------------------\u001b[0m",
      "\u001b[1;31mNameError\u001b[0m                                 Traceback (most recent call last)",
      "Cell \u001b[1;32mIn[19], line 3\u001b[0m\n\u001b[0;32m      1\u001b[0m \u001b[38;5;28;01mfrom\u001b[39;00m \u001b[38;5;21;01mlangchain\u001b[39;00m\u001b[38;5;21;01m.\u001b[39;00m\u001b[38;5;21;01mchains\u001b[39;00m \u001b[38;5;28;01mimport\u001b[39;00m GraphCypherQAChain\n\u001b[1;32m----> 3\u001b[0m chain \u001b[38;5;241m=\u001b[39m GraphCypherQAChain\u001b[38;5;241m.\u001b[39mfrom_llm(graph\u001b[38;5;241m=\u001b[39m\u001b[43mgraph\u001b[49m, llm\u001b[38;5;241m=\u001b[39mllm, verbose\u001b[38;5;241m=\u001b[39m\u001b[38;5;28;01mTrue\u001b[39;00m)\n\u001b[0;32m      4\u001b[0m response \u001b[38;5;241m=\u001b[39m chain\u001b[38;5;241m.\u001b[39minvoke({\u001b[38;5;124m\"\u001b[39m\u001b[38;5;124mquery\u001b[39m\u001b[38;5;124m\"\u001b[39m: \u001b[38;5;124m\"\u001b[39m\u001b[38;5;124mHow many accident reports are there?\u001b[39m\u001b[38;5;124m\"\u001b[39m})\n\u001b[0;32m      5\u001b[0m response\n",
      "\u001b[1;31mNameError\u001b[0m: name 'graph' is not defined"
     ]
    }
   ],
   "source": [
    "from langchain.chains import GraphCypherQAChain\n",
    "\n",
    "chain = GraphCypherQAChain.from_llm(graph=graph, llm=llm, verbose=True)\n",
    "response = chain.invoke({\"query\": \"How many accident reports are there?\"})\n",
    "response"
   ]
  },
  {
   "cell_type": "code",
   "execution_count": null,
   "metadata": {},
   "outputs": [],
   "source": [
    "from langchain.chains import RetrievalQA\n",
    "\n",
    "qa_graph_chain = RetrievalQA.from_chain_type(\n",
    "    llm, retriever=vector_index.as_retriever(), verbose = True\n",
    ")\n",
    "\n",
    "result = qa_graph_chain({\"query\": \"Considering the financial crisis and resistance to reform by the Ancien Régime, how did the convocation of the Estates General in May 1789 specifically address these multifaceted issues?\"})\n",
    "result[\"result\"]"
   ]
  }
 ],
 "metadata": {
  "kernelspec": {
   "display_name": ".venv",
   "language": "python",
   "name": "python3"
  },
  "language_info": {
   "codemirror_mode": {
    "name": "ipython",
    "version": 3
   },
   "file_extension": ".py",
   "mimetype": "text/x-python",
   "name": "python",
   "nbconvert_exporter": "python",
   "pygments_lexer": "ipython3",
   "version": "3.10.11"
  },
  "orig_nbformat": 4
 },
 "nbformat": 4,
 "nbformat_minor": 2
}
