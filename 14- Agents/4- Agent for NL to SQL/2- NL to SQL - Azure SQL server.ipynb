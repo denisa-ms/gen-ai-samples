{
 "cells": [
  {
   "cell_type": "markdown",
   "metadata": {},
   "source": [
    "This notebook demonstrates a basic SQL agent that translates natural language questions into SQL queries."
   ]
  },
  {
   "cell_type": "code",
   "execution_count": null,
   "metadata": {},
   "outputs": [],
   "source": [
    "import json\n",
    "import os\n",
    "from typing import Annotated, Dict\n",
    "\n",
    "from autogen import ConversableAgent, UserProxyAgent, ConversationPattern, AssistantAgent, config_list_from_json\n",
    "from dotenv import load_dotenv\n",
    "import autogen\n",
    "from typing import Annotated\n",
    "from openai import AzureOpenAI\n",
    "import sqlite3\n",
    "from langchain.agents import create_sql_agent\n",
    "from langchain.agents.agent_toolkits import SQLDatabaseToolkit\n",
    "from langchain.utilities.sql_database import SQLDatabase\n",
    "from langchain.llms import OpenAI\n",
    "\n",
    "load_dotenv()\n",
    "AZURE_OPENAI_ENDPOINT=os.getenv(\"AISTUDIO_AZURE_OPENAI_ENDPOINT\")\n",
    "AZURE_OPENAI_GPT4o_DEPLOYMENT=os.getenv(\"AI_STUDIO_AZURE_OPENAI_GPT4o_DEPLOYMENT\")\n",
    "AZURE_OPENAI_API_VERSION=\"2024-02-01\"\n",
    "AZURE_OPENAI_KEY=os.getenv(\"AISTUDIO_AZURE_OPENAI_KEY\")\n",
    "OPENAI_ADA_EMBEDDING_DEPLOYMENT_NAME = os.getenv(\"OPENAI_ADA_EMBEDDING_DEPLOYMENT_NAME\")\n"
   ]
  },
  {
   "cell_type": "code",
   "execution_count": 3,
   "metadata": {},
   "outputs": [],
   "source": [
    "llm = AzureOpenAI(\n",
    "        azure_endpoint=AZURE_OPENAI_ENDPOINT,\n",
    "        api_key=AZURE_OPENAI_KEY,\n",
    "        api_version=AZURE_OPENAI_API_VERSION\n",
    ")"
   ]
  },
  {
   "cell_type": "markdown",
   "metadata": {},
   "source": [
    "## Agent Implementation\n",
    "\n",
    "Using AutoGen, a SQL agent can be implemented with a ConversableAgent. It executes the generated SQL query and the agent can take execution results as feedback to improve its generation in multiple rounds of conversations."
   ]
  },
  {
   "cell_type": "code",
   "execution_count": 4,
   "metadata": {},
   "outputs": [],
   "source": [
    "llm_config = {\n",
    "    \"cache_seed\": 43,  # change the cache_seed for different trials\n",
    "    \"temperature\": 0,\n",
    "    \"timeout\": 120,  # in seconds\n",
    "    \"config_list\": \n",
    "    [\n",
    "        {\n",
    "            \"model\": AZURE_OPENAI_GPT4o_DEPLOYMENT,\n",
    "            \"api_type\": \"azure\",\n",
    "            \"api_key\": AZURE_OPENAI_KEY,\n",
    "            \"base_url\": AZURE_OPENAI_ENDPOINT,\n",
    "            \"api_version\": AZURE_OPENAI_API_VERSION\n",
    "        }\n",
    "    ]\n",
    "}\n",
    "\n",
    "\n",
    "def check_termination(msg: Dict):\n",
    "    if \"tool_responses\" not in msg:\n",
    "        return False\n",
    "    json_str = msg[\"tool_responses\"][0][\"content\"]\n",
    "    obj = json.loads(json_str)\n",
    "    return \"error\" not in obj or obj[\"error\"] is None and obj[\"reward\"] == 1\n",
    "\n",
    "sql_writer = ConversableAgent(\n",
    "    name=\"sql_writer\",\n",
    "    llm_config=llm_config,\n",
    "    system_message=\"You are good at writing SQL queries. Always respond with a function call to execute_sql().\",\n",
    "    is_termination_msg=check_termination,\n",
    "    human_input_mode=\"NEVER\",\n",
    ")\n",
    "\n",
    "assistant = autogen.AssistantAgent(\n",
    "    name=\"assistant\",\n",
    "    system_message=\"For coding tasks, only use the functions you have been provided with. Reply in natural language to the questions asked. Reply TERMINATE when the task is done.\",\n",
    "    llm_config=llm_config,\n",
    "    is_termination_msg=check_termination,\n",
    "    human_input_mode=\"NEVER\",\n",
    ")\n",
    "\n",
    "user_proxy = UserProxyAgent(\"user_proxy\", human_input_mode=\"NEVER\", max_consecutive_auto_reply=5, code_execution_config={\"work_dir\":\"coding\", \"use_docker\":False})\n",
    "\n",
    "@sql_writer.register_for_llm(description=\"Function for executing SQL query and returning a response\")\n",
    "@user_proxy.register_for_execution()\n",
    "def execute_sql(sql: Annotated[str, \"SQL query\"]) -> Annotated[str, \"results\"]:\n",
    "    database = 'bookstore.db'\n",
    "\n",
    "    conn = sqlite3.connect(database)\n",
    "    cur = conn.cursor()\n",
    "\n",
    "    try:\n",
    "        cur.execute(sql)\n",
    "        rows = cur.fetchall()\n",
    "        return rows\n",
    "    finally:\n",
    "        cur.close()\n",
    "        conn.close()\n",
    "\n",
    "group_chat = autogen.GroupChat(\n",
    "    agents=[user_proxy, sql_writer], messages=[], max_round=5\n",
    ")\n",
    "manager = autogen.GroupChatManager(groupchat=group_chat, llm_config=llm_config)\n",
    "\n",
    "# # Define a conversation pattern\n",
    "# conversation_pattern = ConversationPattern(\n",
    "#     agents=[hr_agent, tech_agent],\n",
    "#     interactions=[\n",
    "#         (hr_agent, \"Ask about previous experience.\"),\n",
    "#         (tech_agent, \"Inquire about technical skills.\"),\n",
    "#     ],\n",
    "# )\n",
    "\n",
    "# # Apply the pattern to your assistant agent\n",
    "# assistant.apply_conversation_pattern(conversation_pattern)"
   ]
  },
  {
   "cell_type": "markdown",
   "metadata": {},
   "source": [
    "The agent can then take as input the schema and the text question, and generate the SQL query."
   ]
  },
  {
   "cell_type": "code",
   "execution_count": 5,
   "metadata": {},
   "outputs": [
    {
     "name": "stdout",
     "output_type": "stream",
     "text": [
      "\u001b[33muser_proxy\u001b[0m (to sql_writer):\n",
      "\n",
      "\n",
      "    Answer the following question:\n",
      "    How many books are in the bookstore?\n",
      "\n",
      "\n",
      "--------------------------------------------------------------------------------\n",
      "\u001b[33msql_writer\u001b[0m (to user_proxy):\n",
      "\n",
      "\u001b[32m***** Suggested tool call (call_E4gTkbfrf5OAo78CqQxX9RqY): execute_sql *****\u001b[0m\n",
      "Arguments: \n",
      "{\"sql\":\"SELECT COUNT(*) FROM books;\"}\n",
      "\u001b[32m****************************************************************************\u001b[0m\n",
      "\n",
      "--------------------------------------------------------------------------------\n",
      "\u001b[35m\n",
      ">>>>>>>> EXECUTING FUNCTION execute_sql...\u001b[0m\n",
      "\u001b[33muser_proxy\u001b[0m (to sql_writer):\n",
      "\n",
      "\u001b[32m***** Response from calling tool (call_E4gTkbfrf5OAo78CqQxX9RqY) *****\u001b[0m\n",
      "[[4]]\n",
      "\u001b[32m**********************************************************************\u001b[0m\n",
      "\n",
      "--------------------------------------------------------------------------------\n"
     ]
    },
    {
     "data": {
      "text/plain": [
       "ChatResult(chat_id=None, chat_history=[{'content': '\\n    Answer the following question:\\n    How many books are in the bookstore?\\n', 'role': 'assistant', 'name': 'user_proxy'}, {'tool_calls': [{'id': 'call_E4gTkbfrf5OAo78CqQxX9RqY', 'function': {'arguments': '{\"sql\":\"SELECT COUNT(*) FROM books;\"}', 'name': 'execute_sql'}, 'type': 'function'}], 'content': None, 'role': 'assistant'}, {'content': '[[4]]', 'tool_responses': [{'tool_call_id': 'call_E4gTkbfrf5OAo78CqQxX9RqY', 'role': 'tool', 'content': '[[4]]'}], 'role': 'tool', 'name': 'user_proxy'}], summary='[[4]]', cost={'usage_including_cached_inference': {'total_cost': 0.000725, 'gpt-4o-2024-05-13': {'cost': 0.000725, 'prompt_tokens': 88, 'completion_tokens': 19, 'total_tokens': 107}}, 'usage_excluding_cached_inference': {'total_cost': 0}}, human_input=[])"
      ]
     },
     "execution_count": 5,
     "metadata": {},
     "output_type": "execute_result"
    }
   ],
   "source": [
    "question = \"How many books are in the bookstore?\"\n",
    "message = f\"\"\"\n",
    "    Answer the following question:\n",
    "    {question}\n",
    "\"\"\"\n",
    "\n",
    "user_proxy.initiate_chat(\n",
    "    sql_writer,\n",
    "    message=message,\n",
    "    llm_config=llm_config,\n",
    ")"
   ]
  }
 ],
 "metadata": {
  "kernelspec": {
   "display_name": ".venv",
   "language": "python",
   "name": "python3"
  },
  "language_info": {
   "codemirror_mode": {
    "name": "ipython",
    "version": 3
   },
   "file_extension": ".py",
   "mimetype": "text/x-python",
   "name": "python",
   "nbconvert_exporter": "python",
   "pygments_lexer": "ipython3",
   "version": "3.10.11"
  }
 },
 "nbformat": 4,
 "nbformat_minor": 2
}
