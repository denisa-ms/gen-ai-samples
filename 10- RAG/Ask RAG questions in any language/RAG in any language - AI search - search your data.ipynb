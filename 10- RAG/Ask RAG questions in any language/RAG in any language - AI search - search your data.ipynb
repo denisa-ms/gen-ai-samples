{
 "cells": [
  {
   "attachments": {},
   "cell_type": "markdown",
   "metadata": {},
   "source": [
    "# Multilingual RAG with Azure AI search"
   ]
  },
  {
   "cell_type": "code",
   "execution_count": 15,
   "metadata": {},
   "outputs": [
    {
     "data": {
      "text/plain": [
       "True"
      ]
     },
     "execution_count": 15,
     "metadata": {},
     "output_type": "execute_result"
    }
   ],
   "source": [
    "# Import required libraries\n",
    "import os\n",
    "import json\n",
    "from dotenv import load_dotenv\n",
    "\n",
    "from tenacity import retry, wait_random_exponential, stop_after_attempt\n",
    "from openai import AzureOpenAI\n",
    "from azure.core.credentials import AzureKeyCredential\n",
    "from azure.search.documents import SearchClient\n",
    "from azure.search.documents.indexes import SearchIndexClient\n",
    "from azure.search.documents.indexes.models import (\n",
    "    SimpleField,\n",
    "    SearchFieldDataType,\n",
    "    SearchableField,\n",
    "    SearchField,\n",
    "    VectorSearch,\n",
    "    HnswAlgorithmConfiguration,\n",
    "    VectorSearchProfile,\n",
    "    SemanticConfiguration,\n",
    "    SemanticPrioritizedFields,\n",
    "    SemanticField,\n",
    "    SemanticSearch,\n",
    "    SearchIndex,\n",
    "    AzureOpenAIVectorizer,\n",
    "    AzureOpenAIParameters\n",
    ")\n",
    "\n",
    "\n",
    "from azure.identity import DefaultAzureCredential, get_bearer_token_provider\n",
    "import json\n",
    "\n",
    "load_dotenv()"
   ]
  },
  {
   "cell_type": "code",
   "execution_count": 16,
   "metadata": {},
   "outputs": [],
   "source": [
    "# Configure environment variables\n",
    "service_endpoint = os.getenv(\"AZURE_SEARCH_SERVICE_ENDPOINT\")\n",
    "index_name = os.getenv(\"AZURE_SEARCH_INDEX_NAME\")\n",
    "key = os.getenv(\"AZURE_SEARCH_ADMIN_KEY\")\n",
    "\n",
    "AZURE_OPENAI_EMBEDDINGS_ADA_DEPLOYMENT_NAME = os.getenv(\"AZURE_OPENAI_EMBEDDINGS_ADA_DEPLOYMENT_NAME\")\n",
    "OPENAI_DEPLOYMENT_ENDPOINT = os.getenv(\"OPENAI_DEPLOYMENT_ENDPOINT\")\n",
    "AZURE_OPENAI_GPT4_DEPLOYMENT_NAME = os.getenv(\"AZURE_OPENAI_GPT4_DEPLOYMENT_NAME\")\n",
    "OPENAI_API_KEY = os.getenv(\"OPENAI_API_KEY\")\n",
    "AZURE_OPENAI_API_VERSION = os.getenv(\"AZURE_OPENAI_API_VERSION\")\n",
    "azure_openai_embedding_dimensions = 1536\n",
    "index_name = \"product_data_csv\"\n",
    "\n",
    "credential = AzureKeyCredential(key)"
   ]
  },
  {
   "cell_type": "code",
   "execution_count": 17,
   "metadata": {},
   "outputs": [],
   "source": [
    "# Configure OpenAI API\n",
    "aoai_client = AzureOpenAI(\n",
    "  azure_endpoint = OPENAI_DEPLOYMENT_ENDPOINT, \n",
    "  api_key=OPENAI_API_KEY,  \n",
    "  api_version=AZURE_OPENAI_API_VERSION\n",
    ")\n",
    "credential = AzureKeyCredential(key)"
   ]
  },
  {
   "cell_type": "code",
   "execution_count": 81,
   "metadata": {},
   "outputs": [],
   "source": [
    "from azure.search.documents.models import VectorizedQuery\n",
    "\n",
    "search_client = SearchClient(endpoint=service_endpoint, index_name=index_name, credential=credential)\n",
    "\n",
    "# Generate Document Embeddings using OpenAI Ada Model\n",
    "@retry(wait=wait_random_exponential(min=1, max=20), stop=stop_after_attempt(6))\n",
    "# Function to generate embeddings for title and content fields, also used for query embeddings\n",
    "def calc_embeddings(text):\n",
    "    # model = \"deployment_name\"\n",
    "    embeddings = aoai_client.embeddings.create(input = [text], model=AZURE_OPENAI_EMBEDDINGS_ADA_DEPLOYMENT_NAME).data[0].embedding\n",
    "    return embeddings\n",
    "\n",
    "def do_search(query, fields):\n",
    "    embedding = calc_embeddings(query)\n",
    "    vector_query = VectorizedQuery(vector=embedding, k_nearest_neighbors=3, fields=fields)\n",
    "  \n",
    "    results = search_client.search(  \n",
    "        search_text=None,  \n",
    "        vector_queries= [vector_query],\n",
    "        select=[\"name\", \"description\"],\n",
    "    )  \n",
    "    str_result = \"\"\n",
    "    for result in results:  \n",
    "        print(f\"Score: {result['@search.score']}\")  \n",
    "        print(f\"Name: {result['name']}\")  \n",
    "        print(f\"Description: {result['description']}\\n\")  \n",
    "\n",
    "        str_result += f\" {result['name']}/n\"\n",
    "\n",
    "    return str_result"
   ]
  },
  {
   "cell_type": "code",
   "execution_count": 93,
   "metadata": {},
   "outputs": [],
   "source": [
    "def call_openAI(question, answers):\n",
    "    grounded_prompt=\"\"\"\n",
    "    You are a friendly assistant answering users questions.\n",
    "    Answer the query using only the answers provided below in the friendly and concise bulleted manner.\n",
    "    Answer ONLY with the facts listed in the list of answers below.\n",
    "    If there isn't enough information below, say \"you don't know\" .\n",
    "\n",
    "    Query: {question}\n",
    "    answers:\\n{answers}\n",
    "    \"\"\"\n",
    "    # prepare prompt\n",
    "    messages=[\n",
    "        {\n",
    "            \"role\": \"user\",\n",
    "            \"content\": grounded_prompt.format(question=question, answers=answers)\n",
    "        }\n",
    "    ]\n",
    "    response = aoai_client.chat.completions.create(\n",
    "        model=AZURE_OPENAI_GPT4_DEPLOYMENT_NAME,\n",
    "        messages = messages,\n",
    "        temperature=0.7,\n",
    "        max_tokens=800,\n",
    "        top_p=0.95,\n",
    "        frequency_penalty=0,\n",
    "        presence_penalty=0,\n",
    "        stop=None\n",
    "    )\n",
    "\n",
    "    return response.choices[0].message.content"
   ]
  },
  {
   "cell_type": "code",
   "execution_count": 94,
   "metadata": {},
   "outputs": [],
   "source": [
    "def detect_and_translate(text):\n",
    "    system_message = \"\"\"You are a helpful assistant that translates text from any language to english. \n",
    "        If the text is already in English, return a json object as follows:\n",
    "        {\"language\": \"english\", \"translation\": \"text\"}\n",
    "        Answer in a clear and concise manner only translating the text in a JSON object as follows:\n",
    "        {\"language\": \"language_detected\", \"translation\": \"translated_text\"}\n",
    "    \"\"\"\n",
    "\n",
    "\n",
    "    response = aoai_client.chat.completions.create(\n",
    "        model=AZURE_OPENAI_GPT4_DEPLOYMENT_NAME,\n",
    "        messages = [\n",
    "            {\"role\":\"system\",\"content\":system_message},\n",
    "            {\"role\":\"user\",\"content\":text}\n",
    "            ],\n",
    "        response_format={ \"type\": \"json_object\" },\n",
    "        temperature=0   \n",
    "    )\n",
    "    return response.choices[0].message.content"
   ]
  },
  {
   "cell_type": "code",
   "execution_count": 95,
   "metadata": {},
   "outputs": [],
   "source": [
    "def translate(text, target_language):\n",
    "    system_message = \"\"\"You are a helpful assistant that translates text into \"\"\" + target_language + \"\"\".\n",
    "    Answer in a clear and concise manner only translating the text.\n",
    "    Text:\n",
    "    \"\"\"\n",
    "\n",
    "    response = aoai_client.chat.completions.create(\n",
    "        model=AZURE_OPENAI_GPT4_DEPLOYMENT_NAME,\n",
    "        messages = [\n",
    "            {\"role\":\"system\",\"content\":system_message},\n",
    "            {\"role\":\"user\",\"content\":text}\n",
    "            ],\n",
    "        temperature=0   \n",
    "    )\n",
    "    return response.choices[0].message.content"
   ]
  },
  {
   "cell_type": "code",
   "execution_count": 101,
   "metadata": {},
   "outputs": [
    {
     "name": "stdout",
     "output_type": "stream",
     "text": [
      "Score: 0.03333333507180214\n",
      "Name: Cuisinart Countertop Griddler - GR4\n",
      "Description: Cuisinart Countertop Griddler - GR4/ Nonstick Grill/ Knob Selector/ Light Indicator/ Temperature Controls/ Cleaning/Scraping Tool Included\n",
      "\n",
      "Score: 0.032786883413791656\n",
      "Name: Weber Cast Iron Griddle - 7531\n",
      "Description: Weber Cast Iron Griddle - 7531/ Heavy-Duty Cast Iron Griddle/ Fits Weber Genesis Silver A & Spirit 500 Gas Grills\n",
      "\n",
      "Score: 0.032258063554763794\n",
      "Name: Weber Cast Iron Griddle - 7542\n",
      "Description: Weber Cast Iron Griddle - 7542/ Heavy-Duty Cast Iron Griddle/ Two-Sided For Cooking A Variety Of Foods/ Fits Several Weber Grills\n",
      "\n"
     ]
    },
    {
     "data": {
      "text/plain": [
       "'- Cuisinart Countertop Griddler - GR4\\n- Weber Cast Iron Griddle - 7531\\n- Weber Cast Iron Griddle - 7542'"
      ]
     },
     "metadata": {},
     "output_type": "display_data"
    }
   ],
   "source": [
    "question = \"nonstick grills\"\n",
    "response = detect_and_translate(question)\n",
    "json_response = json.loads(response)\n",
    "\n",
    "answers = do_search(json_response[\"translation\"], \"name_embedding, description_embedding\")\n",
    "result = call_openAI(json_response[\"translation\"], answers)\n",
    "response = translate(result, json_response[\"language\"])\n",
    "display(response)"
   ]
  },
  {
   "cell_type": "code",
   "execution_count": 102,
   "metadata": {},
   "outputs": [
    {
     "name": "stdout",
     "output_type": "stream",
     "text": [
      "Score: 0.03333333507180214\n",
      "Name: Cuisinart Countertop Griddler - GR4\n",
      "Description: Cuisinart Countertop Griddler - GR4/ Nonstick Grill/ Knob Selector/ Light Indicator/ Temperature Controls/ Cleaning/Scraping Tool Included\n",
      "\n",
      "Score: 0.032786883413791656\n",
      "Name: Weber Cast Iron Griddle - 7531\n",
      "Description: Weber Cast Iron Griddle - 7531/ Heavy-Duty Cast Iron Griddle/ Fits Weber Genesis Silver A & Spirit 500 Gas Grills\n",
      "\n",
      "Score: 0.032258063554763794\n",
      "Name: Weber Cast Iron Griddle - 7542\n",
      "Description: Weber Cast Iron Griddle - 7542/ Heavy-Duty Cast Iron Griddle/ Two-Sided For Cooking A Variety Of Foods/ Fits Several Weber Grills\n",
      "\n"
     ]
    },
    {
     "data": {
      "text/plain": [
       "'- Plancha de Encimera Cuisinart - GR4'"
      ]
     },
     "metadata": {},
     "output_type": "display_data"
    }
   ],
   "source": [
    "question = \"Encuentrame todas los parrillas antiadherentes\"\n",
    "response = detect_and_translate(question)\n",
    "json_response = json.loads(response)\n",
    "\n",
    "answers = do_search(json_response[\"translation\"], \"name_embedding, description_embedding\")\n",
    "result = call_openAI(json_response[\"translation\"], answers)\n",
    "response = translate(result, json_response[\"language\"])\n",
    "display(response)"
   ]
  }
 ],
 "metadata": {
  "kernelspec": {
   "display_name": ".venv",
   "language": "python",
   "name": "python3"
  },
  "language_info": {
   "codemirror_mode": {
    "name": "ipython",
    "version": 3
   },
   "file_extension": ".py",
   "mimetype": "text/x-python",
   "name": "python",
   "nbconvert_exporter": "python",
   "pygments_lexer": "ipython3",
   "version": "3.10.11"
  },
  "orig_nbformat": 4
 },
 "nbformat": 4,
 "nbformat_minor": 2
}
