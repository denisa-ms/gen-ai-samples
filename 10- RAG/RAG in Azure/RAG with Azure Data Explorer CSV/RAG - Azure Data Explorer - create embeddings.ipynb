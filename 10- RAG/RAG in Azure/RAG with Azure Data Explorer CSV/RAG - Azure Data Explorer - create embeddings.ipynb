{
 "cells": [
  {
   "attachments": {},
   "cell_type": "markdown",
   "metadata": {},
   "source": [
    "# RAG with Fabric Real Time Analytics\n",
    "#### IMPORTANT!! Embeddings Creation - Run this only once !!!\n",
    "You only need to run this once to create the embeddings and save them to Fabric Real Time Analytics.  \n",
    "We will index a CSV of product names and descriptions\n",
    "\n"
   ]
  },
  {
   "cell_type": "code",
   "execution_count": 1,
   "metadata": {},
   "outputs": [],
   "source": [
    "# Import required libraries\n",
    "import os\n",
    "import json\n",
    "from dotenv import load_dotenv\n",
    "from tenacity import retry, wait_random_exponential, stop_after_attempt\n",
    "from openai import AzureOpenAI\n",
    "from azure.core.credentials import AzureKeyCredential\n",
    "from azure.kusto.data import KustoClient, KustoConnectionStringBuilder\n",
    "from azure.kusto.data.exceptions import KustoServiceError\n",
    "from azure.kusto.data.helpers import dataframe_from_result_table"
   ]
  },
  {
   "cell_type": "code",
   "execution_count": 13,
   "metadata": {},
   "outputs": [],
   "source": [
    "# Configure environment variables\n",
    "load_dotenv()\n",
    "\n",
    "AAD_TENANT_ID = os.getenv(\"AAD_TENANT_ID\")\n",
    "KUSTO_CLUSTER = os.getenv(\"KUSTO_CLUSTER\")\n",
    "KUSTO_DATABASE = os.getenv(\"KUSTO_DATABASE\")\n",
    "KUSTO_TABLE = os.getenv(\"KUSTO_TABLE\")\n",
    "KUSTO_MANAGED_IDENTITY_APP_ID = os.getenv(\"KUSTO_MANAGED_IDENTITY_APP_ID\")\n",
    "KUSTO_MANAGED_IDENTITY_SECRET = os.getenv(\"KUSTO_MANAGED_IDENTITY_SECRET\")\n",
    "\n",
    "OPENAI_GPT4_DEPLOYMENT_NAME = os.getenv(\"OPENAI_GPT4_DEPLOYMENT_NAME\")\n",
    "OPENAI_ADA_EMBEDDING_DEPLOYMENT_NAME = os.getenv(\"OPENAI_ADA_EMBEDDING_DEPLOYMENT_NAME\")\n",
    "\n",
    "OPENAI_DEPLOYMENT_ENDPOINT = os.getenv(\"OPENAI_DEPLOYMENT_ENDPOINT\")\n",
    "OPENAI_API_KEY = os.getenv(\"OPENAI_API_KEY\")\n",
    "AZURE_SUBSCRIPTION_ID = os.getenv(\"AZURE_SUBSCRIPTION_ID\")\n",
    "azure_openai_embedding_dimensions = 1536"
   ]
  },
  {
   "cell_type": "code",
   "execution_count": 4,
   "metadata": {},
   "outputs": [],
   "source": [
    "# Configure OpenAI API\n",
    "aoai_client = AzureOpenAI(\n",
    "  azure_endpoint = OPENAI_DEPLOYMENT_ENDPOINT, \n",
    "  api_key=OPENAI_API_KEY,  \n",
    "  api_version=\"2023-05-15\"\n",
    ")"
   ]
  },
  {
   "cell_type": "code",
   "execution_count": 5,
   "metadata": {},
   "outputs": [],
   "source": [
    "# Generate Document Embeddings using OpenAI Ada Model\n",
    "@retry(wait=wait_random_exponential(min=1, max=20), stop=stop_after_attempt(6))\n",
    "# Function to generate embeddings for title and content fields, also used for query embeddings\n",
    "def calc_embeddings(text):\n",
    "    # model = \"deployment_name\"\n",
    "    embeddings = aoai_client.embeddings.create(input = [text], model=OPENAI_ADA_EMBEDDING_DEPLOYMENT_NAME).data[0].embedding\n",
    "    return embeddings"
   ]
  },
  {
   "cell_type": "code",
   "execution_count": 6,
   "metadata": {},
   "outputs": [
    {
     "name": "stderr",
     "output_type": "stream",
     "text": [
      "C:\\Users\\dschlesinger\\AppData\\Local\\Temp\\ipykernel_31396\\2835857277.py:6: FutureWarning: A value is trying to be set on a copy of a DataFrame or Series through chained assignment using an inplace method.\n",
      "The behavior will change in pandas 3.0. This inplace method will never work because the intermediate object on which we are setting values always behaves as a copy.\n",
      "\n",
      "For example, when doing 'df[col].method(value, inplace=True)', try using 'df.method({col: value}, inplace=True)' or df[col] = df[col].method(value) instead, to perform the operation inplace on the original object.\n",
      "\n",
      "\n",
      "  product_data.name.replace({r'[^\\x00-\\x7F]+':''}, regex=True, inplace=True)\n",
      "C:\\Users\\dschlesinger\\AppData\\Local\\Temp\\ipykernel_31396\\2835857277.py:7: FutureWarning: A value is trying to be set on a copy of a DataFrame or Series through chained assignment using an inplace method.\n",
      "The behavior will change in pandas 3.0. This inplace method will never work because the intermediate object on which we are setting values always behaves as a copy.\n",
      "\n",
      "For example, when doing 'df[col].method(value, inplace=True)', try using 'df.method({col: value}, inplace=True)' or df[col] = df[col].method(value) instead, to perform the operation inplace on the original object.\n",
      "\n",
      "\n",
      "  product_data.description.replace({r'[^\\x00-\\x7F]+':''}, regex=True, inplace=True)\n"
     ]
    },
    {
     "data": {
      "text/html": [
       "<div>\n",
       "<style scoped>\n",
       "    .dataframe tbody tr th:only-of-type {\n",
       "        vertical-align: middle;\n",
       "    }\n",
       "\n",
       "    .dataframe tbody tr th {\n",
       "        vertical-align: top;\n",
       "    }\n",
       "\n",
       "    .dataframe thead th {\n",
       "        text-align: right;\n",
       "    }\n",
       "</style>\n",
       "<table border=\"1\" class=\"dataframe\">\n",
       "  <thead>\n",
       "    <tr style=\"text-align: right;\">\n",
       "      <th></th>\n",
       "      <th>id</th>\n",
       "      <th>name</th>\n",
       "      <th>description</th>\n",
       "      <th>price</th>\n",
       "    </tr>\n",
       "  </thead>\n",
       "  <tbody>\n",
       "    <tr>\n",
       "      <th>0</th>\n",
       "      <td>552</td>\n",
       "      <td>Sony Turntable - PSLX350H</td>\n",
       "      <td>Sony Turntable - PSLX350H/ Belt Drive System/ ...</td>\n",
       "      <td>NaN</td>\n",
       "    </tr>\n",
       "    <tr>\n",
       "      <th>1</th>\n",
       "      <td>580</td>\n",
       "      <td>Bose Acoustimass 5 Series III Speaker System -...</td>\n",
       "      <td>Bose Acoustimass 5 Series III Speaker System -...</td>\n",
       "      <td>$399.00</td>\n",
       "    </tr>\n",
       "    <tr>\n",
       "      <th>2</th>\n",
       "      <td>4696</td>\n",
       "      <td>Sony Switcher - SBV40S</td>\n",
       "      <td>Sony Switcher - SBV40S/ Eliminates Disconnecti...</td>\n",
       "      <td>$49.00</td>\n",
       "    </tr>\n",
       "    <tr>\n",
       "      <th>3</th>\n",
       "      <td>5644</td>\n",
       "      <td>Sony 5 Disc CD Player - CDPCE375</td>\n",
       "      <td>Sony 5 Disc CD Player- CDPCE375/ 5 Disc Change...</td>\n",
       "      <td>NaN</td>\n",
       "    </tr>\n",
       "    <tr>\n",
       "      <th>4</th>\n",
       "      <td>6284</td>\n",
       "      <td>Bose 27028 161 Bookshelf Pair Speakers In Whit...</td>\n",
       "      <td>Bose 161 Bookshelf Speakers In White - 161WH/ ...</td>\n",
       "      <td>$158.00</td>\n",
       "    </tr>\n",
       "  </tbody>\n",
       "</table>\n",
       "</div>"
      ],
      "text/plain": [
       "     id                                               name  \\\n",
       "0   552                          Sony Turntable - PSLX350H   \n",
       "1   580  Bose Acoustimass 5 Series III Speaker System -...   \n",
       "2  4696                             Sony Switcher - SBV40S   \n",
       "3  5644                   Sony 5 Disc CD Player - CDPCE375   \n",
       "4  6284  Bose 27028 161 Bookshelf Pair Speakers In Whit...   \n",
       "\n",
       "                                         description    price  \n",
       "0  Sony Turntable - PSLX350H/ Belt Drive System/ ...      NaN  \n",
       "1  Bose Acoustimass 5 Series III Speaker System -...  $399.00  \n",
       "2  Sony Switcher - SBV40S/ Eliminates Disconnecti...   $49.00  \n",
       "3  Sony 5 Disc CD Player- CDPCE375/ 5 Disc Change...      NaN  \n",
       "4  Bose 161 Bookshelf Speakers In White - 161WH/ ...  $158.00  "
      ]
     },
     "execution_count": 6,
     "metadata": {},
     "output_type": "execute_result"
    }
   ],
   "source": [
    "# Read the CSV file and generate embeddings for title and description fields\n",
    "import pandas as pd\n",
    "\n",
    "# Read the CSV file\n",
    "product_data = pd.read_csv(\"./data/Product Dataset.csv\",encoding = \"ISO-8859-1\")\n",
    "product_data.name.replace({r'[^\\x00-\\x7F]+':''}, regex=True, inplace=True)\n",
    "product_data.description.replace({r'[^\\x00-\\x7F]+':''}, regex=True, inplace=True)\n",
    "# View the first 5 rows\n",
    "product_data.head()"
   ]
  },
  {
   "cell_type": "code",
   "execution_count": 34,
   "metadata": {},
   "outputs": [
    {
     "name": "stdout",
     "output_type": "stream",
     "text": [
      "    id                                               name  \\\n",
      "0  552                          Sony Turntable - PSLX350H   \n",
      "1  580  Bose Acoustimass 5 Series III Speaker System -...   \n",
      "\n",
      "                                         description    price  \\\n",
      "0  Sony Turntable - PSLX350H/ Belt Drive System/ ...      NaN   \n",
      "1  Bose Acoustimass 5 Series III Speaker System -...  $399.00   \n",
      "\n",
      "                                      name_embedding  \\\n",
      "0  [0.00967357773333788, -0.008138509467244148, -...   \n",
      "1  [-0.011157252825796604, 0.0002722474164329469,...   \n",
      "\n",
      "                               description_embedding  \n",
      "0  [5.8577807067194954e-05, 0.007230174727737904,...  \n",
      "1  [-0.0070847030729055405, 0.014446204528212547,...  \n"
     ]
    }
   ],
   "source": [
    "import uuid\n",
    "# calculate the embeddings using openAI ada \n",
    "product_data[\"name_embedding\"] = product_data.name.apply(lambda x: calc_embeddings(x))\n",
    "product_data[\"description_embedding\"] = product_data.description.apply(lambda x: calc_embeddings(x))\n",
    "\n",
    "product_data.to_csv('./data/prd_data_with_embeddings.csv', index=False)\n",
    "\n",
    "print(product_data.head(2))"
   ]
  },
  {
   "cell_type": "code",
   "execution_count": 47,
   "metadata": {},
   "outputs": [],
   "source": [
    "from azure.kusto.data import KustoClient, KustoConnectionStringBuilder\n",
    "from azure.kusto.data.exceptions import KustoServiceError\n",
    "from azure.kusto.data.helpers import dataframe_from_result_table\n",
    "\n",
    "# Connect to adx using AAD app registration\n",
    "kcsb = KustoConnectionStringBuilder.with_aad_application_key_authentication(KUSTO_CLUSTER, KUSTO_MANAGED_IDENTITY_APP_ID, KUSTO_MANAGED_IDENTITY_SECRET,  AAD_TENANT_ID)\n",
    "client = KustoClient(kcsb)\n",
    "kusto_db = KUSTO_DATABASE\n"
   ]
  },
  {
   "cell_type": "code",
   "execution_count": 43,
   "metadata": {},
   "outputs": [
    {
     "name": "stdout",
     "output_type": "stream",
     "text": [
      "{\"name\": \"Table_0\", \"kind\": \"PrimaryResult\", \"data\": [{\"TableName\": \"embeddingscsv\", \"Schema\": \"{\\\"Name\\\":\\\"embeddingscsv\\\",\\\"OrderedColumns\\\":[{\\\"Name\\\":\\\"nr\\\",\\\"Type\\\":\\\"System.Int32\\\",\\\"CslType\\\":\\\"int\\\"},{\\\"Name\\\":\\\"name\\\",\\\"Type\\\":\\\"System.String\\\",\\\"CslType\\\":\\\"string\\\"},{\\\"Name\\\":\\\"description\\\",\\\"Type\\\":\\\"System.String\\\",\\\"CslType\\\":\\\"string\\\"},{\\\"Name\\\":\\\"name_embedding\\\",\\\"Type\\\":\\\"System.Object\\\",\\\"CslType\\\":\\\"dynamic\\\"},{\\\"Name\\\":\\\"description_embedding\\\",\\\"Type\\\":\\\"System.Object\\\",\\\"CslType\\\":\\\"dynamic\\\"}]}\", \"DatabaseName\": \"embeddings\", \"Folder\": null, \"DocString\": null}]}\n"
     ]
    }
   ],
   "source": [
    "# Connect to adx using AAD app registration\n",
    "table_name = \"embeddingscsv\"\n",
    "\n",
    "# create table in ADX\n",
    "createTableCommand = f\".create table {table_name} (nr:int, name:string, description:string, name_embedding:dynamic, description_embedding:dynamic)\"\n",
    "response = client.execute_mgmt(KUSTO_DATABASE, createTableCommand)\n",
    "for row in response.primary_results:\n",
    "    print(row)\n"
   ]
  },
  {
   "cell_type": "code",
   "execution_count": 44,
   "metadata": {},
   "outputs": [
    {
     "data": {
      "text/html": [
       "<div>\n",
       "<style scoped>\n",
       "    .dataframe tbody tr th:only-of-type {\n",
       "        vertical-align: middle;\n",
       "    }\n",
       "\n",
       "    .dataframe tbody tr th {\n",
       "        vertical-align: top;\n",
       "    }\n",
       "\n",
       "    .dataframe thead th {\n",
       "        text-align: right;\n",
       "    }\n",
       "</style>\n",
       "<table border=\"1\" class=\"dataframe\">\n",
       "  <thead>\n",
       "    <tr style=\"text-align: right;\">\n",
       "      <th></th>\n",
       "      <th>ExtentId</th>\n",
       "      <th>ItemLoaded</th>\n",
       "      <th>Duration</th>\n",
       "      <th>HasErrors</th>\n",
       "      <th>OperationId</th>\n",
       "    </tr>\n",
       "  </thead>\n",
       "  <tbody>\n",
       "    <tr>\n",
       "      <th>0</th>\n",
       "      <td>544bdea6-c735-4002-9e91-30b20e5b21ba</td>\n",
       "      <td>inproc:3bf95958-9aea-4473-92be-4bbd0889ef08</td>\n",
       "      <td>0 days 00:00:11.482180400</td>\n",
       "      <td>False</td>\n",
       "      <td>64a9f4e3-9239-4bdd-a36d-0008ddd8ecb7</td>\n",
       "    </tr>\n",
       "  </tbody>\n",
       "</table>\n",
       "</div>"
      ],
      "text/plain": [
       "                               ExtentId  \\\n",
       "0  544bdea6-c735-4002-9e91-30b20e5b21ba   \n",
       "\n",
       "                                    ItemLoaded                  Duration  \\\n",
       "0  inproc:3bf95958-9aea-4473-92be-4bbd0889ef08 0 days 00:00:11.482180400   \n",
       "\n",
       "   HasErrors                           OperationId  \n",
       "0      False  64a9f4e3-9239-4bdd-a36d-0008ddd8ecb7  "
      ]
     },
     "execution_count": 44,
     "metadata": {},
     "output_type": "execute_result"
    }
   ],
   "source": [
    "# ingest the dataframe into the table\n",
    "ingestTableCommand = f\".ingest inline into table {table_name} with (ignoreFirstRecord=true) <| {product_data.to_csv(index=False)} \"\n",
    "response = client.execute(KUSTO_DATABASE, ingestTableCommand)\n",
    "dataframe_from_result_table(response.primary_results[0])"
   ]
  }
 ],
 "metadata": {
  "kernelspec": {
   "display_name": "Python 3",
   "language": "python",
   "name": "python3"
  },
  "language_info": {
   "codemirror_mode": {
    "name": "ipython",
    "version": 3
   },
   "file_extension": ".py",
   "mimetype": "text/x-python",
   "name": "python",
   "nbconvert_exporter": "python",
   "pygments_lexer": "ipython3",
   "version": "3.10.11"
  },
  "orig_nbformat": 4
 },
 "nbformat": 4,
 "nbformat_minor": 2
}
