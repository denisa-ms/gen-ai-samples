{
 "cells": [
  {
   "cell_type": "markdown",
   "metadata": {},
   "source": [
    "### **Load Environment variables from .env file**"
   ]
  },
  {
   "cell_type": "code",
   "execution_count": 2,
   "metadata": {},
   "outputs": [],
   "source": [
    "from langchain_openai import AzureChatOpenAI\n",
    "from langchain_openai import AzureOpenAIEmbeddings\n",
    "from dotenv import load_dotenv\n",
    "import os\n",
    "from IPython.display import display, HTML, JSON, Markdown, Image\n",
    "from langchain.text_splitter import TokenTextSplitter\n",
    "from langchain.document_loaders import WikipediaLoader\n",
    "from langchain.chains import RetrievalQA\n",
    "\n",
    "\n",
    "load_dotenv()\n",
    "OPENAI_API_KEY = os.getenv(\"OPENAI_API_KEY\")\n",
    "OPENAI_DEPLOYMENT_ENDPOINT = os.getenv(\"OPENAI_DEPLOYMENT_ENDPOINT\")\n",
    "OPENAI_GPT4_DEPLOYMENT_NAME = os.getenv(\"OPENAI_GPT4_DEPLOYMENT_NAME\")\n",
    "OPENAI_ADA_EMBEDDING_DEPLOYMENT_NAME = os.getenv(\"OPENAI_ADA_EMBEDDING_DEPLOYMENT_NAME\")\n",
    "api_version = \"2024-02-01\"\n",
    "\n",
    "NEO4J_URI = os.getenv(\"NEO4J_URI\")\n",
    "NEO4J_USERNAME = os.getenv(\"NEO4J_USERNAME\")\n",
    "NEO4J_PASSWORD = os.getenv(\"NEO4J_PASSWORD\")\n",
    "\n",
    "llm = AzureChatOpenAI(\n",
    "    model=OPENAI_GPT4_DEPLOYMENT_NAME,\n",
    "    azure_deployment=OPENAI_GPT4_DEPLOYMENT_NAME,\n",
    "    api_key=OPENAI_API_KEY,\n",
    "    azure_endpoint=OPENAI_DEPLOYMENT_ENDPOINT,\n",
    "    openai_api_version=api_version,\n",
    ")\n"
   ]
  },
  {
   "cell_type": "code",
   "execution_count": 3,
   "metadata": {},
   "outputs": [
    {
     "name": "stderr",
     "output_type": "stream",
     "text": [
      "c:\\Users\\dschlesinger\\code\\ongoing\\azure-openai-code-samples\\.venv\\lib\\site-packages\\wikipedia\\wikipedia.py:389: GuessedAtParserWarning: No parser was explicitly specified, so I'm using the best available HTML parser for this system (\"lxml\"). This usually isn't a problem, but if you run this code on another system, or in a different virtual environment, it may use a different parser and behave differently.\n",
      "\n",
      "The code that caused this warning is on line 389 of the file c:\\Users\\dschlesinger\\code\\ongoing\\azure-openai-code-samples\\.venv\\lib\\site-packages\\wikipedia\\wikipedia.py. To get rid of this warning, pass the additional argument 'features=\"lxml\"' to the BeautifulSoup constructor.\n",
      "\n",
      "  lis = BeautifulSoup(html).find_all('li')\n"
     ]
    },
    {
     "data": {
      "text/plain": [
       "[Document(metadata={'title': 'Napoleon', 'summary': 'Napoleon Bonaparte (born Napoleone di Buonaparte; 15 August 1769 – 5 May 1821), later known by his regnal name Napoleon I, was a French military and political leader who rose to prominence during the French Revolution and led a series of successful campaigns across Europe during the Revolutionary Wars and Napoleonic Wars from 1796 to 1815. He was the leader of the French Republic as First Consul from 1799 to 1804, then of the French Empire as Emperor of the French from 1804 to 1814, and briefly again in 1815.\\nBorn on the island of Corsica to a family of Italian origin, Napoleon moved to mainland France in 1779 and was commissioned as an officer in the French Army in 1785. He supported the French Revolution in 1789, and promoted its cause in Corsica. He rose rapidly in the ranks after breaking the siege of Toulon in 1793 and firing on royalist insurgents in Paris on 13 Vendémiaire in 1795. In 1796, Napoleon commanded a military campaign against the Austrians and their Italian allies in the War of the First Coalition, scoring decisive victories and becoming a national hero. He led an expedition to Egypt and Syria in 1798 which served as a springboard to political power. In November 1799, Napoleon engineered the Coup of 18 Brumaire against the Directory, and became First Consul of the Republic. He won the Battle of Marengo in 1800, which secured French victory in the War of the Second Coalition, and in 1803 sold the territory of Louisiana to the United States, which doubled the latter\\'s area. In December 1804, Napoleon crowned himself Emperor of the French, further expanding his power.\\nThe breakdown of the Treaty of Amiens led to the War of the Third Coalition by 1805. Napoleon shattered the coalition with a decisive victory at the Battle of Austerlitz, which led to the dissolution of the Holy Roman Empire. In the War of the Fourth Coalition, Napoleon defeated Prussia at the Battle of Jena–Auerstedt in 1806, marched his Grande Armée into Eastern Europe, and defeated the Russians in 1807 at the Battle of Friedland. Seeking to extend his trade embargo against Britain, Napoleon invaded the Iberian Peninsula and installed his brother Joseph as King of Spain in 1808, provoking the Peninsular War, mainly fought by his marshals until 1814. In 1809, the Austrians again challenged France in the War of the Fifth Coalition, in which Napoleon solidified his grip over Europe after winning the Battle of Wagram. In summer 1812, Napoleon launched an invasion of Russia, which ended in the catastrophic retreat of his army that winter. In 1813, Prussia and Austria joined Russia in the War of the Sixth Coalition, in which Napoleon was decisively defeated at the Battle of Leipzig. The coalition invaded France and captured Paris, forcing Napoleon to abdicate in April 1814. They exiled him to the Mediterranean island of Elba and restored the Bourbons to power. In February 1815, Napoleon escaped from Elba and again took control of France in what became known as the \"Hundred Days\". His opponents responded by forming a Seventh Coalition, which defeated him at the Battle of Waterloo in June 1815. Napoleon was exiled to the remote island of Saint Helena in the South Atlantic, where he died of stomach cancer in 1821, aged 51.\\nNapoleon is considered one of the greatest military commanders in history and Napoleonic tactics are still studied at military schools worldwide. His legacy endures through the modernizing legal and administrative reforms he enacted in France and Western Europe, embodied in the Napoleonic Code. He established a system of public education, abolished the vestiges of feudalism, emancipated Jews and other religious minorities, abolished the Spanish Inquisition, enacted the principle of equality before the law for an emerging middle class, and centralized state power at the expense of religious authorities. His conquests acted as a catalyst for political change and the development of nation states. However, he is controversial due to his role in wars which devastated Europe, his looting of conquered territories, and his mixed record on civil rights: he abolished the free press, ended directly elected representative government, exiled and jailed critics of his regime, reinstated slavery in France\\'s colonies except for Haiti, banned the entry of blacks and mulattos into France, reduced the civil rights of women and children in France, reintroduced a hereditary monarchy and nobility, and violently repressed popular uprisings against his rule.', 'source': 'https://en.wikipedia.org/wiki/Napoleon'}, page_content='Napoleon Bonaparte (born Napoleone di Buonaparte; 15 August 1769 – 5 May 1821), later known by his regnal name Napoleon I, was a French military and political leader who rose to prominence during the French Revolution and led a series of successful campaigns across Europe during the Revolutionary Wars and Napoleonic Wars from 1796 to 1815. He was the leader of the French Republic as First Consul from 1799 to 1804, then of the French Empire as Emperor of the French from 1804 to 1814, and briefly again in 1815.\\nBorn on the island of Corsica to a family of Italian origin, Napoleon moved to mainland France in 1779 and was commissioned as an officer in the French Army in 1785. He supported the French Revolution in 1789, and promoted its cause in Corsica. He rose rapidly in the ranks after breaking the siege of Toulon in 1793 and firing on royalist insurgents in Paris on 13 Vendémiaire in 1795. In 1796, Napoleon commanded a military campaign against the Austrians and their Italian allies in the War of the First Coalition, scoring decisive victories and becoming a national hero. He led an expedition to Egypt and Syria in 1798 which served as a springboard to political power. In November 1799, Napoleon engineered the Coup of 18 Brumaire against the Directory, and became First Consul of the Republic. He won the Battle of Marengo in 1800, which secured French victory in the War of the Second Coalition, and in 1803 sold the territory of Louisiana to the United States, which doubled the latter\\'s area. In December 1804, Napoleon crowned himself Emperor of the French, further expanding his power.\\nThe breakdown of the Treaty of Amiens led to the War of the Third Coalition by 1805. Napoleon shattered the coalition with a decisive victory at the Battle of Austerlitz, which led to the dissolution of the Holy Roman Empire. In the War of the Fourth Coalition, Napoleon defeated Prussia at the Battle of Jena–Auerstedt in 1806, marched his Grande Armée into Eastern Europe, and defeated the Russians in 1807 at the Battle of Friedland. Seeking to extend his trade embargo against Britain, Napoleon invaded the Iberian Peninsula and installed his brother Joseph as King of Spain in 1808, provoking the Peninsular War, mainly fought by his marshals until 1814. In 1809, the Austrians again challenged France in the War of the Fifth Coalition, in which Napoleon solidified his grip over Europe after winning the Battle of Wagram. In summer 1812, Napoleon launched an invasion of Russia, which ended in the catastrophic retreat of his army that winter. In 1813, Prussia and Austria joined Russia in the War of the Sixth Coalition, in which Napoleon was decisively defeated at the Battle of Leipzig. The coalition invaded France and captured Paris, forcing Napoleon to abdicate in April 1814. They exiled him to the Mediterranean island of Elba and restored the Bourbons to power. In February 1815, Napoleon escaped from Elba and again took control of France in what became known as the \"Hundred Days\". His opponents responded by forming a Seventh Coalition, which defeated him at the Battle of Waterloo in June 1815. Napoleon was exiled to the remote island of Saint Helena in the South Atlantic, where he died of stomach cancer in 1821, aged 51.\\nNapoleon is considered one of the greatest military commanders in history and Napoleonic tactics are still studied at military schools worldwide. His legacy endures through the modernizing legal and administrative reforms he enacted in France and Western Europe, embodied in the Napoleonic Code. He established a system of public education, abolished the vestiges of feudalism, emancipated Jews and other religious minorities, abolished the Spanish Inquisition, enacted the principle of equality before the law for an emerging middle class, and centralized state power at the expense of religious authorities. His conquests acted as a catalyst for political change and the development of nation states. However, he is controversial due to his rol'),\n",
       " Document(metadata={'title': 'Napoleon III', 'summary': \"Napoleon III (Charles-Louis Napoléon Bonaparte; 20 April 1808 – 9 January 1873) was the first president of France from 1848 to 1852, and the last monarch of France as the second Emperor of the French from 1852 until he was deposed on 4 September 1870.\\nPrior to his reign, Napoleon III was known as Louis Napoleon Bonaparte. He was born in Paris as the son of Louis Bonaparte, King of Holland (r. 1806–1810), and Hortense de Beauharnais. Napoleon I was Louis Napoleon's paternal uncle, and one of his cousins was the disputed Napoleon II. Louis Napoleon was the first and only president of the French Second Republic, elected in 1848. He seized power by force in 1851 when he could not constitutionally be re-elected. He later proclaimed himself Emperor of the French and founded the Second Empire, reigning until the defeat of the French Army and his capture by Prussia and its allies at the Battle of Sedan in 1870.\\nNapoleon III was a popular monarch who oversaw the modernization of the French economy and filled Paris with new boulevards and parks. He expanded the French colonial empire, made the French merchant navy the second largest in the world, and personally engaged in two wars. Maintaining leadership for 22 years, he was the longest-reigning French head of state since the fall of the Ancien Régime, although his reign would ultimately end on the battlefield.\\nNapoleon III commissioned a grand reconstruction of Paris carried out by prefect of the Seine, Baron Georges-Eugène Haussmann. He expanded and consolidated the railway system throughout the nation and modernized the banking system. Napoleon promoted the building of the Suez Canal and established modern agriculture, which ended famines in France and made the country an agricultural exporter. He negotiated the 1860 Cobden–Chevalier Free Trade Agreement with Britain and similar agreements with France's other European trading partners. Social reforms included giving French workers the right to strike, the right to organize, and the right for women to be admitted to a French university.\\nIn foreign policy, Napoleon III aimed to reassert French influence in Europe and around the world. In Europe, he allied with Britain and defeated Russia in the Crimean War (1853–1856). His regime assisted Italian unification by defeating the Austrian Empire in the Second Italian War of Independence and later annexed Savoy and Nice through the Treaty of Turin as its deferred reward. At the same time, his forces defended the Papal States against annexation by Italy. He was also favourable towards the 1859 union of the Danubian Principalities, which resulted in the establishment of the United Principalities of Moldavia and Wallachia. Napoleon doubled the area of the French colonial empire with expansions in Asia, the Pacific, and Africa. On the other hand, the intervention in Mexico, which aimed to create a Second Mexican Empire under French protection, ended in total failure.\\nFrom 1866, Napoleon had to face the mounting power of Prussia as its minister president Otto von Bismarck sought German unification under Prussian leadership. In July 1870, Napoleon reluctantly declared war on Prussia after pressure from the general public. The French Army was rapidly defeated, and Napoleon was captured at Sedan. He was swiftly dethroned and the Third Republic was proclaimed in Paris. After he was released from German custody, he went into exile in England, where he died in 1873.\", 'source': 'https://en.wikipedia.org/wiki/Napoleon_III'}, page_content=\"Napoleon III (Charles-Louis Napoléon Bonaparte; 20 April 1808 – 9 January 1873) was the first president of France from 1848 to 1852, and the last monarch of France as the second Emperor of the French from 1852 until he was deposed on 4 September 1870.\\nPrior to his reign, Napoleon III was known as Louis Napoleon Bonaparte. He was born in Paris as the son of Louis Bonaparte, King of Holland (r. 1806–1810), and Hortense de Beauharnais. Napoleon I was Louis Napoleon's paternal uncle, and one of his cousins was the disputed Napoleon II. Louis Napoleon was the first and only president of the French Second Republic, elected in 1848. He seized power by force in 1851 when he could not constitutionally be re-elected. He later proclaimed himself Emperor of the French and founded the Second Empire, reigning until the defeat of the French Army and his capture by Prussia and its allies at the Battle of Sedan in 1870.\\nNapoleon III was a popular monarch who oversaw the modernization of the French economy and filled Paris with new boulevards and parks. He expanded the French colonial empire, made the French merchant navy the second largest in the world, and personally engaged in two wars. Maintaining leadership for 22 years, he was the longest-reigning French head of state since the fall of the Ancien Régime, although his reign would ultimately end on the battlefield.\\nNapoleon III commissioned a grand reconstruction of Paris carried out by prefect of the Seine, Baron Georges-Eugène Haussmann. He expanded and consolidated the railway system throughout the nation and modernized the banking system. Napoleon promoted the building of the Suez Canal and established modern agriculture, which ended famines in France and made the country an agricultural exporter. He negotiated the 1860 Cobden–Chevalier Free Trade Agreement with Britain and similar agreements with France's other European trading partners. Social reforms included giving French workers the right to strike, the right to organize, and the right for women to be admitted to a French university.\\nIn foreign policy, Napoleon III aimed to reassert French influence in Europe and around the world. In Europe, he allied with Britain and defeated Russia in the Crimean War (1853–1856). His regime assisted Italian unification by defeating the Austrian Empire in the Second Italian War of Independence and later annexed Savoy and Nice through the Treaty of Turin as its deferred reward. At the same time, his forces defended the Papal States against annexation by Italy. He was also favourable towards the 1859 union of the Danubian Principalities, which resulted in the establishment of the United Principalities of Moldavia and Wallachia. Napoleon doubled the area of the French colonial empire with expansions in Asia, the Pacific, and Africa. On the other hand, the intervention in Mexico, which aimed to create a Second Mexican Empire under French protection, ended in total failure.\\nFrom 1866, Napoleon had to face the mounting power of Prussia as its minister president Otto von Bismarck sought German unification under Prussian leadership. In July 1870, Napoleon reluctantly declared war on Prussia after pressure from the general public. The French Army was rapidly defeated, and Napoleon was captured at Sedan. He was swiftly dethroned and the Third Republic was proclaimed in Paris. After he was released from German custody, he went into exile in England, where he died in 1873.\\n\\n\\n== Childhood and family ==\\n\\n\\n=== Early life ===\\nCharles-Louis Napoleon Bonaparte, later known as Louis Napoleon and then Napoleon III, was born in Paris on the night of 19–20 April 1808. His father was Louis Bonaparte, the younger brother of Napoleon Bonaparte, who made Louis the king of Holland from 1806 until 1810. His mother was Hortense de Beauharnais, the only daughter of Napoleon's wife Joséphine by her first marriage to Alexandre de Beauharnais. He was the first Bonaparte prince born after the proclamation of the empire.\\nAs empress\"),\n",
       " Document(metadata={'title': 'Joseph Bonaparte', 'summary': 'Joseph-Napoléon Bonaparte (born Giuseppe di Buonaparte, Italian: [dʒuˈzɛppe di ˌbwɔnaˈparte]; Corsican: Ghjuseppe Napulione Bonaparte; Spanish: José Napoleón Bonaparte; 7 January 1768 – 28 July 1844) was a French statesman, lawyer, diplomat and older brother of Napoleon Bonaparte. During the Napoleonic Wars, the latter made him King of Naples (1806–1808), and then King of Spain (1808–1813). After the fall of Napoleon, Joseph styled himself Comte de Survilliers and emigrated to the United States, where he settled near Bordentown, New Jersey, on an estate overlooking the Delaware River not far from Philadelphia.\\n\\nJoseph was born in 1768 as Giuseppe Buonaparte to Carlo Buonaparte and Maria Letizia Ramolino at Corte, the capital of the Corsican Republic. In the year of his birth, Corsica was invaded by France and conquered the following year. His father was originally a follower of the Corsican patriot leader Pasquale Paoli, but later became a supporter of French rule.\\nBonaparte trained as a lawyer. In that role and as a politician and diplomat, he served in the Cinq-Cents and as the French ambassador to Rome. On 30 September 1800, as Minister Plenipotentiary, he signed a treaty of friendship and commerce between France and the United States at Mortefontaine, Oise, alongside Charles Pierre Claret de Fleurieu, and Pierre Louis Roederer.\\nIn 1795 Bonaparte was a member of the Council of Five Hundred. Four years later, he used this position to help his brother Napoleon to overthrow the Directory.\\n\\nUpon the outbreak of war between France and Austria in 1805, Ferdinand IV of Naples had agreed to a treaty of neutrality with Napoleon but, a few days later, declared his support for Austria. He permitted a large Anglo-Russian force to land in his kingdom. Napoleon, however, was soon victorious. After the War of the Third Coalition was shattered on 5 December at the Battle of Austerlitz, Ferdinand was subject to Napoleon\\'s wrath.\\n\\nOn 27 December 1805, Napoleon issued a proclamation from the Schönbrunn declaring Ferdinand to have forfeited his kingdom. He said that a French invasion would soon follow to ensure \\'that the finest of countries is relieved from the yoke of the most faithless of men.\\'\\nOn 31 December Napoleon commanded Joseph Bonaparte to move to Rome, where he would be assigned to command the army sent to dispossess Ferdinand of his throne. Although Bonaparte was the nominal commander-in-chief of the expedition, Marshal Masséna was in effective command of operations, with General St. Cyr second. But, St. Cyr, who had previously held the senior command of French troops in the region, soon resigned in protest at being made subordinate to Masséna and left for Paris. An outraged Napoleon ordered St. Cyr to return to his post at once.\\nOn 8 February 1806 the French invasion force of forty-thousand men crossed into Naples. The centre and right of the army under Masséna and General Reynier advanced south from Rome, while Giuseppe Lechi led a force down the Adriatic coast from Ancona. On his brother\\'s recommendation, Bonaparte attached himself to Reynier. The French advance faced little resistance. Even before any French troops had crossed the border, the Anglo-Russian forces had beaten a prudent retreat, the British withdrawing to Sicily, and the Russians to Corfu. Abandoned by his allies, King Ferdinand had also already set sail for Palermo on 23 January. Queen Maria-Carolina lingered a little longer in the capital but, on 11 February, fled to join her husband.\\nThe first obstacle the French encountered was the fortress of Gaeta; its governor, Prince Louis of Hesse-Philippsthal, refused to surrender his charge. There was no meaningful delay of the invaders, as Masséna detached a small force to besiege the garrison before continuing south. Capua opened its gates after only token resistance. On 14 February Masséna took possession of Naples and, the following day, Bonaparte staged a triumphant entrance into the city. Reynier was quickly dispatched to seize control of the Strait of Messina and, on 9 March, inflicted a crushing defeat of the Neapolitan Royal Army at the Battle of Campo Tenese, effectively destroying it as a fighting force and securing the entire mainland for the French.\\n\\nOn 30 March 1806 Napoleon issued a decree installing Joseph Bonaparte as King of Naples and Sicily; the decree said as follows:\\n\"Napoleon, by the Grace of God and the constitutions. Emperor of the French and King of Italy, to all those to whom these presents come, greetings. The interests of our people, the honour of our Crown, and the tranquillity of the Continent of Europe requiring that we should assure, in a stable and definite manner, the lot of the people of Naples and of Sicily, who have fallen into our power by the right of conquest, and who constitute a part of the Grand Empire, we declare that we recognise, as King of Naples and of Sicily, our well-beloved brother, Joseph Napoleon, Grand Elector of France. This Crown will be hereditary, by order of primogeniture, in his descendants male, legitimate, and natural, etc.\"\\n\\nJoseph\\'s arrival in Naples was warmly greeted with cheers and he was eager to be a monarch well liked by his subjects. Seeking to win the favour of the local elites, he maintained in their posts the vast majority of those who had held office and position under the Bourbons and was anxious to not in any way appear a foreign oppressor. With a provisional government set up in the capital, Joseph then immediately set off, accompanied by General Lamarque, on a tour of his new realm. The principal object of the tour was to assess the feasibility of an immediate invasion of Sicily and the expulsion of Ferdinand and Maria-Carolina from their refuge in Palermo. But, upon reviewing the situation at the Strait of Messina, Joseph was forced to admit the impossibility of such an enterprise, the Bourbons having carried off all boats and transports from along the coast and concentrated their remaining forces, alongside the British, on the opposite side. Unable to possess himself of Sicily, Joseph was nevertheless master of the mainland and he continued his progress through Calabria and on to Lucania and Apulia, visiting the main villages and meeting the local notables, clergy and people, allowing his people to grow accustomed to their new king and enabling himself to form first-hand a picture of the condition of his kingdom.\\n\\nUpon returning to Naples, Bonaparte received a deputation from the French Senate congratulating him upon his accession. The King formed a ministry staffed by many competent and talented men; he was determined to follow a reforming agenda and bring Naples the benefits of the French Revolution, without its excesses. Saliceti was appointed Minister of Police, Roederer Minister of Finance, Miot Minister of the Interior and General Dumas Minister of War. Marshal Jourdan was also confirmed as Governor of Naples, an appointment made by Napoleon, and served as Bonaparte\\'s foremost military adviser.\\nBonaparte embarked on an ambitious programme of reform and regeneration, in order to raise Naples to the level of a modern state in the mould of Napoleonic France. Monastic orders were suppressed, their property nationalised, and their funds confiscated to steady the royal finances. Feudal privileges and taxes were abolished; however, the nobility was compensated by an indemnity in the form of a certificate that could be exchanged in return for lands nationalised from the Church. Provincial intendants were instructed to engage those dispossessed former monks who were willing to work in public education, and to ensure that elderly monks no longer able to support themselves could move into communal establishments founded for their care. A college for the education of young girls was established in each province. A central college was founded at Aversa for the daughters of public functionaries, and the ablest from the provincial schools, to be admitted under the personal patronage of Queen Julie.\\nThe practice of forcibly recruiting prisoners into the army was abolished. To suppress and control robbers in the mountains, military commissions were established with the power to judge and execute, without appeal, all those brigands arrested with arms in their possession. Public works programmes were begun to provide employment to the poor and invest in improvements to the kingdom. Highways were built to Reggio. The project of a Calabrian road was completed under Bonaparte within the year after decades of delay. In the second year of his reign, Bonaparte installed the first system of public street-lighting in Naples, modelled on that operating in Paris.\\nAlthough the kingdom was not at that time furnished with a constitution, and thus Joseph\\'s will as monarch reigned supreme, there is yet no instance of him ever adopting a measure of policy without prior discussion of the matter in the Council of State and the passing of a majority vote in favour his course of action by the counsellors. Joseph thus presided over Naples in the best traditions of Enlightened absolutism, doubling the revenue of the crown from seven to fourteen million ducats in his brief two-year reign while all the time seeking to lighten the burdens of his people rather than increase them.\\nJoseph ruled Naples for two years before being replaced by his sister\\'s husband, Joachim Murat. Joseph was then made King of Spain in August 1808, soon after the French invasion.\\n\\nJoseph somewhat reluctantly left Naples, where he was popular, and arrived in Spain, where he was extremely unpopular. Joseph came under heavy fire from his opponents in Spain, who tried to smear his reputation by calling him Pepe Botella (Joe Bottle) for his alleged heavy drinking, an accusation echoed by later Spanish historiography, despite the fact that Joseph was abstemious. His arrival as a foreign sovereign sparked a massive Spanish revolt against French rule, and the beginning of the Peninsular War. Thompson says the Spanish revolt was, \"a reaction against new institutions and ideas, a movement for loyalty to the old order: to the hereditary crown of the Most Catholic kings, which Napoleon, an excommunicated enemy of the Pope, had put on the head of a Frenchman; to the Catholic Church persecuted by republicans who had desecrated churches, murdered priests, and enforced a \"loi des cultes\" (law of religion); and to local and provincial rights and privileges threatened by an efficiently centralized government.\\nJoseph temporarily retreated with much of the French Army to northern Spain. Feeling himself in an ignominious position, Joseph then proposed his own abdication from the Spanish throne, hoping that Napoleon would sanction his return to the Neapolitan Throne he had formerly occupied. Napoleon dismissed Joseph\\'s misgivings out of hand, and to back up the raw and ill-trained levies he had initially allocated to Spain, the Emperor sent heavy French reinforcements to assist Joseph in maintaining his position as King of Spain. Despite the easy recapture of Madrid, and nominal control by Joseph\\'s government over many cities and provinces, Joseph\\'s reign over Spain was always tenuous at best, and was plagued with near-constant conflict with pro-Bourbon guerrillas. Joseph and his supporters never established complete control over the country, and after a series of failed military campaigns, he would eventually abdicate the throne.\\nKing Joseph\\'s Spanish supporters were called josefinos or afrancesados (frenchified). During his reign, he ended the Spanish Inquisition, partly because Napoleon was at odds with Pope Pius VII at the time. Despite such efforts to win popularity, Joseph\\'s foreign birth and support, plus his membership of a Masonic lodge, virtually guaranteed he would never be accepted as legitimate by the bulk of the Spanish people. During Joseph\\'s rule of Spain, Venezuela declared independence from Spain. The king had virtually no influence over the course of the ongoing Peninsular War: Joseph\\'s nominal command of French forces in Spain was mostly illusory, as the French commanders theoretically subordinate to King Joseph insisted on checking with Napoleon before carrying out Joseph\\'s instructions.\\nKing Joseph abdicated the Spanish throne and returned to France after the main French forces were defeated by a British-led coalition at the Battle of Vitoria in 1813. During the closing campaign of the War of the Sixth Coalition, Napoleon left his brother to govern Paris with the title Lieutenant General of the Empire. As a result, he was again in nominal command of the French Army that was defeated at the Battle of Paris.\\nHe was seen by some Bonapartists as the rightful Emperor of the French after the death of Napoleon\\'s own son Napoleon II in 1832, although he did little to advance his claim.\\n\\nBonaparte travelled to America onboard the Commerce under the name of M. Bouchard. British naval officers had searched the vessel three times but never found Bonaparte on board and the ship arrived on 15 July 1815. In the period 1817–1832, Bonaparte lived primarily in the United States (where he sold the jewels he had taken from Spain). He first settled in New York City and Philadelphia, where his house became the centre of activity for French migrants. In 1823, he was elected as a member to the American Philosophical Society. Later he purchased an estate, called Point Breeze and formerly owned by Stephen Sayre. It was in Bordentown, New Jersey, on the east side of the Delaware River. It was located near the confluence of Crosswicks Creek and the Delaware. He considerably expanded Sayre\\'s home and created extensive gardens in the picturesque style. When his first home was destroyed by fire in January 1820 he converted his stables into a second grand house. On completion, it was generally viewed - perhaps diplomatically - as the \"second-finest house in America\" after the White House. At Point Breeze, Bonaparte entertained many of the leading intellectuals and politicians of his day.\\nIn the summer of 1825, the Quaker scientist Reuben Haines III described Bonaparte\\'s estate at Point Breeze, in a letter to his cousin:\\n\\n\"I partook of royal fare on solid silver and attended by six waiters who supplied me with 9 courses of the most delicious viands, many of which I could not possibly tell what they were composed of; spending the intermediate time in Charles\\' private rooms looking over the Herbarium and Portfolios of the Princess, or riding with her and the Prince drawn by two Elegant Horses along the ever varying roads of the park amidst splendid Rhododendrons on the margin of the artificial lake on whose smooth surface gently glided the majestic European swans. Stopping to visit the Aviary enlivened by the most beautiful English pheasants, passing by alcoves ornamented with statues and busts of Parian marble, our course enlivened by the footsteps of the tame deer and the flight of the Woodcock, and when alighting stopping to admire the graceful form of two splendid Etruscan vases of Porphyry 3 ft. high & 2 in diameter presented by the Queen of Sweden [Joseph\\'s sister-in-law Desiree Clary Bernadotte] or ranging [?] through the different appartments of the mansion through a suite of rooms 15 ft. in [height] decorated with the finest productions of the pencils of Coregeo [sic]! Titian! Rubens! Vandyke! Vernet! Tenniers [sic] and Paul Potter and a library of the most splended books I ever beheld.\"Another visitor a few years later, British writer Thomas Hamilton, described Bonaparte himself:Joseph Bonaparte, in person, is about the middle height, but round and corpulent. In the form of his head and features there certainly exists a resemblance to Napoleon, but in the expression of the countenance there is none. I remember, at the Pergola Theatre of Florence, discovering Louis Bonaparte from his likeness to the Emperor, which is very striking, but I am by no means confident that I should have been equally successful with Joseph. There is nothing about him indicative of high intellect. His eye is dull and heavy; his manner ungraceful and deficient in that ease and dignity which we vulgar people are apt to number among the necessary attributes of majesty. **** I am told he converses without any appearance of reserve on the circumstances of his short and troubled reign — if reign, indeed, it can be called — in Spain. He attributes more than half his misfortunes, to the jealousies and intrigues of the unruly marshals, over whom he could exercise no authority. He admits the full extent of his unpopularity, but claims credit for a sincere desire to benefit the people.Reputedly some Mexican revolutionaries offered to crown Bonaparte as Emperor of Mexico in 1820, but he declined. Mexico gained its independence from Spain in 1821.\\nIn 1832, Bonaparte moved to London, returning to his estate in the United States only intermittently. In 1844, he died in Florence, Italy. His body was returned to France and buried in Les Invalides, in Paris.\\n\\nBonaparte married Marie Julie Clary, daughter of François Clary and his wife, on 1 August 1794 in Cuges-les-Pins, France. They had three daughters:\\n\\nJulie Joséphine Bonaparte (29 February 1796 – 6 June 1797).\\nZénaïde Laetitia Julie Bonaparte (8 July 1801 – 1854); married in 1822 to Charles Lucien Bonaparte.\\nCharlotte Napoléone Bonaparte (31 October 1802 – 2 March 1839); married in 1826 to Napoleon Louis Bonaparte.\\nHe identified the two surviving daughters as his heirs.\\nHe also fathered two children with Maria Giulia Colonna, the Countess of Atri:\\n\\nGiulio (1806–1838).\\nTeresa (1808–died in infancy).\\nBonaparte had two American daughters born at Point Breeze, his estate in Bordentown, New Jersey, by his mistress, Annette Savage (\"Madame de la Folie\"):\\n\\nPauline Josephine Ann (1819-1823); died young.\\nCatherine Charlotte (1822–1890); married Col. Zebulon Howell Benton of Jefferson County, New York, and had four daughters and three sons. Son Louis Joseph Benton (1848–1940) had one son, Frederick Joseph Benton (1901–1967).\\n\\nJoseph Bonaparte was admitted to Marseille\\'s lodge la Parfaite Sincérité in 1793. He was asked by his brother Napoleon to monitor freemasonry as Grand Master of the Grand Orient of France (1804–1815). He founded the Grand Lodge National of Spain (1809). With Cambacérès, he encouraged the post-Revolution rebirth of the Freemasonry Order in France.\\n\\nJoseph Bonaparte Gulf in the Northern Territory of Australia is named after him.\\nLake Bonaparte, located in the town of Diana, New York, United States, is also named after him.\\n\\nA main character in the play Golden Boy (1937), by Clifford Odets, is named Joe Bonaparte.\\nThe romantic web among Joseph Bonaparte, Napoleon, Jean-Baptiste Bernadotte, Julie Clary, and Désirée Clary was the subject of the novel Désirée (1951), by Annemarie Selinko.\\nThe novel was adapted as a film of the same name, Désirée (1954), with  Cameron Mitchell as Joseph Bonaparte.\\nIn Thomas B. Costain\\'s historical novel The Tontine (1955), a character visits Joseph Bonaparte\\'s Point Breeze estate, and is involved there in some minor Napoleonic intrigue.\\n\\nBayonne Statute\\n\\nConnelly, Owen S. Jr. \"Joseph Bonaparte as King of Spain\" History Today (Feb 1962), Vol. 12 Issue 2, pp. 86–96.\\nSchom, Alan (1997). Napoleon Bonaparte: A Life. New York: Harper Collins. ISBN 9780060929589.\\nStroud, Patricia Tyson (2005). The Man who had been King: The American Exile of Napoleon\\'s Brother Joseph. Philadelphia, PA: University of Pennsylvania Press. ISBN 9780812290424. biography: book received the New Jersey Council for the Humanities first place book award in 2006.\\n\\nJoseph Bonaparte at Point Breeze\\nJoseph Bonaparte and the Jersey Devil\\nAntiguo Régimen: José I Bonaparte (in Spanish)\\n\"Bonaparte, Joseph\" . Appletons\\' Cyclopædia of American Biography. 1900.\\nSpencer Napoleonica Collection Archived 5 December 2012 at archive.today at Newberry Library', 'source': 'https://en.wikipedia.org/wiki/Joseph_Bonaparte'}, page_content=\"Joseph-Napoléon Bonaparte (born Giuseppe di Buonaparte, Italian: [dʒuˈzɛppe di ˌbwɔnaˈparte]; Corsican: Ghjuseppe Napulione Bonaparte; Spanish: José Napoleón Bonaparte; 7 January 1768 – 28 July 1844) was a French statesman, lawyer, diplomat and older brother of Napoleon Bonaparte. During the Napoleonic Wars, the latter made him King of Naples (1806–1808), and then King of Spain (1808–1813). After the fall of Napoleon, Joseph styled himself Comte de Survilliers and emigrated to the United States, where he settled near Bordentown, New Jersey, on an estate overlooking the Delaware River not far from Philadelphia.\\n\\nJoseph was born in 1768 as Giuseppe Buonaparte to Carlo Buonaparte and Maria Letizia Ramolino at Corte, the capital of the Corsican Republic. In the year of his birth, Corsica was invaded by France and conquered the following year. His father was originally a follower of the Corsican patriot leader Pasquale Paoli, but later became a supporter of French rule.\\nBonaparte trained as a lawyer. In that role and as a politician and diplomat, he served in the Cinq-Cents and as the French ambassador to Rome. On 30 September 1800, as Minister Plenipotentiary, he signed a treaty of friendship and commerce between France and the United States at Mortefontaine, Oise, alongside Charles Pierre Claret de Fleurieu, and Pierre Louis Roederer.\\nIn 1795 Bonaparte was a member of the Council of Five Hundred. Four years later, he used this position to help his brother Napoleon to overthrow the Directory.\\n\\nUpon the outbreak of war between France and Austria in 1805, Ferdinand IV of Naples had agreed to a treaty of neutrality with Napoleon but, a few days later, declared his support for Austria. He permitted a large Anglo-Russian force to land in his kingdom. Napoleon, however, was soon victorious. After the War of the Third Coalition was shattered on 5 December at the Battle of Austerlitz, Ferdinand was subject to Napoleon's wrath.\\n\\nOn 27 December 1805, Napoleon issued a proclamation from the Schönbrunn declaring Ferdinand to have forfeited his kingdom. He said that a French invasion would soon follow to ensure 'that the finest of countries is relieved from the yoke of the most faithless of men.'\\nOn 31 December Napoleon commanded Joseph Bonaparte to move to Rome, where he would be assigned to command the army sent to dispossess Ferdinand of his throne. Although Bonaparte was the nominal commander-in-chief of the expedition, Marshal Masséna was in effective command of operations, with General St. Cyr second. But, St. Cyr, who had previously held the senior command of French troops in the region, soon resigned in protest at being made subordinate to Masséna and left for Paris. An outraged Napoleon ordered St. Cyr to return to his post at once.\\nOn 8 February 1806 the French invasion force of forty-thousand men crossed into Naples. The centre and right of the army under Masséna and General Reynier advanced south from Rome, while Giuseppe Lechi led a force down the Adriatic coast from Ancona. On his brother's recommendation, Bonaparte attached himself to Reynier. The French advance faced little resistance. Even before any French troops had crossed the border, the Anglo-Russian forces had beaten a prudent retreat, the British withdrawing to Sicily, and the Russians to Corfu. Abandoned by his allies, King Ferdinand had also already set sail for Palermo on 23 January. Queen Maria-Carolina lingered a little longer in the capital but, on 11 February, fled to join her husband.\\nThe first obstacle the French encountered was the fortress of Gaeta; its governor, Prince Louis of Hesse-Philippsthal, refused to surrender his charge. There was no meaningful delay of the invaders, as Masséna detached a small force to besiege the garrison before continuing south. Capua opened its gates after only token resistance. On 14 February Masséna took possession of Naples and, the following day, Bonaparte staged a triumphant entrance into the city. Reynier was quickly dispa\"),\n",
       " Document(metadata={'title': 'House of Bonaparte', 'summary': 'The House of Bonaparte is a former imperial and royal European dynasty of Italian origin. It was founded in 1804 by Napoleon I, the son of Corsican nobleman Carlo Buonaparte and Letizia Buonaparte (née Ramolino). Napoleon was a French military leader who rose to power during the French Revolution and who, in 1804, transformed the French First Republic into the First French Empire, five years after his coup d\\'état of November 1799 (18 Brumaire). Napoleon and the Grande Armée had to fight against every major European power (except for the ones he was allied with, including Denmark-Norway) and dominated continental Europe through a series of military victories during the Napoleonic Wars. He installed members of his family on the thrones of client states, expanding the power of the dynasty.\\nThe House of Bonaparte formed the Imperial House of France during the French Empire, together with some non-Bonaparte family members. In addition to holding the title of Emperor of the French, the Bonaparte dynasty held various other titles and territories during the Napoleonic Wars, including the Kingdom of Italy, the Kingdom of Spain, the Kingdom of Westphalia, the Kingdom of Holland, and the Kingdom of Naples. The dynasty held power for around a decade until the Napoleonic Wars began to take their toll. Making very powerful enemies, such as Austria, Britain, Russia, and Prussia, as well as royalist (particularly Bourbon) restorational movements in France, Spain, the Two Sicilies, and Sardinia, the dynasty eventually collapsed due to the final defeat of Napoleon at the Battle of Waterloo and the restoration of former dynasties by the Congress of Vienna.\\nDuring the reign of Napoleon I, the Imperial Family consisted of the Emperor\\'s immediate relations – his wife, son, siblings, and some other close relatives, namely his brother-in-law Joachim Murat, his uncle Joseph Fesch, and his stepson Eugène de Beauharnais.\\nBetween 1852 and 1870, there was a Second French Empire, when a member of the Bonaparte dynasty again ruled France: Napoleon III, the youngest son of Louis Bonaparte. However, during the Franco-Prussian War of 1870–1871, the dynasty was again ousted from the Imperial Throne. Since that time, there has been a series of pretenders. Supporters of the Bonaparte family\\'s claim to the throne of France are known as Bonapartists. Current head Jean-Christophe, Prince Napoléon has a Bourbon mother.\\n\\nThe Bonaparte (originally Italian: Buonaparte) family were patricians in the Italian towns of Sarzana, San Miniato, and Florence. The name derives from Italian: buona (\"good\") and parte (\"part\" or \"side\"). In Italian, the phrase \"buona parte\" is used to identify a fraction of considerable, but undefined, size in a totum.\\nGianfaldo Buonaparte was the first known Buonaparte at Sarzana around 1200. His descendant Giovanni Buonaparte in 1397 married Isabella Calandrini, a cousin of later cardinal Filippo Calandrini. Giovanni became mayor of Sarzana and was named commissioner of the Lunigiana by Giovanni Maria Visconti in 1408. His daughter, Agnella Berni, was the great-grandmother of Italian poet Francesco Berni and their great-grandson Francesco Buonaparte was an equestrian mercenary at the service of the Genoese Bank of Saint George. In 1490, Francesco Buonaparte went to the island of Corsica, which was controlled by the bank. In 1493, he married the daughter of Guido da Castelletto, representative of the Bank of Saint George in Ajaccio, Corsica. Most of their descendants during subsequent generations were members of the Ajaccio town council. Napoleon\\'s father, Carlo Buonaparte, received a patent of nobility from the King of France in 1771.\\nThere also existed a Buonaparte family in Florence; however, its eventual relation with the Sarzana and San Miniato families is unknown. Jacopo Buonaparte of San Miniato was a friend and advisor to Medici Pope Clement VII. Jacopo was also a witness to and wrote an account of the sack of Rome, which is one of the most important historical documents recounting that event. Two of Jacopo\\'s nephews, Pier Antonio Buonaparte and Giovanni Buonaparte, however, took part in the 1527 Medici rebellion, after which they were banished from Florence and later were restored by Alessandro de\\' Medici, Duke of Florence. Jacopo\\'s brother Benedetto Buonaparte maintained political neutrality. The San Miniato branch extinguished with Jacopo in 1550. The last member of the Florence family was a canon named Gregorio Bonaparte, who died in 1803, leaving Napoleon as heir.\\nA Buonaparte tomb lies in the Church of San Francesco in San Miniato. A second tomb, the Chapelle Impériale, was built by Napoleon III in Ajaccio 1857.\\n\\n\\t\\t\\n\\t\\t\\t\\n\\t\\t\\t\\n\\t\\t\\n\\t\\t\\n\\t\\t\\t\\n\\t\\t\\t\\n\\t\\t\\n\\t\\t\\n\\t\\t\\t\\n\\t\\t\\t\\n\\t\\t\\n\\nIn 1793 Corsica formally seceded from France and sought protection from the British government, prompting Pasquale Paoli to compel the Bonapartes to relocate to the mainland. Napoleon I is the most prominent name associated with the Bonaparte family because he conquered much of Europe during the early 19th century. Due to his indisputable popularity in France both among the people and in the army, he staged the Coup of 18 Brumaire and overthrew the Directory with the help of his brother Lucien Bonaparte, president of the Council of Five Hundred. Napoleon then oversaw the creation of a new Constitution that made him the First Consul of France on 10 November 1799. On 2 December 1804, he crowned himself Emperor of the French and ruled from 1804 to 1814, and again in 1815 during the Hundred Days after his return from Elba.\\nFollowing his conquest of most of Western Europe, Napoleon I made his elder brother Joseph first King of Naples and then of Spain, his younger brother Louis King of Holland (subsequently forcing his abdication in 1810 after his failure to subordinate Dutch interests to those of France), and his youngest brother Jérôme as King of Westphalia, a short-lived realm created from several states of northwestern Germany.\\nNapoleon\\'s son Napoléon François Charles Joseph was made King of Rome and was later styled as Napoleon II by loyalists of the dynasty, though he only ruled for two weeks after his father\\'s abdication.\\nLouis-Napoléon, son of Louis, was President of France and then Emperor of the French from 1852 to 1870, reigning as Napoleon III. His son, Napoléon, Prince Imperial, died fighting the Zulus in Natal, today the South African province of KwaZulu-Natal. With his death, the family lost much of its remaining political appeal, though claimants continue to assert their right to the imperial title. A political movement for Corsican independence surfaced in the 1990s which included a Bonapartist restoration in its programme.\\n\\nNapoleon I (1804–1814, 1815), also King of Italy (1805–1814) and Emperor in Elba (1814–1815) and Co-Prince of Andorra (1804–1814, 1815)\\nNapoleon II (1815), styled as King of Rome from birth, but never reigned and also Duke of Reichstadt 1818–1832, but never visited the town\\nNapoleon III (1852–1870), also Co-Prince of Andorra (1852–1870)\\n\\nLouis I (1806–1810)\\nLouis II (1810), also Grand Duke of Berg (1809–1813)\\n\\nJoseph I (1806–1808)\\n\\nJérôme I (1807–1813)\\n\\nJoseph I (1808–1813)\\n\\nElisa Bonaparte (1809–1814), also Princess of Lucca and Piombino (1805–1814)\\n\\nNapoléon III (1852–1873)\\nNapoléon IV Eugène (1873–1879), son of Napoléon III\\nNapoléon V Victor (1879–1926), grandson of Napoléon I\\'s youngest brother, Jérôme\\nNapoléon VI Louis (1926–1997), son of Napoléon V Victor\\nDisputed since 1997:\\n\\nNapoléon VII Charles (1997–present), son of Napoléon VI Louis\\nNapoléon VII Jean-Christophe (1997–present), grandson of Napoléon VI Louis\\n\\nNote: Bold for common namesCarlo-Maria (Ajaccio, 1746–Montpellier, 1785) married Maria Letizia Ramolino (Ajaccio, 1750–Rome, 1836) in 1764. He was a minor official in the local courts. They had eight children:\\n\\nJoseph-Napoléon Bonaparte (Corte, 1768–Florence, 1844), King of Naples, then King of Spain, married Julie Clary\\nJulie Joséphine Bonaparte (1796–1796)\\nZénaïde Laetitia Julie Bonaparte (1801–1854)\\nCharlotte Napoléone Bonaparte (1802–1839)\\nNapoléon (I) Bonaparte (1769–1821) Emperor of the French: Married (i) Joséphine de Beauharnais; no issue. Adopted Eugène and Hortense de Beauharnais. Married (ii) Marie Louise of Austria;\\nNapoléon (II) François Joseph Charles Bonaparte (1811–1832), Prince Imperial, King of Rome, Prince of Parma, son of Archduchess Marie Louise of Austria (of the Habsburg dynasty), Empress consort, then Duchess of Parma\\nLucien Bonaparte (1775–1840) Roman Prince of Canino and Musignano\\n3 daughters with first wife, Christine Boyer:\\nCharlotte Philistine Bonaparte (1795–1865), married Prince Mario Gabrielli\\nVictoire Gertrude Bonaparte (1797–1797)\\nChristine Charlotte Alexandrine Egypta Bonaparte (1798–1847), married Count Arvid Posse, then married Lord Dudley Stuart\\n10 children with second wife, Alexandrine de Bleschamp:\\nCharles Lucien Jules Laurent Bonaparte (1803–1857), ornithologist and politician, married Princess Zénaïde Bonaparte (1801–1854)\\nJoseph Lucien Charles Napoléon Bonaparte (1824–1865)\\nAlexandrine Gertrude Zénaïde Bonaparte (1826–1828)\\nLucien Louis Joseph Napoléon (Cardinal) Bonaparte (1828–1895)\\nJulie Charlotte Pauline Zénaïde Laetitia Désirée Bartholomée Bonaparte (1830–1900)\\nCharlotte Honorine Joséphine Pauline Bonaparte (1832–1901)\\nLéonie Stéphanie Elise Bonaparte (1833–1839)\\nMarie Désirée Eugénie Joséphine Philomène Bonaparte (1835–1890)\\nAugusta Amélie Maximilienne Jacqueline Bonaparte (1836–1900)\\nNapoléon Charles Grégoire Jacques Philippe Bonaparte (1839–1899)\\nZénaïde Victoire Eugénie Bonaparte (1860–1862)\\nMarie Léonie Eugénie Mathilde Jeanne Julie Zénaïde Bonaparte (1870–1947)\\nEugénie Laetitia Barbe Caroline Lucienne Marie Jeanne Bonaparte (1872–1949)\\nBathilde Aloïse Léonie Bonaparte (1840–1861)\\nAlbertine Marie Thérèse Bonaparte (1842–1842)\\nCharles Albert Edmond Bonaparte (1843–1847)\\nLaetitia Christine Bonaparte (1804–1871)\\nJoseph Lucien Bonaparte (1806–1807)\\nJeanne Adélaïde Bonaparte (1807–1829)\\nPaul Marie Bonaparte (1808–1827)\\nLouis Lucien Bonaparte (1813–1891)\\nPierre Napoléon Bonaparte (1815–1881), married Éléonore-Justine Ruflin\\nRoland Bonaparte (1858–1924), married Marie-Félix Blanc\\nPrincess Marie Bonaparte (1882–1962), married Prince George of Greece\\nPrincess Jeanne Bonaparte (1861–1910)\\nAntoine Lucien Bonaparte (1816–1877)\\nAlexandrine Marie Bonaparte (1818–1874)\\nConstance Marie Bonaparte (1823–1876)\\nMaria-Anna Elisa Bonaparte (1777–1820), Grand-Duchess of Tuscany, married Felice Baciocchi, Prince of Lucca\\nMarie-Laetitia Bonaparte Baciocchi\\nLouis-Napoléon Bonaparte (1778–1846), King of Holland, married Hortense de Beauharnais, Napoleon\\'s stepdaughter\\nNapoléon Charles Bonaparte (1802–1807)\\nNapoléon Louis Bonaparte (1804–1831)\\nCharles Louis Napoléon (III) Bonaparte (1808–1873) Emperor of the French, married Maria Eugenia Ignacia Augustina Palafox de Guzmán Portocarrero y Kirkpatrick\\nNapoléon Eugène Louis John Joseph Bonaparte, Prince Imperial (1856–1879)\\nMaria Paola or Marie Pauline Bonaparte (1780–1825) Princess and Duchess of Guastalla, married in 1797 to French General Charles Leclerc and later married Camillo Borghese, 6th Prince of Sulmona.\\nMaria Annunziata Caroline Bonaparte (1782–1839) married Joachim Murat, Marshal of the Empire, Grand Duke of Berg, then King of Naples\\nPrince Achille Murat (1801–1847), married Catherine Willis Gray (1803–1867), great-grandniece of George Washington\\nPrince Napoléon Lucien Charles Murat (1803–1878), married Caroline Georgina Fraser (1810–1879)\\n5 Children, including:\\nJoachim Joseph Napoléon Murat, 4th Prince Murat (1834–1901), Major-General of the French Army, married firstly Malcy Louise Caroline Berthier de Wagram (1832–1884) and had issue, and secondly Lydia Hervey, without issue\\nPrince Louis Napoléon Murat (1851–1912), married in Odesa, Eudoxia Mikhailovna Somova (1850–1924), had issue now extinct in male line\\nJérôme-Napoléon Bonaparte (1784–1860), King of Westphalia\\n1 child from first marriage, to Betsy Patterson of Baltimore:\\nJérôme Napoléon Bonaparte (1805–1870), married Susan May Williams and had 2 sons:\\nJerome Napoleon Bonaparte II (1830–1893), married Caroline Le Roy Appleton Edgar\\nLouise-Eugénie Bonaparte (1873–1923), married in 1896 Count Adam Carl von Moltke-Huitfeld (1864–1944); numerous descendants\\nJerome Napoléon Charles Bonaparte III (1878–1945), married Blanche Pierce Stenbeigh, no issue\\nCharles Joseph Bonaparte (1851–1921), United States Secretary of the Navy and United States Attorney General, married Ellen Channing Day, no issue\\n3 children from second marriage, to Princess Catharina of Württemberg:\\nJérôme Napoléon Charles Bonaparte I (1814–1847), unmarried and childless\\nMathilde Laetitia Wilhelmine Bonaparte (1820–1904), married Anatoly Nikolaievich Demidov, 1st Prince of San Donato: no issue\\nNapoléon Joseph Charles Paul Bonaparte, Prince Napoléon (1822–1891), called Plon-Plon, married Princess Marie Clothilde of Savoy daughter of Victor Emmanuel II of Italy\\nNapoléon Victor Jérôme Frédéric Bonaparte, Prince Napoléon (1862–1926), married Princess Clémentine of Belgium\\nMarie Clotilde Eugénie Alberte Laetitia Geneviève Bonaparte (1912–1996), married Count Serge de Witt\\nLouis Jérôme Victor Emmanuel Léopold Marie Bonaparte, Prince Napoléon (1914–1997), married Alix de Foresta\\nCharles Marie Jérôme Victor Bonaparte, Prince Napoléon (born 1950)\\nTwo children from first marriage, to Princess Béatrice of Bourbon-Two Sicilies:\\nCaroline Marie Constance Bonaparte (Princess Caroline Napoléon) (born 1980)\\nJean-Christophe Louis Ferdinand Albéric Bonaparte, Prince Napoléon (born 1986), married Countess Olympia von und zu Arco-Zinneberg\\nLouis Charles Riprand Victor Jérôme Marie Napoléon (born 2022)\\n1 child and 1 adopted child from second marriage, to Jeanne-Françoise Valliccioni:\\nSophie Catherine Bonaparte (born 1992)\\nAnh Laëtitia Bonaparte (born 1998, adopted)\\nCatherine Elisabeth Albérique Marie Bonaparte (born 1950)\\nLaure Clémentine Geneviève Bonaparte (born 1952)\\nJérôme Xavier Marie Joseph Victor Bonaparte (Prince Jérôme Napoléon) (born 1957), married in 2013 with Licia Innocenti\\nNapoléon Louis Joseph Jérôme Bonaparte (1864–1932) Russian general, unmarried and childless\\nMarie Laetitia Eugénie Catherine Adélaïde Bonaparte (1866–1926), married Prince Amedeo of Savoy, Duke of Aosta\\n\\nCharles Buonaparte, 1746–1785\\nJoseph Bonaparte, King of Naples, then King of Spain, 1768–1844\\nNapoleon Bonaparte, 1769–1821, Emperor of the French\\nNapoleon II, 1811–1832, Prince Imperial, King of Rome\\nLucien Bonaparte, 1775–1840, Prince of Canino and Musignano\\nCharles Lucien Bonaparte, 2nd Prince of Canino and Musignano, 1803–1857\\nJoseph Lucien Bonaparte, 3rd Prince of Canino and Musignano, 1824–1865\\nLucien Bonaparte (cardinal), 4th Prince of Canino and Musignano, 1828–1895\\nNapoleon Charles Bonaparte, 5th Prince of Canino and Musignano, 1839–1899\\nPaul Mary Bonaparte, 1808–1827\\nLouis Lucien Bonaparte, 1813–1891\\nPeter Napoléon Bonaparte, 1815–1881\\nRoland Bonaparte, 1858–1924\\nAnthony Lucien Bonaparte, 1816–1877\\nLouis Bonaparte, 1778–1846, King of Holland\\nNapoléon Louis Bonaparte, 1804–1831\\nNapoleon III, 1808–1873, Emperor of the French\\nLouis-Napoléon, Prince Imperial, 1856–1879\\nJérôme Bonaparte, 1784–1860, King of Westphalia\\nJérôme Napoléon Bonaparte, 1805–1870\\nJerome Napoleon Bonaparte II, 1830–1893\\nJerome Napoléon Charles Bonaparte III, 1878–1945\\nCharles Joseph Bonaparte, 1851–1921\\nJérôme Napoléon Charles Bonaparte I, 1814–1847\\nPrince Napoléon-Jérôme Bonaparte, 1822–1891\\nVictor, Prince Napoléon, 1862–1926\\nLouis, Prince Napoléon, 1914–1997\\nCharles, Prince Napoléon, b. 1950\\nJean-Christophe, Prince Napoléon, b. 1986\\nLouis Charles Napoléon, b. 2022\\nJérôme Xavier, b. 1957\\nLouis Bonaparte, 1864–1932\\n\\nThe arms of the Bonaparte family were: Gules two bends sinister between two mullets or. In 1804, Napoleon I changed the arms to Azure an imperial eagle or. The change applied to all members of his family except for his brother Lucien and his nephew, the son from Jérôme\\'s first marriage.\\n\\n\\t\\t\\n\\t\\t\\t\\n\\t\\t\\t\\n\\t\\t\\n\\t\\t\\n\\t\\t\\t\\n\\t\\t\\t\\n\\t\\t\\n\\t\\t\\n\\t\\t\\t\\n\\t\\t\\t\\n\\t\\t\\n\\t\\t\\n\\t\\t\\t\\n\\t\\t\\t\\n\\t\\t\\n\\t\\t\\n\\t\\t\\t\\n\\t\\t\\t\\n\\t\\t\\n\\t\\t\\n\\t\\t\\t\\n\\t\\t\\t\\n\\t\\t\\n\\t\\t\\n\\t\\t\\t\\n\\t\\t\\t\\n\\t\\t\\n\\t\\t\\n\\t\\t\\t\\n\\t\\t\\t\\n\\t\\t\\n\\nAccording to studies by G. Lucotte and his coauthors based on DNA research since 2011, Napoleon Bonaparte belonged to Y-DNA (direct male ancestry) haplogroup E1b1b1c1* (E-M34*). This 15000-year-old haplogroup has its highest concentration in Ethiopia and in the Near East (Jordan, Yemen). According to the authors of the study, \"Probably Napoléon also knew his remote oriental patrilineal origins, because Francesco Buonaparte (the Giovanni son), who was a mercenary under the orders of the Genoa Republic in Ajaccio in 1490, was nicknamed The Maure of Sarzane.\" The latest study identifies the common Bonaparte DNA markers from Carlo (Charles) Bonaparte to 3 living descendants.\\nLucotte et al. published in October 2013 the extended Y-STR of Napoleon I based on descendant testing, and the descendants were E-M34, just like the emperor\\'s beard hair tested a year before. The persons tested were the patrilineal descendants of Jérome Bonaparte, one of Napoleon\\'s brothers, and of Alexandre Colonna-Walewski, Napoleon\\'s illegitimate son with Marie Walewska. These three tests all yielded the same Y-STR haplotype (109 markers) confirming with 100% certainty that the first Emperor of the French belonged to the M34 branch of haplogroup E1b1b.\\nSTR strongly suggests that the Bonaparte belong to the Y58897 branch, which means that the ancestor 3000 years ago or a bit more lived in Anatolia, but all relatives in the database with a common ancestor with over a 1000 years are found in their own the Massa - La Spezia small area in Italy. There are at the moment no relatives in the database older than that, which means they are very rare in Europe.\\n\\nCharles, Prince Napoléon (born 1950, great-great-grandson of Jérôme Bonaparte by his second marriage), and his son Jean-Christophe, Prince Napoléon (born 1986 and appointed heir in the will of his grandfather Louis, Prince Napoléon) currently dispute the headship of the Bonaparte family. The only other male members of the family are Charles\\'s recently married (2013) brother, Prince Jérôme Napoléon (born 1957) and Jean-Christophe\\'s son, Prince Louis Napoléon (born 2022). There are no other legitimate descendants in the male line from Napoleon I or from his brothers.\\nThere are, however, numerous descendants of Napoleon\\'s illegitimate, unacknowledged son, Count Alexandre Colonna-Walewski (1810–1868), born from Napoleon I\\'s union with Marie, Countess Walewski. A descendant of Napoleon\\'s sister Caroline Bonaparte was actor René Auberjonois. Recent DNA-matches with living descendants of Jérôme and Count Walewski have confirmed the existence of descendants of Lucien Bonaparte, Napoleon\\'s brother, namely the Clovis family.\\n\\n\\t\\t\\n\\t\\t\\t\\n\\t\\t\\t\\n\\t\\t\\n\\t\\t\\n\\t\\t\\t\\n\\t\\t\\t\\n\\t\\t\\n\\t\\t\\n\\t\\t\\t\\n\\t\\t\\t\\n\\t\\t\\n\\t\\t\\n\\t\\t\\t\\n\\t\\t\\t\\n\\t\\t\\n\\nBonapartism\\nBonapartists (political party)\\nSuccession to the former French throne (Bonapartist)\\n\\n Media related to House of Bonaparte at Wikimedia Commons\\n(in Italian) The coat of arms of the Tuscan branch of Bonaparte family in State Archives of Florence\\nRose, John Holland (1911). \"Bonaparte\" . Encyclopædia Britannica. Vol. 4 (11th ed.). pp. 192–197.', 'source': 'https://en.wikipedia.org/wiki/House_of_Bonaparte'}, page_content='The House of Bonaparte is a former imperial and royal European dynasty of Italian origin. It was founded in 1804 by Napoleon I, the son of Corsican nobleman Carlo Buonaparte and Letizia Buonaparte (née Ramolino). Napoleon was a French military leader who rose to power during the French Revolution and who, in 1804, transformed the French First Republic into the First French Empire, five years after his coup d\\'état of November 1799 (18 Brumaire). Napoleon and the Grande Armée had to fight against every major European power (except for the ones he was allied with, including Denmark-Norway) and dominated continental Europe through a series of military victories during the Napoleonic Wars. He installed members of his family on the thrones of client states, expanding the power of the dynasty.\\nThe House of Bonaparte formed the Imperial House of France during the French Empire, together with some non-Bonaparte family members. In addition to holding the title of Emperor of the French, the Bonaparte dynasty held various other titles and territories during the Napoleonic Wars, including the Kingdom of Italy, the Kingdom of Spain, the Kingdom of Westphalia, the Kingdom of Holland, and the Kingdom of Naples. The dynasty held power for around a decade until the Napoleonic Wars began to take their toll. Making very powerful enemies, such as Austria, Britain, Russia, and Prussia, as well as royalist (particularly Bourbon) restorational movements in France, Spain, the Two Sicilies, and Sardinia, the dynasty eventually collapsed due to the final defeat of Napoleon at the Battle of Waterloo and the restoration of former dynasties by the Congress of Vienna.\\nDuring the reign of Napoleon I, the Imperial Family consisted of the Emperor\\'s immediate relations – his wife, son, siblings, and some other close relatives, namely his brother-in-law Joachim Murat, his uncle Joseph Fesch, and his stepson Eugène de Beauharnais.\\nBetween 1852 and 1870, there was a Second French Empire, when a member of the Bonaparte dynasty again ruled France: Napoleon III, the youngest son of Louis Bonaparte. However, during the Franco-Prussian War of 1870–1871, the dynasty was again ousted from the Imperial Throne. Since that time, there has been a series of pretenders. Supporters of the Bonaparte family\\'s claim to the throne of France are known as Bonapartists. Current head Jean-Christophe, Prince Napoléon has a Bourbon mother.\\n\\nThe Bonaparte (originally Italian: Buonaparte) family were patricians in the Italian towns of Sarzana, San Miniato, and Florence. The name derives from Italian: buona (\"good\") and parte (\"part\" or \"side\"). In Italian, the phrase \"buona parte\" is used to identify a fraction of considerable, but undefined, size in a totum.\\nGianfaldo Buonaparte was the first known Buonaparte at Sarzana around 1200. His descendant Giovanni Buonaparte in 1397 married Isabella Calandrini, a cousin of later cardinal Filippo Calandrini. Giovanni became mayor of Sarzana and was named commissioner of the Lunigiana by Giovanni Maria Visconti in 1408. His daughter, Agnella Berni, was the great-grandmother of Italian poet Francesco Berni and their great-grandson Francesco Buonaparte was an equestrian mercenary at the service of the Genoese Bank of Saint George. In 1490, Francesco Buonaparte went to the island of Corsica, which was controlled by the bank. In 1493, he married the daughter of Guido da Castelletto, representative of the Bank of Saint George in Ajaccio, Corsica. Most of their descendants during subsequent generations were members of the Ajaccio town council. Napoleon\\'s father, Carlo Buonaparte, received a patent of nobility from the King of France in 1771.\\nThere also existed a Buonaparte family in Florence; however, its eventual relation with the Sarzana and San Miniato families is unknown. Jacopo Buonaparte of San Miniato was a friend and advisor to Medici Pope Clement VII. Jacopo was also a witness to and wrote an account of the sack of Rome, which is one of the most'),\n",
       " Document(metadata={'title': 'Napoléon Louis Bonaparte', 'summary': \"Napoléon-Louis Bonaparte (11 October 1804 – 17 March 1831) was King of Holland for less than two weeks in July 1810 as Louis II (Dutch: Lodewijk II). He was a son of Louis Bonaparte (King Louis I) and Queen Hortense. His father was the younger brother of Napoleon I of France who ruled the Napoleonic Kingdom of Holland from 1806 to 1810. His mother was the daughter of Josephine de Beauharnais, Napoleon's first wife. His younger brother, Louis-Napoléon, became Emperor of the French in 1852 as Napoleon III.\", 'source': 'https://en.wikipedia.org/wiki/Napol%C3%A9on_Louis_Bonaparte'}, page_content=\"Napoléon-Louis Bonaparte (11 October 1804 – 17 March 1831) was King of Holland for less than two weeks in July 1810 as Louis II (Dutch: Lodewijk II). He was a son of Louis Bonaparte (King Louis I) and Queen Hortense. His father was the younger brother of Napoleon I of France who ruled the Napoleonic Kingdom of Holland from 1806 to 1810. His mother was the daughter of Josephine de Beauharnais, Napoleon's first wife. His younger brother, Louis-Napoléon, became Emperor of the French in 1852 as Napoleon III.\\n\\n\\n== Biography ==\\nNapoléon Louis's brother, Napoléon Charles, died in 1807 at the age of four. On his death, Napoléon Louis became Prince Royal of Holland. It also made Napoléon Louis the second eldest nephew of Emperor Napoléon I, who at the time had no legitimate children, and he was his uncle's likely eventual successor. He lost this presumptive status on 20 March 1811 when his uncle's second wife, Marie Louise, gave birth to a son, Napoléon François Joseph Charles Bonaparte, who was styled the King of Rome and later the Duke of Reichstadt.\\nIn 1809, Napoléon I appointed him as Grand Duke of Berg, a status he kept until 1813.\\nOn 1 July 1810, Louis I of Holland abdicated his throne in favour of Napoléon Louis. For the nine days between his father's abdication and the fall of Holland to the invading French army in July 1810, Napoléon Louis reigned as Lodewijk II, King of Holland.\\nWhen Napoléon I was deposed in 1815 after the Battle of Waterloo, the House of Bourbon was restored to the throne of France. Napoléon Louis fled into exile, but the Bonapartes never abandoned the thought of restoring the Napoleonic Empire.\\nOn 23 July 1826 Napoléon Louis married his first cousin, Charlotte, who was the daughter of Joseph Bonaparte, eldest brother of Napoléon I. He and his younger brother Louis-Napoléon Bonaparte settled in Italy, where they espoused liberal politics and became involved with the Carbonari, an organization fighting Austria's domination of northern Italy.\\nOn 17 March 1831, while fleeing Italy due to a crackdown on revolutionary activity by Papal and Austrian troops, Napoléon Louis, suffering from measles, died in Forlì. Eventually, the French Empire would be restored by Napoléon-Louis's younger brother, Louis-Napoléon Bonaparte, who became Napoléon III in 1852.\\nNapoléon Louis is buried at Saint-Leu-la-Forêt, Île-de-France.\\n\\n\\n== Gallery ==\\n\\n\\t\\t\\n\\t\\t\\t\\n\\t\\t\\t\\n\\t\\t\\n\\t\\t\\n\\t\\t\\t\\n\\t\\t\\t\\n\\t\\t\\n\\t\\t\\n\\t\\t\\t\\n\\t\\t\\t\\n\\t\\t\\n\\t\\t\\n\\t\\t\\t\\n\\t\\t\\t\\n\\t\\t\\n\\t\\t\\n\\t\\t\\t\\n\\t\\t\\t\\n\\t\\t\\n\\t\\t\\n\\t\\t\\t\\n\\t\\t\\t\\n\\t\\t\\n\\n\\n== References ==\")]"
      ]
     },
     "execution_count": 3,
     "metadata": {},
     "output_type": "execute_result"
    }
   ],
   "source": [
    "# download the wikipedia pages for \"Napoleon Bonaparte\"\n",
    "\n",
    "raw_documents = WikipediaLoader(query=\"Napoleon Bonaparte\").load()\n",
    "raw_documents[:5]"
   ]
  },
  {
   "cell_type": "code",
   "execution_count": 23,
   "metadata": {},
   "outputs": [],
   "source": [
    "# split the documents into chunks\n",
    "\n",
    "text_splitter = TokenTextSplitter(chunk_size=1024, chunk_overlap=24)\n",
    "documents = text_splitter.split_documents(raw_documents[:3])"
   ]
  },
  {
   "cell_type": "markdown",
   "metadata": {},
   "source": [
    "## Build the Graph"
   ]
  },
  {
   "cell_type": "code",
   "execution_count": 7,
   "metadata": {},
   "outputs": [],
   "source": [
    "# convert the text documents to graph documents\n",
    "from langchain_experimental.graph_transformers import LLMGraphTransformer\n",
    "\n",
    "llm_transformer = LLMGraphTransformer(llm=llm)\n",
    "#your can filter the nodes and relationships that you want to include in the graph\n",
    "# llm_transformer_filtered = LLMGraphTransformer(\n",
    "#     llm=llm,\n",
    "#     allowed_nodes=[\"Person\", \"Country\", \"Organization\"],\n",
    "#     allowed_relationships=[\"NATIONALITY\", \"LOCATED_IN\", \"WORKED_AT\", \"SPOUSE\"],\n",
    "# )\n",
    "\n",
    "graph_documents = llm_transformer.convert_to_graph_documents(documents)\n",
    "\n"
   ]
  },
  {
   "cell_type": "code",
   "execution_count": 8,
   "metadata": {},
   "outputs": [
    {
     "name": "stdout",
     "output_type": "stream",
     "text": [
      "id='Napoleon Bonaparte' type='Person'\n",
      "id='Napoleone Di Buonaparte' type='Person'\n",
      "id='Napoleon I' type='Person'\n",
      "id='French Revolution' type='Event'\n",
      "id='Revolutionary Wars' type='Event'\n",
      "id='Napoleonic Wars' type='Event'\n",
      "id='French Republic' type='Country'\n",
      "id='First Consul' type='Position'\n",
      "id='French Empire' type='Country'\n",
      "id='Emperor Of The French' type='Position'\n",
      "id='Corsica' type='Location'\n",
      "id='French Army' type='Organization'\n",
      "id='Siege Of Toulon' type='Event'\n",
      "id='Paris' type='Location'\n",
      "id='War Of The First Coalition' type='Event'\n",
      "id='Egypt And Syria' type='Location'\n",
      "id='Coup Of 18 Brumaire' type='Event'\n",
      "id='Battle Of Marengo' type='Event'\n",
      "id='War Of The Second Coalition' type='Event'\n",
      "id='Louisiana' type='Location'\n",
      "id='United States' type='Country'\n",
      "id='Treaty Of Amiens' type='Event'\n",
      "id='War Of The Third Coalition' type='Event'\n",
      "id='Battle Of Austerlitz' type='Event'\n",
      "id='Holy Roman Empire' type='Country'\n",
      "id='War Of The Fourth Coalition' type='Event'\n",
      "id='Battle Of Jena–Auerstedt' type='Event'\n",
      "id='Grande Armée' type='Organization'\n",
      "id='Battle Of Friedland' type='Event'\n",
      "id='Iberian Peninsula' type='Location'\n",
      "id='Joseph Bonaparte' type='Person'\n",
      "id='King Of Spain' type='Position'\n",
      "id='Peninsular War' type='Event'\n",
      "id='War Of The Fifth Coalition' type='Event'\n",
      "id='Battle Of Wagram' type='Event'\n",
      "id='Russia' type='Country'\n",
      "id='War Of The Sixth Coalition' type='Event'\n",
      "id='Battle Of Leipzig' type='Event'\n",
      "id='Bourbons' type='Family'\n",
      "id='Elba' type='Location'\n",
      "id='Hundred Days' type='Event'\n",
      "id='Seventh Coalition' type='Event'\n",
      "id='Battle Of Waterloo' type='Event'\n",
      "id='Saint Helena' type='Location'\n",
      "id='Military Commander' type='Occupation'\n",
      "id='Napoleonic Code' type='Document'\n",
      "id='Public Education' type='Concept'\n",
      "id='Feudalism' type='Concept'\n",
      "id='Jews' type='Group'\n",
      "id='Religious Minorities' type='Group'\n",
      "id='Spanish Inquisition' type='Organization'\n",
      "id='Middle Class' type='Group'\n",
      "id='Nation States' type='Concept'\n"
     ]
    }
   ],
   "source": [
    "for node in graph_documents[0].nodes:\n",
    "    print(node)"
   ]
  },
  {
   "cell_type": "code",
   "execution_count": 9,
   "metadata": {},
   "outputs": [
    {
     "name": "stdout",
     "output_type": "stream",
     "text": [
      "source=Node(id='Napoleon Bonaparte', type='Person') target=Node(id='Napoleone Di Buonaparte', type='Person') type='ALIAS'\n",
      "source=Node(id='Napoleon Bonaparte', type='Person') target=Node(id='Napoleon I', type='Person') type='REGNAL_NAME'\n",
      "source=Node(id='Napoleon Bonaparte', type='Person') target=Node(id='French Revolution', type='Event') type='INVOLVEMENT'\n",
      "source=Node(id='Napoleon Bonaparte', type='Person') target=Node(id='Revolutionary Wars', type='Event') type='LEADERSHIP'\n",
      "source=Node(id='Napoleon Bonaparte', type='Person') target=Node(id='Napoleonic Wars', type='Event') type='LEADERSHIP'\n",
      "source=Node(id='Napoleon Bonaparte', type='Person') target=Node(id='French Republic', type='Country') type='LEADERSHIP'\n",
      "source=Node(id='First Consul', type='Position') target=Node(id='French Republic', type='Country') type='POSITION_OF'\n",
      "source=Node(id='Napoleon Bonaparte', type='Person') target=Node(id='First Consul', type='Position') type='POSITION'\n",
      "source=Node(id='Napoleon Bonaparte', type='Person') target=Node(id='French Empire', type='Country') type='LEADERSHIP'\n",
      "source=Node(id='Emperor Of The French', type='Position') target=Node(id='French Empire', type='Country') type='POSITION_OF'\n",
      "source=Node(id='Napoleon Bonaparte', type='Person') target=Node(id='Emperor Of The French', type='Position') type='POSITION'\n",
      "source=Node(id='Napoleon Bonaparte', type='Person') target=Node(id='Corsica', type='Location') type='BIRTHPLACE'\n",
      "source=Node(id='Napoleon Bonaparte', type='Person') target=Node(id='French Army', type='Organization') type='COMMISSION'\n",
      "source=Node(id='Napoleon Bonaparte', type='Person') target=Node(id='Paris', type='Location') type='MILITARY_ACTION'\n",
      "source=Node(id='Napoleon Bonaparte', type='Person') target=Node(id='War Of The First Coalition', type='Event') type='COMMAND'\n",
      "source=Node(id='Napoleon Bonaparte', type='Person') target=Node(id='Egypt And Syria', type='Location') type='EXPEDITION'\n",
      "source=Node(id='Napoleon Bonaparte', type='Person') target=Node(id='Coup Of 18 Brumaire', type='Event') type='ENGINEERING'\n",
      "source=Node(id='Napoleon Bonaparte', type='Person') target=Node(id='Battle Of Marengo', type='Event') type='VICTORY'\n",
      "source=Node(id='Napoleon Bonaparte', type='Person') target=Node(id='War Of The Second Coalition', type='Event') type='VICTORY'\n",
      "source=Node(id='Louisiana', type='Location') target=Node(id='United States', type='Country') type='TERRITORY_SOLD_BY'\n",
      "source=Node(id='Napoleon Bonaparte', type='Person') target=Node(id='Louisiana', type='Location') type='SELLER'\n",
      "source=Node(id='Treaty Of Amiens', type='Event') target=Node(id='War Of The Third Coalition', type='Event') type='CAUSE'\n",
      "source=Node(id='Napoleon Bonaparte', type='Person') target=Node(id='Battle Of Austerlitz', type='Event') type='VICTORY'\n",
      "source=Node(id='Holy Roman Empire', type='Country') target=Node(id='Battle Of Austerlitz', type='Event') type='DISSOLUTION_CAUSE'\n",
      "source=Node(id='Napoleon Bonaparte', type='Person') target=Node(id='Battle Of Jena–Auerstedt', type='Event') type='VICTORY'\n",
      "source=Node(id='Napoleon Bonaparte', type='Person') target=Node(id='Battle Of Friedland', type='Event') type='VICTORY'\n",
      "source=Node(id='Joseph Bonaparte', type='Person') target=Node(id='King Of Spain', type='Position') type='POSITION'\n",
      "source=Node(id='Joseph Bonaparte', type='Person') target=Node(id='Iberian Peninsula', type='Location') type='INSTALLATION_BY'\n",
      "source=Node(id='Napoleon Bonaparte', type='Person') target=Node(id='Joseph Bonaparte', type='Person') type='BROTHER'\n",
      "source=Node(id='Napoleon Bonaparte', type='Person') target=Node(id='Peninsular War', type='Event') type='PROVOCATION'\n",
      "source=Node(id='Napoleon Bonaparte', type='Person') target=Node(id='Battle Of Wagram', type='Event') type='VICTORY'\n",
      "source=Node(id='Russia', type='Country') target=Node(id='Napoleon Bonaparte', type='Person') type='INVASION_BY'\n",
      "source=Node(id='Napoleon Bonaparte', type='Person') target=Node(id='Battle Of Leipzig', type='Event') type='DEFEAT'\n",
      "source=Node(id='Bourbons', type='Family') target=Node(id='French Empire', type='Country') type='RESTORATION_TO_POWER'\n",
      "source=Node(id='Napoleon Bonaparte', type='Person') target=Node(id='Bourbons', type='Family') type='ABDICATION'\n",
      "source=Node(id='Napoleon Bonaparte', type='Person') target=Node(id='Elba', type='Location') type='EXILE'\n",
      "source=Node(id='Napoleon Bonaparte', type='Person') target=Node(id='Hundred Days', type='Event') type='RETURN_FROM_EXILE'\n",
      "source=Node(id='Napoleon Bonaparte', type='Person') target=Node(id='Battle Of Waterloo', type='Event') type='DEFEAT'\n",
      "source=Node(id='Napoleon Bonaparte', type='Person') target=Node(id='Saint Helena', type='Location') type='EXILE'\n",
      "source=Node(id='Napoleonic Code', type='Document') target=Node(id='Napoleon Bonaparte', type='Person') type='ENACTMENT'\n",
      "source=Node(id='Public Education', type='Concept') target=Node(id='Napoleon Bonaparte', type='Person') type='ESTABLISHMENT'\n",
      "source=Node(id='Feudalism', type='Concept') target=Node(id='Napoleon Bonaparte', type='Person') type='ABOLITION'\n",
      "source=Node(id='Jews', type='Group') target=Node(id='Napoleon Bonaparte', type='Person') type='EMANCIPATION_BY'\n",
      "source=Node(id='Religious Minorities', type='Group') target=Node(id='Napoleon Bonaparte', type='Person') type='EMANCIPATION_BY'\n",
      "source=Node(id='Spanish Inquisition', type='Organization') target=Node(id='Napoleon Bonaparte', type='Person') type='ABOLITION'\n",
      "source=Node(id='Middle Class', type='Group') target=Node(id='Napoleon Bonaparte', type='Person') type='LEGAL_EQUALITY_ENACTED_BY'\n"
     ]
    }
   ],
   "source": [
    "for relation in graph_documents[0].relationships:\n",
    "    print(relation)"
   ]
  },
  {
   "cell_type": "code",
   "execution_count": 11,
   "metadata": {},
   "outputs": [],
   "source": [
    "#load the graph documents into Neo4j\n",
    "from langchain_community.graphs import Neo4jGraph\n",
    "\n",
    "url = \"neo4j+s://{}:7687\".format(NEO4J_URI)\n",
    "\n",
    "graph = Neo4jGraph(url=url, username=NEO4J_USERNAME, password=NEO4J_PASSWORD)\n",
    "\n",
    "graph.add_graph_documents(graph_documents, baseEntityLabel=True, include_source=True)"
   ]
  },
  {
   "cell_type": "markdown",
   "metadata": {},
   "source": [
    "## Add embeddings"
   ]
  },
  {
   "cell_type": "code",
   "execution_count": 12,
   "metadata": {},
   "outputs": [],
   "source": [
    "from langchain_openai import AzureOpenAIEmbeddings\n",
    "from langchain_community.vectorstores import Neo4jVector\n",
    "from langchain_community.graphs import Neo4jGraph\n",
    "from langchain_experimental.graph_transformers import LLMGraphTransformer\n",
    "\n",
    "\n",
    "# define embeddings \n",
    "embeddings = AzureOpenAIEmbeddings(\n",
    "    model=OPENAI_ADA_EMBEDDING_DEPLOYMENT_NAME,\n",
    "    azure_endpoint=OPENAI_DEPLOYMENT_ENDPOINT,\n",
    "    openai_api_version=api_version,\n",
    "    chunk_size = 1\n",
    ")\n",
    "\n",
    "vector_index = Neo4jVector.from_existing_graph(\n",
    "    embeddings,\n",
    "    search_type=\"hybrid\",\n",
    "    node_label=\"Document\",\n",
    "    text_node_properties=[\"text\"],\n",
    "    embedding_node_property=\"embedding\",\n",
    "    url=url, \n",
    "    username=NEO4J_USERNAME, \n",
    "    password=NEO4J_PASSWORD\n",
    ")"
   ]
  },
  {
   "cell_type": "markdown",
   "metadata": {},
   "source": [
    "## Search the graph"
   ]
  },
  {
   "cell_type": "code",
   "execution_count": 53,
   "metadata": {},
   "outputs": [
    {
     "name": "stdout",
     "output_type": "stream",
     "text": [
      "\n",
      "\n",
      "\u001b[1m> Entering new GraphCypherQAChain chain...\u001b[0m\n",
      "Generated Cypher:\n",
      "\u001b[32;1m\u001b[1;3mMATCH (n) WHERE n:Person OR n:Location OR n:Event RETURN COUNT(n);\u001b[0m\n",
      "Full Context:\n",
      "\u001b[32;1m\u001b[1;3m[{'COUNT(n)': 60}]\u001b[0m\n",
      "\n",
      "\u001b[1m> Finished chain.\u001b[0m\n"
     ]
    },
    {
     "data": {
      "text/plain": [
       "{'query': 'Count how many persons, locations, or events?',\n",
       " 'result': 'There are 60 persons, locations, or events.'}"
      ]
     },
     "execution_count": 53,
     "metadata": {},
     "output_type": "execute_result"
    }
   ],
   "source": [
    "from langchain.chains import GraphCypherQAChain\n",
    "\n",
    "query = \"Count how many persons, locations, or events?\"\n",
    "\n",
    "chain = GraphCypherQAChain.from_llm(graph=graph, llm=llm, verbose=True)\n",
    "response = chain.invoke({\"query\": query})\n",
    "response"
   ]
  },
  {
   "cell_type": "markdown",
   "metadata": {},
   "source": [
    "## Search the embeddings"
   ]
  },
  {
   "cell_type": "code",
   "execution_count": 64,
   "metadata": {},
   "outputs": [],
   "source": [
    "# call OpenAI to get the answer\n",
    "from openai import AzureOpenAI\n",
    "clientOpenAI = AzureOpenAI(\n",
    "  azure_endpoint = OPENAI_DEPLOYMENT_ENDPOINT, \n",
    "  api_key=OPENAI_API_KEY,  \n",
    "  api_version=\"2023-05-15\"\n",
    ")\n",
    "\n",
    "def call_openAI(question, answer):\n",
    "    prompt = 'Question: {}'.format(question) + '\\n' + 'Information: {}'.format(answer)\n",
    "    # prepare prompt\n",
    "    messages = [{\"role\": \"system\", \"content\": \"You are a HELPFUL assistant answering users questions. Answer the question using the provided information and do not add anything else.\"},\n",
    "            {\"role\": \"user\", \"content\": prompt}]\n",
    "    response = clientOpenAI.chat.completions.create(\n",
    "        model=OPENAI_GPT4_DEPLOYMENT_NAME,\n",
    "        messages = messages,\n",
    "        temperature=0.7,\n",
    "        max_tokens=800,\n",
    "        top_p=0.95,\n",
    "        frequency_penalty=0,\n",
    "        presence_penalty=0,\n",
    "        stop=None\n",
    "    )\n",
    "\n",
    "    return response.choices[0].message.content\n"
   ]
  },
  {
   "cell_type": "code",
   "execution_count": 67,
   "metadata": {},
   "outputs": [
    {
     "data": {
      "text/html": [
       "17 persons, locations, or events are mentioned."
      ],
      "text/plain": [
       "<IPython.core.display.HTML object>"
      ]
     },
     "metadata": {},
     "output_type": "display_data"
    }
   ],
   "source": [
    "query = \"Count how many persons, locations, or events are mentioned\"\n",
    "# let's take 1 results from the vector index\n",
    "results = vector_index.similarity_search(query, k=1)\n",
    "answer = call_openAI(query, results[0].page_content)\n",
    "display(HTML(answer))"
   ]
  },
  {
   "cell_type": "code",
   "execution_count": 68,
   "metadata": {},
   "outputs": [
    {
     "data": {
      "text/html": [
       "The provided information mentions the following persons, locations, or events:\n",
       "\n",
       "1. Napoleon Bonaparte (also known as Napoleon I)\n",
       "2. French Revolution\n",
       "3. Revolutionary Wars\n",
       "4. Napoleonic Wars (1796 to 1815)\n",
       "5. French Republic\n",
       "6. French Empire\n",
       "7. Corsica (island)\n",
       "8. France (mainland)\n",
       "9. French Army\n",
       "10. Toulon (siege)\n",
       "11. Paris (royalist insurgents event)\n",
       "12. Austrians (military campaign against)\n",
       "13. Italian allies (military campaign against)\n",
       "14. Egypt (expedition)\n",
       "15. Syria (expedition)\n",
       "16. Directory (Coup of 18 Brumaire against)\n",
       "17. Battle of Marengo\n",
       "18. War of the Second Coalition\n",
       "19. Louisiana (territory sold to the United States)\n",
       "20. Treaty of Amiens\n",
       "21. War of the Third Coalition\n",
       "22. Battle of Austerlitz\n",
       "23. Holy Roman Empire (dissolution)\n",
       "24. War of the Fourth Coalition\n",
       "25. Prussia (Battle of Jena–Auerstedt against)\n",
       "26. Grande Armée\n",
       "27. Eastern Europe\n",
       "28. Russians (Battle of Friedland against)\n",
       "29. Iberian Peninsula (invasion)\n",
       "30. Joseph Bonaparte (installed as King of Spain)\n",
       "31. Peninsular War\n",
       "32. War of the Fifth Coalition\n",
       "33. Battle of Wagram\n",
       "34. Russia (invasion of)\n",
       "35. War of the Sixth Coalition\n",
       "36. Battle of Leipzig\n",
       "37. Elba (island Napoleon was exiled to)\n",
       "38. Bourbons (restored to power)\n",
       "39. \"Hundred Days\" (period)\n",
       "40. Seventh Coalition\n",
       "41. Battle of Waterloo\n",
       "42. Saint Helena (island Napoleon was exiled to and died on)\n",
       "43. Napoleonic Code\n",
       "44. Spanish Inquisition (abolished)\n",
       "45. Western Europe\n",
       "\n",
       "Total: 45 entities (persons, locations, or events) are mentioned."
      ],
      "text/plain": [
       "<IPython.core.display.HTML object>"
      ]
     },
     "metadata": {},
     "output_type": "display_data"
    }
   ],
   "source": [
    "query = \"Count how many persons, locations, or events are mentioned\"\n",
    "# let's take 10 results from the vector index\n",
    "results = vector_index.similarity_search(query, k=10)\n",
    "answer = call_openAI(query, results[0].page_content)\n",
    "display(HTML(answer))"
   ]
  },
  {
   "cell_type": "markdown",
   "metadata": {},
   "source": [
    "####  The answers may change depending on the number of articles retrieved from the vector search"
   ]
  },
  {
   "cell_type": "markdown",
   "metadata": {},
   "source": [
    "## GraphRAG = Graph + vector search"
   ]
  },
  {
   "cell_type": "code",
   "execution_count": 71,
   "metadata": {},
   "outputs": [
    {
     "name": "stdout",
     "output_type": "stream",
     "text": [
      "\n",
      "\n",
      "\u001b[1m> Entering new GraphCypherQAChain chain...\u001b[0m\n",
      "Generated Cypher:\n",
      "\u001b[32;1m\u001b[1;3mMATCH (p:Person) RETURN p;\u001b[0m\n",
      "Full Context:\n",
      "\u001b[32;1m\u001b[1;3m[{'p': {'id': 'Napoleon Bonaparte'}}, {'p': {'id': 'Napoleone Di Buonaparte'}}, {'p': {'id': 'Napoleon I'}}, {'p': {'id': 'Joseph Bonaparte'}}, {'p': {'id': 'Napoleon Iii'}}, {'p': {'id': 'Louis Napoleon Bonaparte'}}, {'p': {'id': 'Louis Bonaparte'}}, {'p': {'id': 'Hortense De Beauharnais'}}, {'p': {'id': 'Napoleon Ii'}}, {'p': {'id': 'Georges-Eugène Haussmann'}}]\u001b[0m\n",
      "\n",
      "\u001b[1m> Finished chain.\u001b[0m\n",
      "Napoleon Bonaparte, Napoleone Di Buonaparte, Napoleon I, Joseph Bonaparte, Napoleon III, Louis Napoleon Bonaparte, Louis Bonaparte, Hortense De Beauharnais, Napoleon II, and Georges-Eugène Haussmann are all persons mentioned in the text.\n"
     ]
    }
   ],
   "source": [
    "# first search the whole graph\n",
    "query = \"list all persons mentioned in the text\"\n",
    "\n",
    "chain = GraphCypherQAChain.from_llm(graph=graph, llm=llm, verbose=True)\n",
    "response = chain.invoke({\"query\": query})\n",
    "print(response['result'])"
   ]
  },
  {
   "cell_type": "code",
   "execution_count": 72,
   "metadata": {},
   "outputs": [
    {
     "data": {
      "text/html": [
       "Persons mentioned: Napoleon Bonaparte, Napoleone Di Buonaparte, Napoleon I, Joseph Bonaparte.\n",
       "\n",
       "Locations or events mentioned: French Revolution, Revolutionary Wars, Napoleonic Wars, French Republic, French Empire, Corsica, France, Toulon, Paris, Egypt, Syria, Battle of Marengo, Louisiana, United States, Treaty of Amiens, War of the Third Coalition, Battle of Austerlitz, Holy Roman Empire, War of the Fourth Coalition, Battle of Jena–Auerstedt, Eastern Europe, Battle of Friedland, Iberian Peninsula, Spain, Peninsular War, War of the Fifth Coalition, Battle of Wagram, Russia, War of the Sixth Coalition, Battle of Leipzig, Elba, \"Hundred Days\", Seventh Coalition, Battle of Waterloo, Saint Helena, Napoleonic Code, Spanish Inquisition."
      ],
      "text/plain": [
       "<IPython.core.display.HTML object>"
      ]
     },
     "metadata": {},
     "output_type": "display_data"
    }
   ],
   "source": [
    "# Let's use the graph answer to search the vector index\n",
    "query = \"List all persons, locations or events mentioned related to the following \" + response['result']\n",
    "\n",
    "results = vector_index.similarity_search(query, k=5)\n",
    "answer = call_openAI(query, results[0].page_content)\n",
    "display(HTML(answer))"
   ]
  }
 ],
 "metadata": {
  "kernelspec": {
   "display_name": ".venv",
   "language": "python",
   "name": "python3"
  },
  "language_info": {
   "codemirror_mode": {
    "name": "ipython",
    "version": 3
   },
   "file_extension": ".py",
   "mimetype": "text/x-python",
   "name": "python",
   "nbconvert_exporter": "python",
   "pygments_lexer": "ipython3",
   "version": "3.10.11"
  },
  "orig_nbformat": 4
 },
 "nbformat": 4,
 "nbformat_minor": 2
}
