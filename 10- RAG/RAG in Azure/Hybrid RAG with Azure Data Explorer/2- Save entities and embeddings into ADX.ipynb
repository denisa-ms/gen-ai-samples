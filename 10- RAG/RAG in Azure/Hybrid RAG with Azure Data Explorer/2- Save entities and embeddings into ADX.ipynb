{
 "cells": [
  {
   "cell_type": "markdown",
   "metadata": {},
   "source": [
    "### **Load Environment variables from .env file**"
   ]
  },
  {
   "cell_type": "code",
   "execution_count": 1,
   "metadata": {},
   "outputs": [],
   "source": [
    "from dotenv import load_dotenv\n",
    "import os\n",
    "from IPython.display import display, HTML, JSON, Markdown, Image\n",
    "import pandas as pd\n",
    "from azure.kusto.data import KustoClient, KustoConnectionStringBuilder\n",
    "from azure.kusto.data.exceptions import KustoServiceError\n",
    "from azure.kusto.data.helpers import dataframe_from_result_table\n",
    "\n",
    "load_dotenv()\n",
    "AAD_TENANT_ID = os.getenv(\"AAD_TENANT_ID\")\n",
    "KUSTO_CLUSTER = os.getenv(\"KUSTO_CLUSTER\")\n",
    "KUSTO_DATABASE = os.getenv(\"KUSTO_DATABASE\")\n",
    "KUSTO_TABLE = os.getenv(\"KUSTO_TABLE\")\n",
    "KUSTO_MANAGED_IDENTITY_APP_ID = os.getenv(\"KUSTO_MANAGED_IDENTITY_APP_ID\")\n",
    "KUSTO_MANAGED_IDENTITY_SECRET = os.getenv(\"KUSTO_MANAGED_IDENTITY_SECRET\")\n"
   ]
  },
  {
   "cell_type": "code",
   "execution_count": 2,
   "metadata": {},
   "outputs": [],
   "source": [
    "# read the entities csv into a pandas dataframe\n",
    "import pandas as pd\n",
    "\n",
    "entities_df = pd.read_csv(\"./data/processed/entities.csv\")\n",
    "embeddings_df = pd.read_csv(\"./data/processed/embeddings.csv\")"
   ]
  },
  {
   "cell_type": "code",
   "execution_count": 3,
   "metadata": {},
   "outputs": [],
   "source": [
    "# Connect to adx using AAD app registration\n",
    "cluster = KUSTO_CLUSTER\n",
    "kcsb = KustoConnectionStringBuilder.with_aad_application_key_authentication(cluster, KUSTO_MANAGED_IDENTITY_APP_ID, KUSTO_MANAGED_IDENTITY_SECRET,  AAD_TENANT_ID)\n",
    "client = KustoClient(kcsb)\n",
    "kusto_db = KUSTO_DATABASE\n",
    "embeddings_table = \"aviationIncidentsEmbeddings\"\n",
    "entities_table = \"aviationIncidentsEntities\""
   ]
  },
  {
   "cell_type": "code",
   "execution_count": 4,
   "metadata": {},
   "outputs": [
    {
     "data": {
      "text/html": [
       "<div>\n",
       "<style scoped>\n",
       "    .dataframe tbody tr th:only-of-type {\n",
       "        vertical-align: middle;\n",
       "    }\n",
       "\n",
       "    .dataframe tbody tr th {\n",
       "        vertical-align: top;\n",
       "    }\n",
       "\n",
       "    .dataframe thead th {\n",
       "        text-align: right;\n",
       "    }\n",
       "</style>\n",
       "<table border=\"1\" class=\"dataframe\">\n",
       "  <thead>\n",
       "    <tr style=\"text-align: right;\">\n",
       "      <th></th>\n",
       "      <th>TableName</th>\n",
       "      <th>Schema</th>\n",
       "      <th>DatabaseName</th>\n",
       "      <th>Folder</th>\n",
       "      <th>DocString</th>\n",
       "    </tr>\n",
       "  </thead>\n",
       "  <tbody>\n",
       "    <tr>\n",
       "      <th>0</th>\n",
       "      <td>aviationIncidentsEmbeddings</td>\n",
       "      <td>{\"Name\":\"aviationIncidentsEmbeddings\",\"Ordered...</td>\n",
       "      <td>embeddings</td>\n",
       "      <td>None</td>\n",
       "      <td>None</td>\n",
       "    </tr>\n",
       "  </tbody>\n",
       "</table>\n",
       "</div>"
      ],
      "text/plain": [
       "                     TableName  \\\n",
       "0  aviationIncidentsEmbeddings   \n",
       "\n",
       "                                              Schema DatabaseName Folder  \\\n",
       "0  {\"Name\":\"aviationIncidentsEmbeddings\",\"Ordered...   embeddings   None   \n",
       "\n",
       "  DocString  \n",
       "0      None  "
      ]
     },
     "execution_count": 4,
     "metadata": {},
     "output_type": "execute_result"
    }
   ],
   "source": [
    "# create tables in ADX\n",
    "createTableCommand = f\".create table {embeddings_table} (document_id:string, document_name:string, content:string, embedding:string)\"\n",
    "response = client.execute_mgmt(KUSTO_DATABASE, createTableCommand)\n",
    "dataframe_from_result_table(response.primary_results[0])\n"
   ]
  },
  {
   "cell_type": "code",
   "execution_count": 5,
   "metadata": {},
   "outputs": [
    {
     "data": {
      "text/html": [
       "<div>\n",
       "<style scoped>\n",
       "    .dataframe tbody tr th:only-of-type {\n",
       "        vertical-align: middle;\n",
       "    }\n",
       "\n",
       "    .dataframe tbody tr th {\n",
       "        vertical-align: top;\n",
       "    }\n",
       "\n",
       "    .dataframe thead th {\n",
       "        text-align: right;\n",
       "    }\n",
       "</style>\n",
       "<table border=\"1\" class=\"dataframe\">\n",
       "  <thead>\n",
       "    <tr style=\"text-align: right;\">\n",
       "      <th></th>\n",
       "      <th>TableName</th>\n",
       "      <th>Schema</th>\n",
       "      <th>DatabaseName</th>\n",
       "      <th>Folder</th>\n",
       "      <th>DocString</th>\n",
       "    </tr>\n",
       "  </thead>\n",
       "  <tbody>\n",
       "    <tr>\n",
       "      <th>0</th>\n",
       "      <td>aviationIncidentsEntities</td>\n",
       "      <td>{\"Name\":\"aviationIncidentsEntities\",\"OrderedCo...</td>\n",
       "      <td>embeddings</td>\n",
       "      <td>None</td>\n",
       "      <td>None</td>\n",
       "    </tr>\n",
       "  </tbody>\n",
       "</table>\n",
       "</div>"
      ],
      "text/plain": [
       "                   TableName  \\\n",
       "0  aviationIncidentsEntities   \n",
       "\n",
       "                                              Schema DatabaseName Folder  \\\n",
       "0  {\"Name\":\"aviationIncidentsEntities\",\"OrderedCo...   embeddings   None   \n",
       "\n",
       "  DocString  \n",
       "0      None  "
      ]
     },
     "execution_count": 5,
     "metadata": {},
     "output_type": "execute_result"
    }
   ],
   "source": [
    "# create tables in ADX\n",
    "createTableCommand = f\".create table {entities_table} (document_id:string, document_name:string, entities:dynamic)\"\n",
    "response = client.execute_mgmt(KUSTO_DATABASE, createTableCommand)\n",
    "dataframe_from_result_table(response.primary_results[0])"
   ]
  },
  {
   "cell_type": "code",
   "execution_count": 6,
   "metadata": {},
   "outputs": [
    {
     "data": {
      "text/html": [
       "<div>\n",
       "<style scoped>\n",
       "    .dataframe tbody tr th:only-of-type {\n",
       "        vertical-align: middle;\n",
       "    }\n",
       "\n",
       "    .dataframe tbody tr th {\n",
       "        vertical-align: top;\n",
       "    }\n",
       "\n",
       "    .dataframe thead th {\n",
       "        text-align: right;\n",
       "    }\n",
       "</style>\n",
       "<table border=\"1\" class=\"dataframe\">\n",
       "  <thead>\n",
       "    <tr style=\"text-align: right;\">\n",
       "      <th></th>\n",
       "      <th>ExtentId</th>\n",
       "      <th>ItemLoaded</th>\n",
       "      <th>Duration</th>\n",
       "      <th>HasErrors</th>\n",
       "      <th>OperationId</th>\n",
       "    </tr>\n",
       "  </thead>\n",
       "  <tbody>\n",
       "    <tr>\n",
       "      <th>0</th>\n",
       "      <td>13c77a54-653a-4f32-b0fe-c09cc5e6f017</td>\n",
       "      <td>inproc:20e78e8e-6981-494c-b234-5e77ad1168d8</td>\n",
       "      <td>0 days 00:00:00.407092400</td>\n",
       "      <td>False</td>\n",
       "      <td>8838491c-61fc-4077-88a4-b0ad8ba19340</td>\n",
       "    </tr>\n",
       "  </tbody>\n",
       "</table>\n",
       "</div>"
      ],
      "text/plain": [
       "                               ExtentId  \\\n",
       "0  13c77a54-653a-4f32-b0fe-c09cc5e6f017   \n",
       "\n",
       "                                    ItemLoaded                  Duration  \\\n",
       "0  inproc:20e78e8e-6981-494c-b234-5e77ad1168d8 0 days 00:00:00.407092400   \n",
       "\n",
       "   HasErrors                           OperationId  \n",
       "0      False  8838491c-61fc-4077-88a4-b0ad8ba19340  "
      ]
     },
     "execution_count": 6,
     "metadata": {},
     "output_type": "execute_result"
    }
   ],
   "source": [
    "# ingest the dataframes into the table\n",
    "ingestTableCommand = f\".ingest inline into table {embeddings_table} with (ignoreFirstRecord=true) <| {embeddings_df.to_csv(index=False)} \"\n",
    "response = client.execute(KUSTO_DATABASE, ingestTableCommand)\n",
    "dataframe_from_result_table(response.primary_results[0])"
   ]
  },
  {
   "cell_type": "code",
   "execution_count": 7,
   "metadata": {},
   "outputs": [
    {
     "data": {
      "text/html": [
       "<div>\n",
       "<style scoped>\n",
       "    .dataframe tbody tr th:only-of-type {\n",
       "        vertical-align: middle;\n",
       "    }\n",
       "\n",
       "    .dataframe tbody tr th {\n",
       "        vertical-align: top;\n",
       "    }\n",
       "\n",
       "    .dataframe thead th {\n",
       "        text-align: right;\n",
       "    }\n",
       "</style>\n",
       "<table border=\"1\" class=\"dataframe\">\n",
       "  <thead>\n",
       "    <tr style=\"text-align: right;\">\n",
       "      <th></th>\n",
       "      <th>ExtentId</th>\n",
       "      <th>ItemLoaded</th>\n",
       "      <th>Duration</th>\n",
       "      <th>HasErrors</th>\n",
       "      <th>OperationId</th>\n",
       "    </tr>\n",
       "  </thead>\n",
       "  <tbody>\n",
       "    <tr>\n",
       "      <th>0</th>\n",
       "      <td>162c7a64-5920-45f9-b572-ded396742586</td>\n",
       "      <td>inproc:a823b7c7-d884-40f2-8103-2983dad58f0b</td>\n",
       "      <td>0 days 00:00:00.106308</td>\n",
       "      <td>False</td>\n",
       "      <td>ed77a770-7132-4dd9-b2b4-85ee76a1b5b4</td>\n",
       "    </tr>\n",
       "  </tbody>\n",
       "</table>\n",
       "</div>"
      ],
      "text/plain": [
       "                               ExtentId  \\\n",
       "0  162c7a64-5920-45f9-b572-ded396742586   \n",
       "\n",
       "                                    ItemLoaded               Duration  \\\n",
       "0  inproc:a823b7c7-d884-40f2-8103-2983dad58f0b 0 days 00:00:00.106308   \n",
       "\n",
       "   HasErrors                           OperationId  \n",
       "0      False  ed77a770-7132-4dd9-b2b4-85ee76a1b5b4  "
      ]
     },
     "execution_count": 7,
     "metadata": {},
     "output_type": "execute_result"
    }
   ],
   "source": [
    "# ingest the dataframes into the table\n",
    "ingestTableCommand = f\".ingest inline into table {entities_table} with (ignoreFirstRecord=true) <| {entities_df.to_csv(index=False)} \"\n",
    "response = client.execute(KUSTO_DATABASE, ingestTableCommand)\n",
    "dataframe_from_result_table(response.primary_results[0])"
   ]
  }
 ],
 "metadata": {
  "kernelspec": {
   "display_name": ".venv",
   "language": "python",
   "name": "python3"
  },
  "language_info": {
   "codemirror_mode": {
    "name": "ipython",
    "version": 3
   },
   "file_extension": ".py",
   "mimetype": "text/x-python",
   "name": "python",
   "nbconvert_exporter": "python",
   "pygments_lexer": "ipython3",
   "version": "3.10.11"
  },
  "orig_nbformat": 4
 },
 "nbformat": 4,
 "nbformat_minor": 2
}
