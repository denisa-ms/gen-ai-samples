{
  "cells": [
    {
      "cell_type": "code",
      "execution_count": null,
      "id": "a0377478",
      "metadata": {
        "id": "a0377478"
      },
      "outputs": [],
      "source": [
        "from langchain_core.prompts import FewShotPromptTemplate, PromptTemplate\n",
        "from langchain_openai import AzureChatOpenAI\n",
        "from openai import AzureOpenAI\n",
        "import textwrap\n",
        "\n",
        "from dotenv import load_dotenv\n",
        "import os\n",
        "\n",
        "load_dotenv()\n",
        "OPENAI_API_KEY = os.getenv(\"OPENAI_API_KEY\")\n",
        "OPENAI_DEPLOYMENT_ENDPOINT = os.getenv(\"OPENAI_DEPLOYMENT_ENDPOINT\")\n",
        "OPENAI_GPT35_DEPLOYMENT_NAME = os.getenv(\"OPENAI_GPT35_DEPLOYMENT_NAME\")\n",
        "OPENAI_GPT4_DEPLOYMENT_NAME = os.getenv(\"OPENAI_GPT4_DEPLOYMENT_NAME\")\n",
        "api_version=\"2023-09-01-preview\"\n",
        "\n",
        "client = AzureOpenAI(\n",
        "        azure_endpoint=OPENAI_DEPLOYMENT_ENDPOINT,\n",
        "        api_key=OPENAI_API_KEY,\n",
        "        api_version=\"2023-09-01-preview\"\n",
        "    )"
      ]
    },
    {
      "cell_type": "code",
      "execution_count": null,
      "id": "291bad6e",
      "metadata": {
        "id": "291bad6e"
      },
      "outputs": [],
      "source": [
        "def call_openAI(request):\n",
        "    system_message = f\"\"\"\n",
        "    You are an AI assistant that helps generate synthetic data for a data science project. \n",
        "   \n",
        "    1. The data should be generated for a period of 1 year, starting from January 1, 2022, to December 31, 2022.\n",
        "    2. Do not provide any additional examples to the output, just the CSV format using newlines at the end of each row.\n",
        "\n",
        "    \"\"\"\n",
        "\n",
        "    response = client.chat.completions.create(\n",
        "        model=OPENAI_GPT4_DEPLOYMENT_NAME,\n",
        "        messages = [\n",
        "            {\"role\":\"system\",\"content\":system_message},\n",
        "            {\"role\":\"user\",\"content\":request}\n",
        "            ],\n",
        "        temperature=0.7,\n",
        "        max_tokens=800,\n",
        "        top_p=0.95,\n",
        "        frequency_penalty=0,\n",
        "        presence_penalty=0,\n",
        "        stop=None\n",
        "    )\n",
        "\n",
        "    return response.choices[0].message.content\n",
        "\n",
        "def prettyprint(text: str) -> str:\n",
        "    print(textwrap.fill(text, 60))"
      ]
    },
    {
      "cell_type": "code",
      "execution_count": null,
      "id": "1b9ba911",
      "metadata": {
        "id": "1b9ba911"
      },
      "outputs": [],
      "source": [
        "request = \"\"\"\n",
        "            Generate a CSV file with 10 rows of synthetic data for a data science project.\n",
        "            Each row should include the following fields: \n",
        "            Transaction ID, Account ID, Transaction Date, Transaction Amount, Transaction Type (Credit/Debit), Merchant Name, Merchant Category, US Zip Code and Transaction Description\"\n",
        "            Examples =\n",
        "            US ZIP CODE: 77449, Bank Transaction Description: British Telecom, product_description: Annual fee, Amount: $350\n",
        "            US ZIP CODE: 90011, Bank Transaction Description: Uber BV Toll Free Amsterdam NLD, product_description: toll, Amount: $54\n",
        "            US ZIP CODE: 10458, Bank Transaction Description: THE AMERICAN HEART ASSOCIATION DALLAS TX, product_description: Subscription,Amount: $850\n",
        "            US ZIP CODE: 95123, Bank Transaction Description: Transferencia Banco Santander Madrid, product_description: Transferencia bancaria, Amount: $550\n",
        "\"\"\"\n",
        "results = call_openAI(request)"
      ]
    },
    {
      "cell_type": "code",
      "execution_count": null,
      "id": "8786fe04",
      "metadata": {},
      "outputs": [],
      "source": [
        "prettyprint(results)"
      ]
    },
    {
      "cell_type": "code",
      "execution_count": null,
      "id": "022de4cf",
      "metadata": {},
      "outputs": [],
      "source": [
        "import pandas as pd\n",
        "import json \n",
        "# remove ```csv from the response\n",
        "results = results.replace(\"```plaintext\", \"\")\n",
        "results = results.replace(\"```\", \"\")\n",
        "df = pd.read_csv(results, sep=\",\")\n",
        "df.head()\n",
        "# df.to_csv(\"./data/synthetic_bank_transactions.csv\", index=False)"
      ]
    },
    {
      "cell_type": "markdown",
      "id": "75f7f55a",
      "metadata": {
        "id": "75f7f55a"
      },
      "source": [
        "## Generating exemplary dataset for extraction benchmarking purposes"
      ]
    },
    {
      "cell_type": "code",
      "execution_count": null,
      "id": "94e98bc4",
      "metadata": {
        "id": "94e98bc4"
      },
      "outputs": [],
      "source": [
        "inp = [\n",
        "    {\n",
        "        \"Actor\": \"Tom Hanks\",\n",
        "        \"Film\": [\n",
        "            \"Forrest Gump\",\n",
        "            \"Saving Private Ryan\",\n",
        "            \"The Green Mile\",\n",
        "            \"Toy Story\",\n",
        "            \"Catch Me If You Can\",\n",
        "        ],\n",
        "    },\n",
        "    {\n",
        "        \"Actor\": \"Tom Hardy\",\n",
        "        \"Film\": [\n",
        "            \"Inception\",\n",
        "            \"The Dark Knight Rises\",\n",
        "            \"Mad Max: Fury Road\",\n",
        "            \"The Revenant\",\n",
        "            \"Dunkirk\",\n",
        "        ],\n",
        "    },\n",
        "]\n",
        "\n",
        "generator = DatasetGenerator(model, {\"style\": \"informal\", \"minimal length\": 500})\n",
        "dataset = generator(inp)"
      ]
    },
    {
      "cell_type": "code",
      "execution_count": null,
      "id": "478eaca4",
      "metadata": {
        "id": "478eaca4",
        "outputId": "0a5185f7-7b6c-4e23-a98d-5c97e79ae242"
      },
      "outputs": [],
      "source": [
        "dataset"
      ]
    },
    {
      "cell_type": "markdown",
      "id": "293a7d64",
      "metadata": {
        "id": "293a7d64"
      },
      "source": [
        "## Extraction from generated examples\n",
        "Okay, let's see if we can now extract output from this generated data and how it compares with our case!"
      ]
    },
    {
      "cell_type": "code",
      "execution_count": null,
      "id": "03c6a375",
      "metadata": {
        "id": "03c6a375"
      },
      "outputs": [],
      "source": [
        "from typing import List\n",
        "\n",
        "from langchain.chains import create_extraction_chain_pydantic\n",
        "from langchain.output_parsers import PydanticOutputParser\n",
        "from langchain_core.prompts import PromptTemplate\n",
        "from langchain_openai import OpenAI\n",
        "from pydantic import BaseModel, Field"
      ]
    },
    {
      "cell_type": "code",
      "execution_count": null,
      "id": "9461d225",
      "metadata": {
        "id": "9461d225"
      },
      "outputs": [],
      "source": [
        "class Actor(BaseModel):\n",
        "    Actor: str = Field(description=\"name of an actor\")\n",
        "    Film: List[str] = Field(description=\"list of names of films they starred in\")"
      ]
    },
    {
      "cell_type": "markdown",
      "id": "8390171d",
      "metadata": {
        "id": "8390171d"
      },
      "source": [
        "### Parsers"
      ]
    },
    {
      "cell_type": "code",
      "execution_count": null,
      "id": "8a5528d2",
      "metadata": {
        "id": "8a5528d2",
        "outputId": "898083e5-fa8b-4222-fd0a-648500e078d8"
      },
      "outputs": [],
      "source": [
        "llm = OpenAI()\n",
        "parser = PydanticOutputParser(pydantic_object=Actor)\n",
        "\n",
        "prompt = PromptTemplate(\n",
        "    template=\"Extract fields from a given text.\\n{format_instructions}\\n{text}\\n\",\n",
        "    input_variables=[\"text\"],\n",
        "    partial_variables={\"format_instructions\": parser.get_format_instructions()},\n",
        ")\n",
        "\n",
        "_input = prompt.format_prompt(text=dataset[0][\"text\"])\n",
        "output = llm.invoke(_input.to_string())\n",
        "\n",
        "parsed = parser.parse(output)\n",
        "parsed"
      ]
    },
    {
      "cell_type": "code",
      "execution_count": null,
      "id": "926a7eed",
      "metadata": {
        "id": "926a7eed",
        "outputId": "03f0b32e-c138-4e20-bcb6-313ab89376e5"
      },
      "outputs": [],
      "source": [
        "(parsed.Actor == inp[0][\"Actor\"]) & (parsed.Film == inp[0][\"Film\"])"
      ]
    },
    {
      "cell_type": "markdown",
      "id": "b00f0b87",
      "metadata": {
        "id": "b00f0b87"
      },
      "source": [
        "### Extractors"
      ]
    },
    {
      "cell_type": "code",
      "execution_count": null,
      "id": "523bb584",
      "metadata": {
        "id": "523bb584",
        "outputId": "7a6bec0f-e784-456b-a094-54dea3327a9b"
      },
      "outputs": [],
      "source": [
        "extractor = create_extraction_chain_pydantic(pydantic_schema=Actor, llm=model)\n",
        "extracted = extractor.run(dataset[1][\"text\"])\n",
        "extracted"
      ]
    },
    {
      "cell_type": "code",
      "execution_count": null,
      "id": "f8451c2b",
      "metadata": {
        "id": "f8451c2b",
        "outputId": "d42ad1d9-953b-4439-e590-2bb291fe1eab"
      },
      "outputs": [],
      "source": [
        "(extracted[0].Actor == inp[1][\"Actor\"]) & (extracted[0].Film == inp[1][\"Film\"])"
      ]
    },
    {
      "cell_type": "code",
      "execution_count": null,
      "id": "0b03de4d",
      "metadata": {
        "id": "0b03de4d"
      },
      "outputs": [],
      "source": []
    }
  ],
  "metadata": {
    "colab": {
      "provenance": []
    },
    "kernelspec": {
      "display_name": "Python 3 (ipykernel)",
      "language": "python",
      "name": "python3"
    },
    "language_info": {
      "codemirror_mode": {
        "name": "ipython",
        "version": 3
      },
      "file_extension": ".py",
      "mimetype": "text/x-python",
      "name": "python",
      "nbconvert_exporter": "python",
      "pygments_lexer": "ipython3",
      "version": "3.10.11"
    }
  },
  "nbformat": 4,
  "nbformat_minor": 5
}
