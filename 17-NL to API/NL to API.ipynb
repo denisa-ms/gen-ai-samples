{
 "cells": [
  {
   "cell_type": "code",
   "execution_count": 1,
   "metadata": {},
   "outputs": [],
   "source": [
    "from dotenv import load_dotenv\n",
    "import openai\n",
    "import os\n",
    "from openai import AzureOpenAI\n",
    "from IPython.display import display, HTML, JSON, Markdown, Image\n",
    "import base64 \n",
    "\n",
    "load_dotenv()\n",
    "AZURE_OPENAI_ENDPOINT=os.getenv(\"AISTUDIO_AZURE_OPENAI_ENDPOINT\")\n",
    "AZURE_OPENAI_GPT4o_DEPLOYMENT=os.getenv(\"AI_STUDIO_AZURE_OPENAI_GPT4o_DEPLOYMENT\")\n",
    "AZURE_OPENAI_API_VERSION=\"2024-02-01\"\n",
    "AZURE_OPENAI_KEY=os.getenv(\"AISTUDIO_AZURE_OPENAI_KEY\")\n",
    "\n",
    "client = openai.AzureOpenAI(\n",
    "        azure_endpoint=AZURE_OPENAI_ENDPOINT,\n",
    "        api_key=AZURE_OPENAI_KEY,\n",
    "        api_version=AZURE_OPENAI_API_VERSION\n",
    ")"
   ]
  },
  {
   "cell_type": "code",
   "execution_count": 2,
   "metadata": {},
   "outputs": [],
   "source": [
    "import inspect\n",
    "\n",
    "# helper method used to check if the correct arguments are provided to a function\n",
    "def check_args(function, args):\n",
    "    sig = inspect.signature(function)\n",
    "    params = sig.parameters\n",
    "\n",
    "    # Check if there are extra arguments\n",
    "    for name in args:\n",
    "        if name not in params:\n",
    "            return False\n",
    "    # Check if the required arguments are provided\n",
    "    for name, param in params.items():\n",
    "        if param.default is param.empty and name not in args:\n",
    "            return False\n",
    "\n",
    "    return True"
   ]
  },
  {
   "cell_type": "code",
   "execution_count": 12,
   "metadata": {},
   "outputs": [],
   "source": [
    "# Defining the functions to be called by the LLM\n",
    "def query_knowledge_base(question):\n",
    "     \"\"\"Getting information from the knowledge base\"\"\"\n",
    "     return f\"Getting information from the knowledge base on the following question:  {question}\"\n",
    "\n",
    "def query_database(queryParams):\n",
    "    \"\"\"Getting DB data\"\"\"\n",
    "    # you may use the current user's context to query the database\n",
    "    return f\"Querying DB with: {queryParams}\"\n"
   ]
  },
  {
   "cell_type": "code",
   "execution_count": 14,
   "metadata": {},
   "outputs": [],
   "source": [
    "# Defining the available functions and their metadata to send to GPT-4o\n",
    "tools = [\n",
    "    {\n",
    "        \"type\": \"function\",\n",
    "        \"function\": {\n",
    "            \"name\": \"query_kbase\",\n",
    "            \"description\": \"Query the knowledge base for general information about shipping methods and prices\",\n",
    "            \"parameters\": {\n",
    "                \"type\": \"object\",\n",
    "                \"properties\": {\n",
    "                    \"question\": {\n",
    "                        \"type\": \"string\",\n",
    "                        \"description\": \"The question to ask the knowledge base.\",\n",
    "                    }\n",
    "                },\n",
    "                \"required\": [\"question\"],\n",
    "            },\n",
    "        },\n",
    "    },\n",
    "    {\n",
    "        \"type\": \"function\",\n",
    "        \"function\": {\n",
    "            \"name\": \"query_db\",\n",
    "            \"description\": \"Query the database for a parcel location, tracking data, parcel data and user data\",\n",
    "            \"parameters\": {\n",
    "                \"type\": \"object\",\n",
    "                \"properties\": {\n",
    "                    \"queryParams\": {\n",
    "                        \"type\": \"string\",\n",
    "                        \"description\": \"The parameters to query the database in JSON format of the form {\\\"table\\\": \\\"table_name\\\", \\\"columns\\\": [\\\"column1\\\", \\\"column2\\\"], \\\"conditions\\\": {\\\"column1\\\": \\\"value1\\\", \\\"column2\\\": \\\"value2\\\"}}\",\n",
    "                    }\n",
    "                },\n",
    "                \"required\": [\"queryParams\"],\n",
    "            },\n",
    "        },\n",
    "    },\n",
    "]\n",
    "\n",
    "available_functions = {\n",
    "    \"query_kbase\": query_knowledge_base,\n",
    "    \"query_db\": query_database\n",
    "}"
   ]
  },
  {
   "cell_type": "code",
   "execution_count": 15,
   "metadata": {},
   "outputs": [],
   "source": [
    "import json\n",
    "\n",
    "def call_OpenAI(question):\n",
    "    messages = [\n",
    "        {\"role\":\"system\",\"content\":\"\"\"You are a customer service assistant for a delivery service, \n",
    "         equipped to analyze user questions.\n",
    "         Based on the user question you can query a knowledge base or a database to get more information.\n",
    "         You must always use tools!\"\"\"\n",
    "        },\n",
    "        {\"role\":\"user\",\"content\":question}\n",
    "    ]\n",
    "\n",
    "    # Step 1: send the prompt and available functions to GPT\n",
    "    response = client.chat.completions.create(\n",
    "        model=AZURE_OPENAI_GPT4o_DEPLOYMENT,\n",
    "        messages=messages,\n",
    "        tools=tools,\n",
    "        tool_choice=\"auto\",\n",
    "    )\n",
    "\n",
    "    response_message = response.choices[0].message\n",
    "\n",
    "    # Step 2: check if GPT wanted to call a function\n",
    "    if response_message.tool_calls:\n",
    "        print(\"Recommended Function call:\")\n",
    "        print(response_message.tool_calls[0])\n",
    "        print()\n",
    "\n",
    "        # Step 3: call the function\n",
    "        # Note: the JSON response may not always be valid; be sure to handle errors\n",
    "        function_name = response_message.tool_calls[0].function.name\n",
    "\n",
    "        # verify function exists\n",
    "        if function_name not in available_functions:\n",
    "            return \"Function \" + function_name + \" does not exist\"\n",
    "        function_to_call = available_functions[function_name]\n",
    "\n",
    "        # verify function has correct number of arguments\n",
    "        function_args = json.loads(response_message.tool_calls[0].function.arguments)\n",
    "        if check_args(function_to_call, function_args) is False:\n",
    "            return \"Invalid number of arguments for function: \" + function_name\n",
    "        # call the function\n",
    "        function_response = function_to_call(**function_args)\n",
    "        print(\"Output of function call:\")\n",
    "        print(function_response)\n",
    "        print()\n"
   ]
  },
  {
   "cell_type": "code",
   "execution_count": 17,
   "metadata": {},
   "outputs": [
    {
     "name": "stdout",
     "output_type": "stream",
     "text": [
      "Recommended Function call:\n",
      "ChatCompletionMessageToolCall(id='call_vg3prHOOp0JV4Ch830s7FJrK', function=Function(arguments='{\"question\":\"How much does it cost to ship a parcel to the UK?\"}', name='query_kbase'), type='function')\n",
      "\n",
      "Output of function call:\n",
      "Getting information from the knowledge base on the following question:  How much does it cost to ship a parcel to the UK?\n",
      "\n"
     ]
    }
   ],
   "source": [
    "question = \"How much does it cost to ship a parcel to the UK?\"\n",
    "call_OpenAI(question)"
   ]
  },
  {
   "cell_type": "code",
   "execution_count": 18,
   "metadata": {},
   "outputs": [
    {
     "name": "stdout",
     "output_type": "stream",
     "text": [
      "Recommended Function call:\n",
      "ChatCompletionMessageToolCall(id='call_3JaYAjChXeP4DFKHtYC4051d', function=Function(arguments='{\"queryParams\":\"{\\\\\"table\\\\\":\\\\\"parcels\\\\\",\\\\\"columns\\\\\":[\\\\\"location\\\\\"],\\\\\"conditions\\\\\":{\\\\\"parcel_number\\\\\":\\\\\"123\\\\\"}}\"}', name='query_db'), type='function')\n",
      "\n",
      "Output of function call:\n",
      "Querying DB with: {\"table\":\"parcels\",\"columns\":[\"location\"],\"conditions\":{\"parcel_number\":\"123\"}}\n",
      "\n"
     ]
    }
   ],
   "source": [
    "question = \"Where is parcel number 123?\"\n",
    "call_OpenAI(question)"
   ]
  }
 ],
 "metadata": {
  "kernelspec": {
   "display_name": ".venv",
   "language": "python",
   "name": "python3"
  },
  "language_info": {
   "codemirror_mode": {
    "name": "ipython",
    "version": 3
   },
   "file_extension": ".py",
   "mimetype": "text/x-python",
   "name": "python",
   "nbconvert_exporter": "python",
   "pygments_lexer": "ipython3",
   "version": "3.10.11"
  }
 },
 "nbformat": 4,
 "nbformat_minor": 2
}
