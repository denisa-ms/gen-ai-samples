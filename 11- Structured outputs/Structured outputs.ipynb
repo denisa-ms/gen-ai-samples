{
 "cells": [
  {
   "cell_type": "code",
   "execution_count": 1,
   "metadata": {
    "id": "X8NHoqKc8vXh"
   },
   "outputs": [],
   "source": [
    "from dotenv import load_dotenv\n",
    "import openai\n",
    "import os\n",
    "from openai import AzureOpenAI\n",
    "import json \n",
    "\n",
    "load_dotenv()\n",
    "SWEDEN_AZURE_OPENAI_ENDPOINT=os.getenv(\"SWEDEN_AZURE_OPENAI_ENDPOINT\")\n",
    "SWEDEN_AZURE_OPENAI_API_KEY=os.getenv(\"SWEDEN_AZURE_OPENAI_API_KEY\")\n",
    "SWEDEN_AZURE_OPENAI_API_VERSION=\"2024-08-01-preview\"\n",
    "SWEDEN_OPENAI_GPT4_DEPLOYMENT_NAME=os.getenv(\"SWEDEN_OPENAI_GPT4_DEPLOYMENT_NAME\")\n",
    "SWEDEN_OPENAI_GPT4o_DEPLOYMENT_NAME = os.getenv(\"SWEDEN_OPENAI_GPT4o_DEPLOYMENT_NAME\")\n",
    "\n",
    "client = openai.AzureOpenAI(\n",
    "        azure_endpoint=SWEDEN_AZURE_OPENAI_ENDPOINT,\n",
    "        api_key=SWEDEN_AZURE_OPENAI_API_KEY,\n",
    "        api_version=SWEDEN_AZURE_OPENAI_API_VERSION\n",
    ")"
   ]
  },
  {
   "cell_type": "code",
   "execution_count": null,
   "metadata": {
    "id": "ACPM9TB3L6oV"
   },
   "outputs": [],
   "source": [
    "# weather_function =     {\n",
    "#         \"type\": \"function\",\n",
    "#         \"function\": {\n",
    "#             \"name\": \"get_weather\",\n",
    "#             \"description\": \"Determine weather in my location\",\n",
    "#             \"strict\": True, # setting strict to true\n",
    "#             \"parameters\": {\n",
    "#               \"type\": \"object\",\n",
    "#               \"properties\": {\n",
    "#                 \"location\": {\n",
    "#                   \"type\": \"string\",\n",
    "#                   \"description\": \"The city and state e.g. San Francisco, CA\"\n",
    "#                 },\n",
    "#                 \"unit\": {\n",
    "#                   \"type\": \"string\",\n",
    "#                   \"enum\": [\n",
    "#                     \"c\",\n",
    "#                     \"f\"\n",
    "#                   ]\n",
    "#                 }\n",
    "#               },\n",
    "#               \"required\": [\n",
    "#                 \"location\",\n",
    "#                 \"unit\"\n",
    "#               ],\n",
    "#               \"additionalProperties\": False\n",
    "#             }\n",
    "#           },\n",
    "#     }\n",
    "\n",
    "# def get_response(user_input):\n",
    "#     response = client.chat.completions.create(\n",
    "#         model=SWEDEN_OPENAI_GPT4_DEPLOYMENT_NAME,\n",
    "#         temperature=0,\n",
    "#         messages=[\n",
    "#             {\n",
    "#                 \"role\": \"user\",\n",
    "#                 \"content\": user_input\n",
    "#             }\n",
    "#         ],\n",
    "#         tools=[weather_function]\n",
    "#     )\n",
    "\n",
    "#     return response.choices[0].message.tool_calls"
   ]
  },
  {
   "cell_type": "code",
   "execution_count": null,
   "metadata": {
    "id": "x0iku6z1MG_S"
   },
   "outputs": [],
   "source": [
    "# def print_tool_call(user_input, tool_call):\n",
    "#     args = tool_call[0].function.arguments\n",
    "#     print(f\"Input: {user_input}\")\n",
    "#     print(\"Weather arguments:\")\n",
    "#     for key, value in json.loads(args).items():\n",
    "#         print(f\"{key}: '{value}'\")\n",
    "#     print(\"\\n\\n\")"
   ]
  },
  {
   "cell_type": "code",
   "execution_count": null,
   "metadata": {
    "id": "ldcNe1BiMHhv"
   },
   "outputs": [],
   "source": [
    "# input = \"What's the weather in san francisco?\"\n",
    "\n",
    "# result = get_response(input)\n",
    "\n",
    "# print_tool_call(input, result)"
   ]
  },
  {
   "cell_type": "code",
   "execution_count": 2,
   "metadata": {
    "id": "c7U2xsEZ8s3v"
   },
   "outputs": [],
   "source": [
    "math_tutor_prompt = '''\n",
    "    You are a helpful math tutor. You will be provided with a math problem,\n",
    "    and your goal will be to output a step by step solution, along with a final answer.\n",
    "    For each step, just provide the output as an equation use the explanation field to detail the reasoning.\n",
    "'''"
   ]
  },
  {
   "cell_type": "code",
   "execution_count": 3,
   "metadata": {
    "id": "r3JTloKZDz--"
   },
   "outputs": [],
   "source": [
    "import json\n",
    "from pydantic import BaseModel\n",
    "\n",
    "class MathReasoning(BaseModel):\n",
    "    class Step(BaseModel):\n",
    "        explanation: str\n",
    "        output: str\n",
    "\n",
    "    steps: list[Step]\n",
    "    final_answer: str"
   ]
  },
  {
   "cell_type": "code",
   "execution_count": 4,
   "metadata": {
    "id": "nHHkAocjnW8H"
   },
   "outputs": [],
   "source": [
    "def get_math_solution(question: str):\n",
    "    completion = client.beta.chat.completions.parse(\n",
    "        model=SWEDEN_OPENAI_GPT4o_DEPLOYMENT_NAME,\n",
    "        messages=[\n",
    "            {\"role\": \"system\", \"content\": math_tutor_prompt},\n",
    "            {\"role\": \"user\", \"content\": question},\n",
    "        ],\n",
    "        response_format=MathReasoning,\n",
    "    )\n",
    "\n",
    "    return completion.choices[0].message"
   ]
  },
  {
   "cell_type": "code",
   "execution_count": 5,
   "metadata": {
    "id": "Ml-d_X7t9HJE"
   },
   "outputs": [
    {
     "name": "stdout",
     "output_type": "stream",
     "text": [
      "steps=[Step(explanation='We start with the original equation, which is 8x plus 7 equals negative 23.', output='8x + 7 = -23'), Step(explanation='To isolate the term with x, subtract 7 from both sides of the equation. This eliminates the 7 on the left side.', output='8x + 7 - 7 = -23 - 7'), Step(explanation='Simplifying both sides gives us 8x equals negative 30.', output='8x = -30'), Step(explanation='To solve for x, divide both sides by 8, the coefficient of x, to isolate x.', output='x = -30 / 8'), Step(explanation='Simplifying the division gives us x equals negative 3.75.', output='x = -3.75')] final_answer='x = -3.75'\n"
     ]
    }
   ],
   "source": [
    "# Testing with an example question\n",
    "question = \"how can I solve 8x + 7 = -23\"\n",
    "result = get_math_solution(question)\n",
    "print(result.parsed)"
   ]
  },
  {
   "cell_type": "code",
   "execution_count": 6,
   "metadata": {
    "id": "w_iv77dCqEF1"
   },
   "outputs": [
    {
     "data": {
      "text/plain": [
       "MathReasoning(steps=[Step(explanation='We start with the original equation, which is 8x plus 7 equals negative 23.', output='8x + 7 = -23'), Step(explanation='To isolate the term with x, subtract 7 from both sides of the equation. This eliminates the 7 on the left side.', output='8x + 7 - 7 = -23 - 7'), Step(explanation='Simplifying both sides gives us 8x equals negative 30.', output='8x = -30'), Step(explanation='To solve for x, divide both sides by 8, the coefficient of x, to isolate x.', output='x = -30 / 8'), Step(explanation='Simplifying the division gives us x equals negative 3.75.', output='x = -3.75')], final_answer='x = -3.75')"
      ]
     },
     "execution_count": 6,
     "metadata": {},
     "output_type": "execute_result"
    }
   ],
   "source": [
    "result.parsed # supports autocompletion!"
   ]
  },
  {
   "cell_type": "code",
   "execution_count": 7,
   "metadata": {
    "id": "F4fNpySQ9IzM"
   },
   "outputs": [
    {
     "name": "stdout",
     "output_type": "stream",
     "text": [
      "Step 1: We start with the original equation, which is 8x plus 7 equals negative 23.\n",
      "\n"
     ]
    },
    {
     "data": {
      "text/latex": [
       "$\\displaystyle 8x + 7 = -23$"
      ],
      "text/plain": [
       "<IPython.core.display.Math object>"
      ]
     },
     "metadata": {},
     "output_type": "display_data"
    },
    {
     "name": "stdout",
     "output_type": "stream",
     "text": [
      "\n",
      "\n",
      "Step 2: To isolate the term with x, subtract 7 from both sides of the equation. This eliminates the 7 on the left side.\n",
      "\n"
     ]
    },
    {
     "data": {
      "text/latex": [
       "$\\displaystyle 8x + 7 - 7 = -23 - 7$"
      ],
      "text/plain": [
       "<IPython.core.display.Math object>"
      ]
     },
     "metadata": {},
     "output_type": "display_data"
    },
    {
     "name": "stdout",
     "output_type": "stream",
     "text": [
      "\n",
      "\n",
      "Step 3: Simplifying both sides gives us 8x equals negative 30.\n",
      "\n"
     ]
    },
    {
     "data": {
      "text/latex": [
       "$\\displaystyle 8x = -30$"
      ],
      "text/plain": [
       "<IPython.core.display.Math object>"
      ]
     },
     "metadata": {},
     "output_type": "display_data"
    },
    {
     "name": "stdout",
     "output_type": "stream",
     "text": [
      "\n",
      "\n",
      "Step 4: To solve for x, divide both sides by 8, the coefficient of x, to isolate x.\n",
      "\n"
     ]
    },
    {
     "data": {
      "text/latex": [
       "$\\displaystyle x = -30 / 8$"
      ],
      "text/plain": [
       "<IPython.core.display.Math object>"
      ]
     },
     "metadata": {},
     "output_type": "display_data"
    },
    {
     "name": "stdout",
     "output_type": "stream",
     "text": [
      "\n",
      "\n",
      "Step 5: Simplifying the division gives us x equals negative 3.75.\n",
      "\n"
     ]
    },
    {
     "data": {
      "text/latex": [
       "$\\displaystyle x = -3.75$"
      ],
      "text/plain": [
       "<IPython.core.display.Math object>"
      ]
     },
     "metadata": {},
     "output_type": "display_data"
    },
    {
     "name": "stdout",
     "output_type": "stream",
     "text": [
      "\n",
      "\n",
      "Final answer:\n",
      "\n",
      "\n"
     ]
    },
    {
     "data": {
      "text/latex": [
       "$\\displaystyle x = -3.75$"
      ],
      "text/plain": [
       "<IPython.core.display.Math object>"
      ]
     },
     "metadata": {},
     "output_type": "display_data"
    }
   ],
   "source": [
    "from IPython.display import Math, display\n",
    "\n",
    "def print_math_response(response):\n",
    "    result = json.loads(response)\n",
    "    steps = result['steps']\n",
    "    final_answer = result['final_answer']\n",
    "    for i in range(len(steps)):\n",
    "        print(f\"Step {i+1}: {steps[i]['explanation']}\\n\")\n",
    "        display(Math(steps[i]['output']))\n",
    "        print(\"\\n\")\n",
    "\n",
    "    print(\"Final answer:\\n\\n\")\n",
    "    display(Math(final_answer))\n",
    "\n",
    "print_math_response(result.content)"
   ]
  },
  {
   "cell_type": "code",
   "execution_count": 8,
   "metadata": {
    "id": "SfXOZIH7_t-d"
   },
   "outputs": [
    {
     "name": "stdout",
     "output_type": "stream",
     "text": [
      "None\n"
     ]
    }
   ],
   "source": [
    "refusal_question = \"What is the weather?\"\n",
    "refusal_result = get_math_solution(refusal_question)\n",
    "print(refusal_result.refusal)"
   ]
  }
 ],
 "metadata": {
  "colab": {
   "provenance": []
  },
  "kernelspec": {
   "display_name": ".venv",
   "language": "python",
   "name": "python3"
  },
  "language_info": {
   "codemirror_mode": {
    "name": "ipython",
    "version": 3
   },
   "file_extension": ".py",
   "mimetype": "text/x-python",
   "name": "python",
   "nbconvert_exporter": "python",
   "pygments_lexer": "ipython3",
   "version": "3.10.11"
  }
 },
 "nbformat": 4,
 "nbformat_minor": 0
}
