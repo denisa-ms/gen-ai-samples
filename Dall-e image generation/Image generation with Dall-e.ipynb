{
 "cells": [
  {
   "cell_type": "code",
   "execution_count": 8,
   "metadata": {},
   "outputs": [],
   "source": [
    "from openai import AzureOpenAI\n",
    "import os\n",
    "import requests\n",
    "from PIL import Image\n",
    "import json\n",
    "from dotenv import load_dotenv\n",
    "from IPython.display import display, HTML, JSON, Markdown\n",
    "load_dotenv()\n",
    "\n",
    "OPENAI_API_KEY = os.getenv(\"OPENAI_API_KEY\")\n",
    "OPENAI_DEPLOYMENT_ENDPOINT = os.getenv(\"OPENAI_DEPLOYMENT_ENDPOINT\")\n",
    "OPENAI_DALLE_DEPLOYMENT_NAME = os.getenv(\"OPENAI_DALLE_DEPLOYMENT_NAME\")\n",
    "\n",
    "client = AzureOpenAI(\n",
    "  azure_endpoint = OPENAI_DEPLOYMENT_ENDPOINT, \n",
    "  api_key=OPENAI_API_KEY,  \n",
    "  api_version=\"2024-02-15-preview\"\n",
    ")\n",
    "\n",
    "# Set the directory for the stored image\n",
    "image_dir = os.path.join(os.curdir, 'images')\n",
    "# If the directory doesn't exist, create it\n",
    "if not os.path.isdir(image_dir):\n",
    "    os.mkdir(image_dir)"
   ]
  },
  {
   "cell_type": "code",
   "execution_count": 9,
   "metadata": {},
   "outputs": [],
   "source": [
    "def generate_image(prompt, file_name):\n",
    "    result = client.images.generate(\n",
    "        model=OPENAI_DALLE_DEPLOYMENT_NAME,\n",
    "        prompt=prompt,\n",
    "        n=1\n",
    "    )\n",
    "    \n",
    "    json_response = json.loads(result.model_dump_json())\n",
    "\n",
    "    # Initialize the image path (note the filetype should be png)\n",
    "    image_path = os.path.join(image_dir, file_name)\n",
    "\n",
    "    # Retrieve the generated image\n",
    "    image_url = json_response[\"data\"][0][\"url\"]  # extract image URL from response\n",
    "    generated_image = requests.get(image_url).content  # download the image\n",
    "    with open(image_path, \"wb\") as image_file:\n",
    "        image_file.write(generated_image)\n",
    "\n",
    "    # Display the image in the default image viewer\n",
    "    image = Image.open(image_path)\n",
    "    image.show()"
   ]
  },
  {
   "cell_type": "code",
   "execution_count": 10,
   "metadata": {},
   "outputs": [],
   "source": [
    "prompt = \"A painting of a cat sitting on a chair\"\n",
    "file_name = \"cat.png\"\n",
    "generate_image(prompt, file_name)"
   ]
  },
  {
   "cell_type": "code",
   "execution_count": 12,
   "metadata": {},
   "outputs": [],
   "source": [
    "prompt = \"A tiger astronaut riding a zebra in Medieval Jerusalem in realist style\"\n",
    "file_name = \"tiger.png\"\n",
    "generate_image(prompt, file_name)"
   ]
  },
  {
   "cell_type": "code",
   "execution_count": 7,
   "metadata": {},
   "outputs": [],
   "source": [
    "prompt = \"A lion partying in Lisbon after winning the football league.\"\n",
    "file_name = \"lion.png\"\n",
    "generate_image(prompt, file_name)"
   ]
  }
 ],
 "metadata": {
  "kernelspec": {
   "display_name": ".venv",
   "language": "python",
   "name": "python3"
  },
  "language_info": {
   "codemirror_mode": {
    "name": "ipython",
    "version": 3
   },
   "file_extension": ".py",
   "mimetype": "text/x-python",
   "name": "python",
   "nbconvert_exporter": "python",
   "pygments_lexer": "ipython3",
   "version": "3.10.11"
  },
  "orig_nbformat": 4
 },
 "nbformat": 4,
 "nbformat_minor": 2
}
