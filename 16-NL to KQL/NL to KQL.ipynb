{
 "cells": [
  {
   "cell_type": "markdown",
   "metadata": {},
   "source": [
    "This notebook demonstrates how to use GPT to translate natural language questions into KQL queries."
   ]
  },
  {
   "cell_type": "code",
   "execution_count": 1,
   "metadata": {},
   "outputs": [],
   "source": [
    "import os\n",
    "from dotenv import load_dotenv\n",
    "from typing import Annotated\n",
    "from openai import AzureOpenAI\n",
    "import sqlite3\n",
    "from typing import Any, List\n",
    "import pandas as pd\n",
    "from azure.kusto.data import KustoClient, KustoConnectionStringBuilder\n",
    "from azure.kusto.data.exceptions import KustoServiceError\n",
    "from azure.kusto.data.helpers import dataframe_from_result_table\n",
    "from azure.identity import DefaultAzureCredential\n",
    "\n",
    "load_dotenv()\n",
    "AZURE_OPENAI_ENDPOINT=os.getenv(\"AZURE_OPENAI_ENDPOINT\")\n",
    "AZURE_OPENAI_API_KEY= os.getenv(\"AZURE_OPENAI_API_KEY\")\n",
    "AZURE_OPENAI_API_VERSION = os.getenv(\"AZURE_OPENAI_API_VERSION\")\n",
    "AZURE_OPENAI_EMBEDDINGS_ADA_DEPLOYMENT_NAME = os.getenv(\"AZURE_OPENAI_EMBEDDINGS_ADA_DEPLOYMENT_NAME\")\n",
    "AZURE_OPENAI_GPT4_DEPLOYMENT_NAME = os.getenv(\"AZURE_OPENAI_GPT4_DEPLOYMENT_NAME\")\n",
    "\n",
    "KUSTO_URI = os.getenv(\"NL_TO_KQL_KUSTO_URI\")\n",
    "KUSTO_DATABASE = os.getenv(\"NL_TO_KQL_KUSTO_DATABASE\")\n",
    "KUSTO_TABLE = os.getenv(\"NL_TO_KQL_KUSTO_TABLE\")\n",
    "\n",
    "try:\n",
    "    credential = DefaultAzureCredential()\n",
    "    token = credential.get_token(\"https://management.azure.com/.default\")\n",
    "except Exception as ex:\n",
    "    print(ex)"
   ]
  },
  {
   "cell_type": "code",
   "execution_count": 2,
   "metadata": {},
   "outputs": [],
   "source": [
    "llm = AzureOpenAI(\n",
    "        azure_endpoint=AZURE_OPENAI_ENDPOINT,\n",
    "        api_key=AZURE_OPENAI_API_KEY,\n",
    "        api_version=AZURE_OPENAI_API_VERSION\n",
    ")\n",
    "\n",
    "def call_openAI(user_prompt, use_json_object=True):\n",
    "    system_message = \"\"\"You are an assistant designed to answer questions.\"\"\"\n",
    "    \n",
    "    if use_json_object:\n",
    "        response = llm.chat.completions.create(\n",
    "            model=AZURE_OPENAI_GPT4_DEPLOYMENT_NAME,\n",
    "            messages = [\n",
    "                {\"role\":\"system\",\"content\":system_message},\n",
    "                {\"role\":\"user\",\"content\":user_prompt}\n",
    "                ],\n",
    "            response_format={ \"type\": \"json_object\" }\n",
    "        )\n",
    "        return response.choices[0].message.content\n",
    "    else:\n",
    "        response = llm.chat.completions.create(\n",
    "            model=AZURE_OPENAI_GPT4_DEPLOYMENT_NAME,\n",
    "            messages = [\n",
    "                {\"role\":\"system\",\"content\":system_message},\n",
    "                {\"role\":\"user\",\"content\":user_prompt}\n",
    "                ]\n",
    "        )\n",
    "    return response.choices[0].message.content\n"
   ]
  },
  {
   "cell_type": "code",
   "execution_count": 3,
   "metadata": {},
   "outputs": [
    {
     "name": "stdout",
     "output_type": "stream",
     "text": [
      "Data Source=https://trd-0gy3f5j482jxjzk4xj.z4.kusto.fabric.microsoft.com;Initial Catalog=NetDefaultDB;AAD Federated Security=True;Authority Id=organizations;AZ CLI=True\n"
     ]
    }
   ],
   "source": [
    "from azure.kusto.data import KustoClient, KustoConnectionStringBuilder\n",
    "from azure.kusto.data.exceptions import KustoServiceError\n",
    "from azure.kusto.data.helpers import dataframe_from_result_table\n",
    "\n",
    "kcsb = KustoConnectionStringBuilder.with_az_cli_authentication(KUSTO_URI)\n",
    "print(kcsb)\n",
    "client = KustoClient(kcsb)\n",
    "kusto_db = KUSTO_DATABASE"
   ]
  },
  {
   "cell_type": "code",
   "execution_count": 4,
   "metadata": {},
   "outputs": [],
   "source": [
    "def execute_query(kusto_query: str):\n",
    "    response = client.execute(kusto_db, kusto_query)\n",
    "    df = dataframe_from_result_table(response.primary_results[0])\n",
    "    df\n",
    "    return df\n",
    "\n",
    "\n",
    "def get_table_creation_kql() -> str:\n",
    "    table_schema = \".create-merge table Stocks (Date:datetime, Open:real, High:real, Low:real, Close:real, AdjClose:real, Volume:string, Ticker:string) \"\n",
    "    return table_schema"
   ]
  },
  {
   "cell_type": "code",
   "execution_count": 5,
   "metadata": {},
   "outputs": [],
   "source": [
    "from string import Template\n",
    "\n",
    "def load_template(filename: str) -> Template:\n",
    "    file = open(filename, \"r\")\n",
    "    content = file.read()\n",
    "    file.close()\n",
    "    template = Template(content)\n",
    "    return template"
   ]
  },
  {
   "cell_type": "code",
   "execution_count": 6,
   "metadata": {},
   "outputs": [],
   "source": [
    "from typing import List, Tuple\n",
    "import pandas as pd\n",
    "import json\n",
    "\n",
    "def get_correction_prompt(schema: str,question: str,query: str,sql_error_message: str) -> str:\n",
    "    template_file_name = \"./prompts/correction_prompt.txt\"\n",
    "    template = load_template(template_file_name)\n",
    "    prompt = template.substitute(schema_prompt=get_schema_prompt(),question = question, query = query, sql_error_message = sql_error_message)\n",
    "    return prompt\n",
    "\n",
    "def extract_json(response: str):\n",
    "    json_response = None\n",
    "    if '{' in response and '}' in response:\n",
    "        response = response.replace('\\n', '')\n",
    "        json_response = json.loads(response)\n",
    "    return json_response[\"explanation\"], json_response[\"query\"]\n",
    "    \n",
    "def get_schema_prompt() -> str:\n",
    "    tbl_creation_kql = get_table_creation_kql()\n",
    "    template_file_name = \"./prompts/schema_prompt.txt\"\n",
    "    template = load_template(template_file_name)\n",
    "    prompt = template.substitute(tbl_creation_kql=tbl_creation_kql)\n",
    "    return prompt\n",
    "\n",
    "def get_prompt(question: str) -> str:\n",
    "    schema_prompt = get_schema_prompt()\n",
    "    template_file_name = \"./prompts/user_prompt.txt\"\n",
    "    template = load_template(template_file_name)\n",
    "    prompt = template.substitute(schema_prompt=schema_prompt, question=question)\n",
    "    return prompt\n",
    "\n",
    "def get_final_answer_prompt(question: str,query: str,explanation: str,result: pd.DataFrame) -> str:\n",
    "    schema_prompt = get_schema_prompt()\n",
    "    template_file_name = \"./prompts/final_answer_prompt.txt\"\n",
    "    template = load_template(template_file_name)\n",
    "    prompt = template.substitute(schema_prompt=schema_prompt, question=question, query=query, explanation=explanation, result=result.to_string())\n",
    "    return prompt\n",
    "\n",
    "def respond(question: str, chat_history: List[Tuple[str, str]]) -> Tuple:\n",
    "    user_prompt = get_prompt(question)\n",
    "    ua_response = call_openAI(user_prompt, True)\n",
    "    explanation, query = extract_json(ua_response)\n",
    "\n",
    "    if query is None:\n",
    "        return '', chat_history, None, '', explanation\n",
    "\n",
    "    success = False\n",
    "    for _ in range(5):\n",
    "        try:\n",
    "            query_result = execute_query(query)\n",
    "            success = True\n",
    "            break\n",
    "        except Exception as kql_error_message:\n",
    "            kql_error_prompt = get_correction_prompt(question, query, str(kql_error_message))\n",
    "            response = call_openAI(kql_error_prompt, True)\n",
    "            explanation, query = extract_json(response)\n",
    "            if query is None:\n",
    "                return '', chat_history, None, '', explanation\n",
    "\n",
    "    if success:\n",
    "        final_answer_prompt = get_final_answer_prompt(question, query, explanation, query_result)\n",
    "        chat_response = call_openAI(final_answer_prompt, False)\n",
    "        chat_history.append((question, chat_response))\n",
    "    else:\n",
    "        query_result = ''\n",
    "\n",
    "    return '', chat_history, query_result, query, explanation"
   ]
  },
  {
   "cell_type": "code",
   "execution_count": 7,
   "metadata": {},
   "outputs": [
    {
     "data": {
      "text/plain": [
       "('',\n",
       " [('What is the average price for each stock symbol in February 2013?',\n",
       "   'The average price for each stock symbol in February 2013 is listed under the \"AvgPrice\" column, corresponding to each \"Ticker\" column entry as displayed in the result. This data was calculated using a KQL query that summarized the average closing price for each ticker in February 2013. Here are some examples from the given results:\\n- Exxon Mobil (Ticker: XOM) had an average price of approximately 88.907368.\\n- Merck & Co. (Ticker: MRK) had an average price of approximately 39.923664.\\n- Lowe\\'s Companies (Ticker: LOW) had an average price of approximately 38.438421.\\n- Grainger (Ticker: GWW) had an average price of approximately 222.685788.\\n- West Pharmaceutical Services (Ticker: WST) had an average price of approximately 29.899737.\\n\\nAnd so on for each listed ticker. Each row represents the ticker of a company and its average closing price in the stock market for February 2013.')],\n",
       "     Ticker    AvgPrice\n",
       " 0      XOM   88.907368\n",
       " 1      MRK   39.923664\n",
       " 2      LOW   38.438421\n",
       " 3      GWW  222.685788\n",
       " 4      WST   29.899737\n",
       " ..     ...         ...\n",
       " 462   AVGO   34.801052\n",
       " 463   TRGP       61.09\n",
       " 464   AMCR    9.316316\n",
       " 465    NOW   31.085789\n",
       " 466   ABBV   37.068947\n",
       " \n",
       " [467 rows x 2 columns],\n",
       " 'Stocks\\n| where Date >= datetime(2013-02-01) and Date <= datetime(2013-02-28)\\n| summarize AvgPrice=avg(Close) by Ticker',\n",
       " \"This KQL query filters the 'Stocks' table for records within the date range of February 2013. It then groups the records by the stock ticker symbol and calculates the average closing price for each symbol during that period.\")"
      ]
     },
     "execution_count": 7,
     "metadata": {},
     "output_type": "execute_result"
    }
   ],
   "source": [
    "respond(\"What is the average price for each stock symbol in February 2013?\", [])"
   ]
  }
 ],
 "metadata": {
  "kernelspec": {
   "display_name": ".venv",
   "language": "python",
   "name": "python3"
  },
  "language_info": {
   "codemirror_mode": {
    "name": "ipython",
    "version": 3
   },
   "file_extension": ".py",
   "mimetype": "text/x-python",
   "name": "python",
   "nbconvert_exporter": "python",
   "pygments_lexer": "ipython3",
   "version": "3.10.11"
  }
 },
 "nbformat": 4,
 "nbformat_minor": 2
}
