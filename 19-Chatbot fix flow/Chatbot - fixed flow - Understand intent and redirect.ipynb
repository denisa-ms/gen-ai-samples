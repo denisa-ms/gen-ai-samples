{
 "cells": [
  {
   "cell_type": "code",
   "execution_count": 5,
   "metadata": {},
   "outputs": [],
   "source": [
    "from dotenv import load_dotenv\n",
    "import openai\n",
    "import os\n",
    "from openai import AzureOpenAI\n",
    "from IPython.display import display, HTML, JSON, Markdown, Image\n",
    "\n",
    "load_dotenv()\n",
    "AZURE_OPENAI_ENDPOINT=os.getenv(\"AISTUDIO_AZURE_OPENAI_ENDPOINT\")\n",
    "AZURE_OPENAI_GPT4o_DEPLOYMENT=os.getenv(\"AI_STUDIO_AZURE_OPENAI_GPT4o_DEPLOYMENT\")\n",
    "AZURE_OPENAI_API_VERSION=\"2024-02-01\"\n",
    "AZURE_OPENAI_KEY=os.getenv(\"AISTUDIO_AZURE_OPENAI_KEY\")\n",
    "\n",
    "client = openai.AzureOpenAI(\n",
    "        azure_endpoint=AZURE_OPENAI_ENDPOINT,\n",
    "        api_key=AZURE_OPENAI_KEY,\n",
    "        api_version=AZURE_OPENAI_API_VERSION\n",
    ")"
   ]
  },
  {
   "cell_type": "code",
   "execution_count": 6,
   "metadata": {},
   "outputs": [],
   "source": [
    "from string import Template\n",
    "\n",
    "def load_template(filename: str) -> Template:\n",
    "    file = open(filename, \"r\")\n",
    "    content = file.read()\n",
    "    file.close()\n",
    "    template = Template(content)\n",
    "    return template"
   ]
  },
  {
   "cell_type": "code",
   "execution_count": 13,
   "metadata": {},
   "outputs": [],
   "source": [
    "def get_questions(profile_name:str) -> str:\n",
    "    questions = \"\"\n",
    "    if profile_name == \"profile1\":\n",
    "        questions = \"\"\"\n",
    "            option1: question about the status of a parcel\n",
    "            option7: question about the location of a parcel\n",
    "        \"\"\"\n",
    "    elif profile_name == \"profile2\":\n",
    "        questions = \"\"\"\n",
    "            option1: question about the status of a parcel\n",
    "            option2: question about the status of a refund\n",
    "            option3: question about the status of a return\n",
    "            option4: question about the status of a complaint\n",
    "            option5: question about the status of a product\n",
    "            option6: question about the taxes to pay\n",
    "            option7: question about the location of a parcel\n",
    "        \"\"\"\n",
    "    return questions\n",
    "\n",
    "def get_prompt(profile_name: str) -> str:\n",
    "    template_file_name = \"./prompts/main_prompt.txt\"\n",
    "    template = load_template(template_file_name)\n",
    "    prompt = template.substitute(questions=get_questions(profile_name))\n",
    "    return prompt\n",
    "\n",
    "def call_openAI(profile_name, text):\n",
    "    system_message = get_prompt(profile_name)  \n",
    "\n",
    "    response = client.chat.completions.create(\n",
    "        model=AZURE_OPENAI_GPT4o_DEPLOYMENT,\n",
    "        messages = [\n",
    "            {\"role\":\"system\",\"content\":system_message},\n",
    "            {\"role\":\"user\",\"content\":text}\n",
    "            ],\n",
    "        temperature=0,\n",
    "    )\n",
    "\n",
    "    return response.choices[0].message.content\n"
   ]
  },
  {
   "cell_type": "code",
   "execution_count": 14,
   "metadata": {},
   "outputs": [
    {
     "data": {
      "text/html": [
       "{\n",
       "    'question_language': 'spanish',\n",
       "    'question_subject': 'option7',\n",
       "    'probability': '95'\n",
       "}"
      ],
      "text/plain": [
       "<IPython.core.display.HTML object>"
      ]
     },
     "metadata": {},
     "output_type": "display_data"
    }
   ],
   "source": [
    "# profile1 accepts only questions about the status of a parcel and its location\n",
    "query =  \"¿Dónde está mi paquete?\"\n",
    "answer = call_openAI(\"profile1\", query)\n",
    "display(HTML(answer))"
   ]
  },
  {
   "cell_type": "code",
   "execution_count": 15,
   "metadata": {},
   "outputs": [
    {
     "data": {
      "text/html": [
       "{\n",
       "    'question_language': 'english',\n",
       "    'question_subject': 'option99',\n",
       "    'probability': '90'\n",
       "}"
      ],
      "text/plain": [
       "<IPython.core.display.HTML object>"
      ]
     },
     "metadata": {},
     "output_type": "display_data"
    }
   ],
   "source": [
    "# profile1 accepts only questions about the status of a parcel and its location - so option 99\n",
    "query =  \"I wamt to know the status of my refund\"\n",
    "answer = call_openAI(\"profile1\",query)\n",
    "display(HTML(answer))"
   ]
  },
  {
   "cell_type": "code",
   "execution_count": 16,
   "metadata": {},
   "outputs": [
    {
     "data": {
      "text/html": [
       "{\n",
       "    'question_language': 'portuguese',\n",
       "    'question_subject': 'option6',\n",
       "    'probability': '95'\n",
       "}"
      ],
      "text/plain": [
       "<IPython.core.display.HTML object>"
      ]
     },
     "metadata": {},
     "output_type": "display_data"
    }
   ],
   "source": [
    "#profile2\n",
    "query =  \"quais são os impostos a pagar pela minha encomenda\"\n",
    "answer = call_openAI(\"profile2\",query)\n",
    "display(HTML(answer))"
   ]
  }
 ],
 "metadata": {
  "kernelspec": {
   "display_name": ".venv",
   "language": "python",
   "name": "python3"
  },
  "language_info": {
   "codemirror_mode": {
    "name": "ipython",
    "version": 3
   },
   "file_extension": ".py",
   "mimetype": "text/x-python",
   "name": "python",
   "nbconvert_exporter": "python",
   "pygments_lexer": "ipython3",
   "version": "3.10.11"
  },
  "orig_nbformat": 4
 },
 "nbformat": 4,
 "nbformat_minor": 2
}
