{
 "cells": [
  {
   "cell_type": "code",
   "execution_count": 5,
   "metadata": {},
   "outputs": [],
   "source": [
    "from dotenv import load_dotenv\n",
    "import openai\n",
    "import os\n",
    "from openai import AzureOpenAI\n",
    "from IPython.display import display, HTML, JSON, Markdown, Image\n",
    "\n",
    "load_dotenv()\n",
    "AZURE_OPENAI_ENDPOINT=os.getenv(\"AISTUDIO_AZURE_OPENAI_ENDPOINT\")\n",
    "AZURE_OPENAI_GPT4o_DEPLOYMENT=os.getenv(\"AI_STUDIO_AZURE_OPENAI_GPT4o_DEPLOYMENT\")\n",
    "AZURE_OPENAI_API_VERSION=\"2024-02-01\"\n",
    "AZURE_OPENAI_KEY=os.getenv(\"AISTUDIO_AZURE_OPENAI_KEY\")\n",
    " \n",
    "AZURE_COMPUTER_VISION_ENDPOINT = os.getenv(\"AZURE_COMPUTER_VISION_ENDPOINT\")\n",
    "AZURE_COMPUTER_VISION_KEY = os.getenv(\"AZURE_COMPUTER_VISION_KEY\")\n",
    "\n",
    "client = openai.AzureOpenAI(\n",
    "        azure_endpoint=AZURE_OPENAI_ENDPOINT,\n",
    "        api_key=AZURE_OPENAI_KEY,\n",
    "        api_version=AZURE_OPENAI_API_VERSION\n",
    ")\n"
   ]
  },
  {
   "cell_type": "code",
   "execution_count": 2,
   "metadata": {},
   "outputs": [],
   "source": [
    "import os\n",
    "import json\n",
    "from azure.ai.vision.imageanalysis import ImageAnalysisClient\n",
    "from azure.ai.vision.imageanalysis.models import VisualFeatures\n",
    "from azure.core.credentials import AzureKeyCredential\n",
    "\n",
    "def analyze_image(image_filename):\n",
    "    client = ImageAnalysisClient(\n",
    "        endpoint=AZURE_COMPUTER_VISION_ENDPOINT,\n",
    "        credential=AzureKeyCredential(AZURE_COMPUTER_VISION_KEY)\n",
    "    )\n",
    "\n",
    "    with open(image_filename, \"rb\") as image_stream:\n",
    "        result = client.analyze(\n",
    "            image_stream,\n",
    "            visual_features=[VisualFeatures.CAPTION, VisualFeatures.READ, VisualFeatures.DENSE_CAPTIONS, VisualFeatures.OBJECTS, VisualFeatures.PEOPLE, VisualFeatures.TAGS, VisualFeatures.SMART_CROPS],\n",
    "            gender_neutral_caption=True,  # Optional (default is False)\n",
    "        )\n",
    "\n",
    "    print(\"Image analysis results:\")\n",
    "    print(\" Model version: {}\".format(result.model_version))\n",
    "    # Print caption results to the console\n",
    "    if result.caption is not None:\n",
    "        print(\" Caption:\")    \n",
    "        print(f\"   '{result.caption.text}', Confidence {result.caption.confidence:.4f}\")\n",
    "    if result.dense_captions is not None:\n",
    "        print(\" Dense Captions:\")    \n",
    "        for caption in result.dense_captions.list:\n",
    "            print(f\"   Text: '{caption.text}', Confidence: {caption.confidence}\")\n",
    "    if result.objects is not None:\n",
    "        print(\" Objects:\")    \n",
    "        for caption in result.objects.list:\n",
    "            print(f\"   Text: '{caption.text}', Confidence: {caption.confidence}\")\n",
    "    if result.tags is not None:\n",
    "        print(\" Tags:\")\n",
    "        for caption in result.tags.list:\n",
    "            print(f\"   Text: '{caption.name}', Confidence: {caption.confidence}\")\n",
    "    if result.people is not None:\n",
    "        print(\" People:\")    \n",
    "        print(f\"   '{result.people.list}'\")\n",
    "    if result.smart_crops is not None:\n",
    "        print(\" Smart Crops:\")    \n",
    "        print(f\"   '{result.smart_crops.list}'\")\n",
    "    \n",
    "    result_dict = result.as_dict()\n",
    "    result_json = json.dumps(result_dict)\n",
    "    return result_json\n",
    "            \n"
   ]
  },
  {
   "cell_type": "markdown",
   "metadata": {},
   "source": [
    "#### Analyze a picture using Azure Cognitve services to extract text from a picture"
   ]
  },
  {
   "cell_type": "code",
   "execution_count": 3,
   "metadata": {},
   "outputs": [
    {
     "name": "stdout",
     "output_type": "stream",
     "text": [
      "Image analysis results:\n",
      " Model version: 2023-10-01\n",
      " Caption:\n",
      "   'a blue and pink polo shirt', Confidence 0.7039\n",
      " Dense Captions:\n",
      "   Text: 'a blue and pink polo shirt', Confidence: 0.7117427587509155\n",
      "   Text: 'a blue shirt with purple and pink design', Confidence: 0.6390741467475891\n",
      "   Text: 'a blue shirt with a tie', Confidence: 0.6828346848487854\n",
      " Objects:\n",
      " Tags:\n",
      "   Text: 'clothing', Confidence: 0.999369740486145\n",
      "   Text: 'fabric', Confidence: 0.9067329168319702\n",
      "   Text: 'sleeve', Confidence: 0.9034119248390198\n",
      "   Text: 'collar', Confidence: 0.8999518156051636\n",
      "   Text: 'active shirt', Confidence: 0.8928235769271851\n",
      "   Text: 'top', Confidence: 0.8922902345657349\n",
      "   Text: 'shirt', Confidence: 0.8135350942611694\n",
      "   Text: 'person', Confidence: 0.6144163608551025\n",
      " People:\n",
      "   '[{'boundingBox': {'x': 103, 'y': 0, 'w': 113, 'h': 213}, 'confidence': 0.0026073618791997433}, {'boundingBox': {'x': 0, 'y': 0, 'w': 63, 'h': 223}, 'confidence': 0.0021513751707971096}, {'boundingBox': {'x': 0, 'y': 0, 'w': 162, 'h': 221}, 'confidence': 0.0015311301685869694}, {'boundingBox': {'x': 166, 'y': 0, 'w': 57, 'h': 223}, 'confidence': 0.0013908384134992957}]'\n",
      " Smart Crops:\n",
      "   '[{'aspectRatio': 1.0, 'boundingBox': {'x': 9, 'y': 9, 'w': 206, 'h': 206}}]'\n"
     ]
    }
   ],
   "source": [
    "image_url = \"./data/retail/bike.jpg\"\n",
    "json_result = analyze_image(image_url)"
   ]
  },
  {
   "cell_type": "markdown",
   "metadata": {},
   "source": [
    "#### Extract all dense captions from the json result"
   ]
  },
  {
   "cell_type": "code",
   "execution_count": 4,
   "metadata": {},
   "outputs": [],
   "source": [
    "import json\n",
    "dict = json.loads(json_result)\n",
    "dense_captions = dict[\"denseCaptionsResult\"][\"values\"]\n"
   ]
  },
  {
   "cell_type": "markdown",
   "metadata": {},
   "source": [
    "#### Generate a product description from the text extracted from the photo using OpenAI"
   ]
  },
  {
   "cell_type": "code",
   "execution_count": 7,
   "metadata": {},
   "outputs": [],
   "source": [
    "def call_openAI(text):\n",
    "    message_text = [\n",
    "    {\"role\":\"system\",\"content\":\"You are an AI assistant that generates product descriptions for an online retail website especializing in clothing. Given the user's input, generate a Product Description.\"},\n",
    "    {\"role\":\"user\",\"content\":text}]\n",
    "\n",
    "    response = client.chat.completions.create(\n",
    "        model=AZURE_OPENAI_GPT4o_DEPLOYMENT,\n",
    "        messages = message_text,\n",
    "        temperature=0.7,\n",
    "        max_tokens=800,\n",
    "        top_p=0.95,\n",
    "        frequency_penalty=0,\n",
    "        presence_penalty=0,\n",
    "        stop=None\n",
    "    )\n",
    "\n",
    "    return response.choices[0].message.content"
   ]
  },
  {
   "cell_type": "code",
   "execution_count": 8,
   "metadata": {},
   "outputs": [
    {
     "name": "stdout",
     "output_type": "stream",
     "text": [
      "Option 1: Elevate your casual wardrobe with our stylish Blue and Pink Polo Shirt. This versatile piece features a classic polo design with a modern twist, showcasing a vibrant blend of blue and pink hues that effortlessly catch the eye. Crafted from high-quality, breathable cotton fabric, this polo shirt ensures all-day comfort and durability. The ribbed collar and cuffs add a touch of sophistication, while the two-button placket allows for easy, adjustable wear. Perfect for a day out with friends, a casual office look, or a weekend getaway, this polo shirt pairs seamlessly with jeans, chinos, or shorts. Add a pop of color to your collection and make a statement with this must-have wardrobe essential.\n",
      "Option 2: Elevate your wardrobe with this stunning blue shirt, featuring an intricate design in shades of purple and pink. Crafted from premium-quality fabric, this shirt offers both comfort and style, making it perfect for any occasion. The vibrant purple and pink patterns add a touch of modern flair to the classic blue background, creating a unique and eye-catching look. Whether you're heading to a casual outing or a night out with friends, this shirt is sure to make a statement. Pair it with your favorite jeans or chinos for a complete ensemble that exudes confidence and personality. Make this versatile and stylish shirt a staple in your collection today!\n",
      "Option 3: Introducing our sophisticated Blue Shirt with Tie set, the perfect ensemble for the modern gentleman. Crafted from premium, breathable cotton, this classic blue shirt offers both comfort and durability, ensuring you stay sharp from morning meetings to evening events. The shirt features a tailored fit, with a crisp collar and button-down front, exuding timeless elegance and refined style.\n",
      "\n",
      "Paired with a complementary tie, this set elevates your wardrobe effortlessly. The tie, made from high-quality silk, boasts a subtle sheen that adds a touch of luxury to your look. Its versatile design makes it suitable for various occasions, from business conferences to formal gatherings.\n",
      "\n",
      "Whether you're dressing for success or preparing for a special occasion, our Blue Shirt with Tie set provides a polished, put-together appearance that commands attention. Elevate your style and make a lasting impression with this essential addition to your wardrobe.\n"
     ]
    }
   ],
   "source": [
    "count = 1\n",
    "for caption in dense_captions:\n",
    "    result = call_openAI(caption[\"text\"])\n",
    "    print(\"Option \" + str(count) + \": \" + result)\n",
    "    count = count + 1\n"
   ]
  }
 ],
 "metadata": {
  "kernelspec": {
   "display_name": ".venv",
   "language": "python",
   "name": "python3"
  },
  "language_info": {
   "codemirror_mode": {
    "name": "ipython",
    "version": 3
   },
   "file_extension": ".py",
   "mimetype": "text/x-python",
   "name": "python",
   "nbconvert_exporter": "python",
   "pygments_lexer": "ipython3",
   "version": "3.10.11"
  },
  "orig_nbformat": 4
 },
 "nbformat": 4,
 "nbformat_minor": 2
}
