{
 "cells": [
  {
   "cell_type": "code",
   "execution_count": 1,
   "metadata": {},
   "outputs": [],
   "source": [
    "from dotenv import load_dotenv\n",
    "import openai\n",
    "import os\n",
    "from openai import AzureOpenAI\n",
    "from IPython.display import display, HTML, JSON, Markdown, Image\n",
    "\n",
    "load_dotenv()\n",
    "AZURE_OPENAI_ENDPOINT=os.getenv(\"AISTUDIO_AZURE_OPENAI_ENDPOINT\")\n",
    "AZURE_OPENAI_GPT4o_DEPLOYMENT=os.getenv(\"AI_STUDIO_AZURE_OPENAI_GPT4o_DEPLOYMENT\")\n",
    "AZURE_OPENAI_API_VERSION=\"2024-02-01\"\n",
    "AZURE_OPENAI_KEY=os.getenv(\"AISTUDIO_AZURE_OPENAI_KEY\")\n",
    " \n",
    "AZURE_COMPUTER_VISION_ENDPOINT = os.getenv(\"AZURE_COMPUTER_VISION_ENDPOINT\")\n",
    "AZURE_COMPUTER_VISION_KEY = os.getenv(\"AZURE_COMPUTER_VISION_KEY\")\n",
    "\n",
    "client = openai.AzureOpenAI(\n",
    "        azure_endpoint=AZURE_OPENAI_ENDPOINT,\n",
    "        api_key=AZURE_OPENAI_KEY,\n",
    "        api_version=AZURE_OPENAI_API_VERSION\n",
    ")\n"
   ]
  },
  {
   "cell_type": "code",
   "execution_count": 2,
   "metadata": {},
   "outputs": [],
   "source": [
    "import os\n",
    "import json\n",
    "from azure.ai.vision.imageanalysis import ImageAnalysisClient\n",
    "from azure.ai.vision.imageanalysis.models import VisualFeatures\n",
    "from azure.core.credentials import AzureKeyCredential\n",
    "\n",
    "def analyze_image(image_filename):\n",
    "    client = ImageAnalysisClient(\n",
    "        endpoint=AZURE_COMPUTER_VISION_ENDPOINT,\n",
    "        credential=AzureKeyCredential(AZURE_COMPUTER_VISION_KEY)\n",
    "    )\n",
    "\n",
    "    with open(image_filename, \"rb\") as image_stream:\n",
    "        result = client.analyze(\n",
    "            image_stream,\n",
    "            visual_features=[VisualFeatures.CAPTION, VisualFeatures.READ, VisualFeatures.DENSE_CAPTIONS, VisualFeatures.OBJECTS, VisualFeatures.PEOPLE, VisualFeatures.TAGS, VisualFeatures.SMART_CROPS],\n",
    "            gender_neutral_caption=True,  # Optional (default is False)\n",
    "        )\n",
    "\n",
    "    print(\"Image analysis results:\")\n",
    "    print(\" Model version: {}\".format(result.model_version))\n",
    "    # Print caption results to the console\n",
    "    if result.caption is not None:\n",
    "        print(\" Caption:\")    \n",
    "        print(f\"   '{result.caption.text}', Confidence {result.caption.confidence:.4f}\")\n",
    "    if result.dense_captions is not None:\n",
    "        print(\" Dense Captions:\")    \n",
    "        for caption in result.dense_captions.list:\n",
    "            print(f\"   Text: '{caption.text}', Confidence: {caption.confidence}\")\n",
    "    if result.objects is not None:\n",
    "        print(\" Objects:\")    \n",
    "        for caption in result.objects.list:\n",
    "            print(f\"   Text: '{caption.text}', Confidence: {caption.confidence}\")\n",
    "    if result.tags is not None:\n",
    "        print(\" Tags:\")\n",
    "        for caption in result.tags.list:\n",
    "            print(f\"   Text: '{caption.name}', Confidence: {caption.confidence}\")\n",
    "    if result.people is not None:\n",
    "        print(\" People:\")    \n",
    "        print(f\"   '{result.people.list}'\")\n",
    "    if result.smart_crops is not None:\n",
    "        print(\" Smart Crops:\")    \n",
    "        print(f\"   '{result.smart_crops.list}'\")\n",
    "    \n",
    "    result_dict = result.as_dict()\n",
    "    result_json = json.dumps(result_dict)\n",
    "    return result_json\n",
    "            \n"
   ]
  },
  {
   "cell_type": "markdown",
   "metadata": {},
   "source": [
    "#### Analyze a picture using Azure Cognitve services to extract text from a picture"
   ]
  },
  {
   "cell_type": "code",
   "execution_count": 3,
   "metadata": {},
   "outputs": [
    {
     "name": "stdout",
     "output_type": "stream",
     "text": [
      "Image analysis results:\n",
      " Model version: 2023-10-01\n",
      " Caption:\n",
      "   'a blue and pink polo shirt', Confidence 0.7037\n",
      " Dense Captions:\n",
      "   Text: 'a blue and pink polo shirt', Confidence: 0.7118337750434875\n",
      "   Text: 'a blue shirt with purple and pink design', Confidence: 0.6390741467475891\n",
      "   Text: 'a blue shirt with a tie', Confidence: 0.6828346848487854\n",
      " Objects:\n",
      " Tags:\n",
      "   Text: 'clothing', Confidence: 0.999369740486145\n",
      "   Text: 'fabric', Confidence: 0.9067331552505493\n",
      "   Text: 'sleeve', Confidence: 0.9034119844436646\n",
      "   Text: 'collar', Confidence: 0.8999518156051636\n",
      "   Text: 'active shirt', Confidence: 0.8928235769271851\n",
      "   Text: 'top', Confidence: 0.892290472984314\n",
      "   Text: 'shirt', Confidence: 0.813533365726471\n",
      "   Text: 'person', Confidence: 0.6144185662269592\n",
      " People:\n",
      "   '[{'boundingBox': {'x': 103, 'y': 0, 'w': 113, 'h': 213}, 'confidence': 0.0026073618791997433}, {'boundingBox': {'x': 0, 'y': 0, 'w': 63, 'h': 223}, 'confidence': 0.0021513751707971096}, {'boundingBox': {'x': 0, 'y': 0, 'w': 162, 'h': 221}, 'confidence': 0.0015311301685869694}, {'boundingBox': {'x': 166, 'y': 0, 'w': 57, 'h': 223}, 'confidence': 0.0013908384134992957}]'\n",
      " Smart Crops:\n",
      "   '[{'aspectRatio': 1.0, 'boundingBox': {'x': 9, 'y': 9, 'w': 206, 'h': 206}}]'\n"
     ]
    }
   ],
   "source": [
    "image_url = \"./data/retail/bike.jpg\"\n",
    "json_result = analyze_image(image_url)"
   ]
  },
  {
   "cell_type": "markdown",
   "metadata": {},
   "source": [
    "#### Extract all dense captions from the json result"
   ]
  },
  {
   "cell_type": "code",
   "execution_count": 4,
   "metadata": {},
   "outputs": [],
   "source": [
    "import json\n",
    "dict = json.loads(json_result)\n",
    "dense_captions = dict[\"denseCaptionsResult\"][\"values\"]\n"
   ]
  },
  {
   "cell_type": "markdown",
   "metadata": {},
   "source": [
    "#### Generate a product description from the text extracted from the photo using OpenAI"
   ]
  },
  {
   "cell_type": "code",
   "execution_count": 10,
   "metadata": {},
   "outputs": [],
   "source": [
    "def call_openAI(system, text):\n",
    "    message_text = [\n",
    "        {\"role\":\"system\",\"content\":system},\n",
    "        {\"role\":\"user\",\"content\":text}\n",
    "    ]\n",
    "\n",
    "    response = client.chat.completions.create(\n",
    "        model=AZURE_OPENAI_GPT4o_DEPLOYMENT,\n",
    "        messages = message_text,\n",
    "        temperature=0.7,\n",
    "        max_tokens=800,\n",
    "        top_p=0.95,\n",
    "        frequency_penalty=0,\n",
    "        presence_penalty=0,\n",
    "        stop=None\n",
    "    )\n",
    "\n",
    "    return response.choices[0].message.content"
   ]
  },
  {
   "cell_type": "code",
   "execution_count": 11,
   "metadata": {},
   "outputs": [
    {
     "name": "stdout",
     "output_type": "stream",
     "text": [
      "Option 1: Introducing our stylish Blue and Pink Polo Shirt, a perfect blend of comfort and contemporary fashion. Crafted from high-quality, breathable cotton fabric, this polo shirt ensures you stay cool and comfortable all day long. The classic design features a vibrant blue base accented with playful pink stripes, adding a touch of modern flair to a timeless look.\n",
      "\n",
      "Complete with a ribbed collar and a three-button placket, this polo shirt offers a polished appearance suitable for both casual outings and semi-formal occasions. The relaxed fit allows for easy movement, making it an ideal choice for everything from weekend brunches to a day at the golf course.\n",
      "\n",
      "Pair it with your favorite jeans or chinos for an effortlessly stylish ensemble. Elevate your wardrobe with this versatile Blue and Pink Polo Shirt—where comfort meets chic.\n",
      "\n",
      "Option 2: Elevate your wardrobe with this stylish blue shirt featuring an eye-catching purple and pink design. Perfect for both casual and semi-formal occasions, this shirt offers a unique blend of vibrant colors that add a touch of personality to your outfit. Crafted from high-quality, breathable fabric, it ensures all-day comfort and durability. The modern fit flatters all body types while allowing ease of movement. Pair it with your favorite jeans for a laid-back look or dress it up with tailored pants for a more polished ensemble. Make a statement and stand out from the crowd with this distinctive blue shirt.\n",
      "\n",
      "Option 3: Elevate your style with our sophisticated Blue Shirt and Tie Set. Crafted from premium quality, breathable cotton, this shirt ensures all-day comfort while maintaining a polished look. The classic blue hue is versatile, perfect for both professional and casual settings. Paired with a coordinating tie, this set offers a seamless blend of elegance and functionality. The tie features a subtle pattern that adds a touch of flair without overwhelming your overall look. Ideal for office wear, formal events, or any occasion where you want to make a statement, this Blue Shirt and Tie Set is a must-have addition to your wardrobe. Dress to impress with ease and confidence.\n",
      "\n"
     ]
    }
   ],
   "source": [
    "system =\"\"\"\n",
    "         You are an AI assistant that generates product descriptions for an online retail website especializing in clothing.\n",
    "        Given the user's input, generate a Product Description.\n",
    "\"\"\"\n",
    "count = 1\n",
    "for caption in dense_captions:\n",
    "    result = call_openAI(system, caption[\"text\"])\n",
    "    print(\"Option \" + str(count) + \": \" + result)\n",
    "    print()\n",
    "    count = count + 1\n"
   ]
  },
  {
   "cell_type": "code",
   "execution_count": 12,
   "metadata": {},
   "outputs": [
    {
     "name": "stdout",
     "output_type": "stream",
     "text": [
      "Option 1: Descubre nuestra elegante camisa polo en tonos azul y rosa, una prenda imprescindible para cualquier guardarropa moderno. Confeccionada con materiales de alta calidad, esta polo ofrece una comodidad excepcional y un estilo impecable. El diseño en dos tonos, azul y rosa, añade un toque de frescura y originalidad, perfecto para cualquier ocasión, ya sea una reunión casual o una salida con amigos. Su corte clásico y versátil se adapta a todas las siluetas, garantizando un ajuste perfecto. ¡Añade un toque de color y estilo a tu colección con esta magnífica camisa polo!\n",
      "\n",
      "Option 2: **Camiseta Azul con Diseño en Púrpura y Rosa**\n",
      "\n",
      "Añade un toque de estilo y color a tu guardarropa con esta camiseta azul impresionante, adornada con un diseño vibrante en púrpura y rosa. Perfecta para cualquier ocasión, esta camiseta combina comodidad y moda de una manera única. Confeccionada con materiales de alta calidad, garantiza durabilidad y una sensación suave en la piel. El contraste entre el azul de la base y los detalles en púrpura y rosa la convierte en una prenda versátil y llamativa, ideal para destacar en cualquier lugar. ¡No te pierdas la oportunidad de añadir esta pieza única a tu colección!\n",
      "\n",
      "Option 3: Descubre la elegancia y el estilo con nuestra camisa azul con corbata. Esta prenda es perfecta para cualquier ocasión formal o semi-formal, combinando confort y sofisticación en un solo conjunto. La camisa está confeccionada con materiales de alta calidad que garantizan suavidad al tacto y durabilidad. Su color azul profundo añade un toque de frescura y modernidad, mientras que la corbata a juego complementa perfectamente el look, aportando un aire de distinción. Ideal para reuniones de negocios, eventos especiales o simplemente para elevar tu estilo diario. No pierdas la oportunidad de añadir esta versátil y elegante camisa a tu guardarropa.\n",
      "\n"
     ]
    }
   ],
   "source": [
    "#translate to spanish\n",
    "system =\"\"\"\n",
    "         You are an AI assistant that generates product descriptions in spanish for an online retail website especializing in clothing.\n",
    "        Given the user's input, generate a Product Description.\n",
    "\"\"\"\n",
    "count = 1\n",
    "for caption in dense_captions:\n",
    "    result = call_openAI(system, caption[\"text\"])\n",
    "    print(\"Option \" + str(count) + \": \" + result)\n",
    "    print()\n",
    "    count = count + 1"
   ]
  }
 ],
 "metadata": {
  "kernelspec": {
   "display_name": ".venv",
   "language": "python",
   "name": "python3"
  },
  "language_info": {
   "codemirror_mode": {
    "name": "ipython",
    "version": 3
   },
   "file_extension": ".py",
   "mimetype": "text/x-python",
   "name": "python",
   "nbconvert_exporter": "python",
   "pygments_lexer": "ipython3",
   "version": "3.10.11"
  },
  "orig_nbformat": 4
 },
 "nbformat": 4,
 "nbformat_minor": 2
}
