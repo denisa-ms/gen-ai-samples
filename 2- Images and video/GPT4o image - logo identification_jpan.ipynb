{
 "cells": [
  {
   "cell_type": "code",
   "execution_count": 2,
   "metadata": {},
   "outputs": [
    {
     "name": "stdout",
     "output_type": "stream",
     "text": [
      "Model: gpt-4o; API Version:2024-10-21\n",
      "Azure OpenAI Chatbot is ready to use!\n"
     ]
    }
   ],
   "source": [
    "from dotenv import load_dotenv\n",
    "import openai\n",
    "import os\n",
    "from openai import AzureOpenAI\n",
    "from IPython.display import display, HTML, JSON, Markdown, Image\n",
    "import base64 \n",
    "\n",
    "load_dotenv()\n",
    "AZURE_OPENAI_ENDPOINT=os.getenv(\"AISTUDIO_AZURE_OPENAI_ENDPOINT\")\n",
    "#AZURE_OPENAI_GPT4o_DEPLOYMENT=\"gpt-4o-2024-08-06\"\n",
    "#AZURE_OPENAI_API_VERSION=\"2024-10-21\"\n",
    "\n",
    "#the gpt-4o model in RG openai-pudq32pahhq7c is 2024-08-06 version\n",
    "AZURE_OPENAI_GPT4o_DEPLOYMENT=os.getenv(\"AISTUDIO_AZURE_OPENAI_GPT4o_DEPLOYMENT\")\n",
    "AZURE_OPENAI_API_VERSION=os.getenv(\"AISTUDIO_AZURE_OPENAI_API_VERSION\")\n",
    "AZURE_OPENAI_KEY=os.getenv(\"AISTUDIO_AZURE_OPENAI_KEY\")\n",
    "\n",
    "client = openai.AzureOpenAI(\n",
    "        azure_endpoint=AZURE_OPENAI_ENDPOINT,\n",
    "        api_key=AZURE_OPENAI_KEY,\n",
    "        api_version=AZURE_OPENAI_API_VERSION\n",
    ")\n",
    "print(f\"Model: {AZURE_OPENAI_GPT4o_DEPLOYMENT}; API Version:{AZURE_OPENAI_API_VERSION}\")\n",
    "print(\"Azure OpenAI Chatbot is ready to use!\")"
   ]
  },
  {
   "cell_type": "code",
   "execution_count": 3,
   "metadata": {},
   "outputs": [],
   "source": [
    "from pydantic import BaseModel\n",
    "\n",
    "class Brand(BaseModel):\n",
    "    name: str\n",
    "    confidence: float"
   ]
  },
  {
   "cell_type": "code",
   "execution_count": 4,
   "metadata": {},
   "outputs": [],
   "source": [
    "import textwrap\n",
    "#in order to use structured outputs of json format from openAI, we need to use gpt4o model versions here:\n",
    "# https://learn.microsoft.com/en-us/azure/ai-services/openai/how-to/structured-outputs?tabs=python#supported-models\n",
    "\n",
    "def call_openAI(text):\n",
    "    response = client.beta.chat.completions.parse(\n",
    "        model=AZURE_OPENAI_GPT4o_DEPLOYMENT,\n",
    "        messages = text,\n",
    "        temperature=0.0,\n",
    "        response_format=Brand,\n",
    "    )\n",
    "    return response.choices[0].message.content\n",
    "\n",
    "def prettyprint(text: str) -> str:\n",
    "    print(textwrap.fill(text, 60))"
   ]
  },
  {
   "cell_type": "code",
   "execution_count": 6,
   "metadata": {},
   "outputs": [
    {
     "data": {
      "image/jpeg": "[encoded data removed]",
      "text/plain": [
       "<IPython.core.display.Image object>"
      ]
     },
     "metadata": {},
     "output_type": "display_data"
    }
   ],
   "source": [
    "import base64\n",
    "\n",
    "def encode_image(image_path):\n",
    "    with open(image_path, \"rb\") as image_file:\n",
    "        return base64.b64encode(image_file.read()).decode(\"utf-8\")\n",
    "\n",
    "IMAGE_PATH = \"./data/people_brand.jpg\"\n",
    "base64_image = encode_image(IMAGE_PATH)\n",
    "# Preview image for context\n",
    "display(Image(IMAGE_PATH))"
   ]
  },
  {
   "cell_type": "code",
   "execution_count": 7,
   "metadata": {},
   "outputs": [
    {
     "name": "stdout",
     "output_type": "stream",
     "text": [
      "{\"name\":\"Heineken\",\"confidence\":0.95}\n"
     ]
    }
   ],
   "source": [
    "\n",
    "messages=[\n",
    "    {\"role\": \"system\", \"content\": \"\"\"\n",
    "     You are an expert identifying logos of known brands in images  that responds to users questions, \n",
    "     respond in json format as follows:\n",
    "     {brand: \"brand_name\", logo: \"logo_name\", confidence: 0.9}\n",
    "     if no brand was detected say \"none\"\n",
    "     \"\"\"},\n",
    "    {\"role\": \"user\", \"content\": [\n",
    "        {\"type\": \"text\", \"text\": \"Are there any heineken logos in the picture?\"},\n",
    "        {\"type\": \"image_url\", \"image_url\": {\n",
    "            \"url\": f\"data:image/png;base64,{base64_image}\"}\n",
    "        }\n",
    "    ]}\n",
    "]\n",
    "\n",
    "result = call_openAI(messages)\n",
    "print(result)"
   ]
  },
  {
   "cell_type": "code",
   "execution_count": 8,
   "metadata": {},
   "outputs": [
    {
     "data": {
      "image/jpeg": "[encoded data removed]",
      "text/plain": [
       "<IPython.core.display.Image object>"
      ]
     },
     "metadata": {},
     "output_type": "display_data"
    }
   ],
   "source": [
    "IMAGE_PATH = \"./data/people_nobrand.jpg\"\n",
    "base64_image = encode_image(IMAGE_PATH)\n",
    "# Preview image for context\n",
    "display(Image(IMAGE_PATH))"
   ]
  },
  {
   "cell_type": "code",
   "execution_count": 9,
   "metadata": {},
   "outputs": [
    {
     "name": "stdout",
     "output_type": "stream",
     "text": [
      "{\"name\":\"none\",\"confidence\":0.9}\n"
     ]
    }
   ],
   "source": [
    "\n",
    "messages=[\n",
    "    {\"role\": \"system\", \"content\": \"\"\"\n",
    "     You are an expert identifying logos of known brands in images  that responds to users questions, \n",
    "     respond in json format as follows:\n",
    "     {brand: \"brand_name\", logo: \"logo_name\", confidence: 0.9}\n",
    "     if no brand was detected say \"none\"\n",
    "     \"\"\"},\n",
    "    {\"role\": \"user\", \"content\": [\n",
    "        {\"type\": \"text\", \"text\": \"Are there any heineken logos in the picture?\"},\n",
    "        {\"type\": \"image_url\", \"image_url\": {\n",
    "            \"url\": f\"data:image/png;base64,{base64_image}\"}\n",
    "        }\n",
    "    ]}\n",
    "]\n",
    "\n",
    "result = call_openAI(messages)\n",
    "print(result)"
   ]
  }
 ],
 "metadata": {
  "kernelspec": {
   "display_name": "venv",
   "language": "python",
   "name": "python3"
  },
  "language_info": {
   "codemirror_mode": {
    "name": "ipython",
    "version": 3
   },
   "file_extension": ".py",
   "mimetype": "text/x-python",
   "name": "python",
   "nbconvert_exporter": "python",
   "pygments_lexer": "ipython3",
   "version": "3.12.9"
  },
  "orig_nbformat": 4
 },
 "nbformat": 4,
 "nbformat_minor": 2
}
