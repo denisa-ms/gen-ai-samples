{
 "cells": [
  {
   "cell_type": "markdown",
   "metadata": {},
   "source": [
    "### **Load Environment variables from .env file**"
   ]
  },
  {
   "cell_type": "code",
   "execution_count": 1,
   "metadata": {},
   "outputs": [],
   "source": [
    "from dotenv import load_dotenv\n",
    "import openai\n",
    "import os\n",
    "from openai import AzureOpenAI\n",
    "from IPython.display import display, HTML, JSON, Markdown, Image\n",
    "import base64 \n",
    "\n",
    "load_dotenv()\n",
    "AZURE_OPENAI_ENDPOINT=os.getenv(\"AISTUDIO_AZURE_OPENAI_ENDPOINT\")\n",
    "AZURE_OPENAI_GPT4o_DEPLOYMENT=os.getenv(\"AI_STUDIO_AZURE_OPENAI_GPT4o_DEPLOYMENT\")\n",
    "AZURE_OPENAI_API_VERSION=\"2024-02-01\"\n",
    "AZURE_OPENAI_KEY=os.getenv(\"AISTUDIO_AZURE_OPENAI_KEY\")\n",
    "\n",
    "client = openai.AzureOpenAI(\n",
    "        azure_endpoint=AZURE_OPENAI_ENDPOINT,\n",
    "        api_key=AZURE_OPENAI_KEY,\n",
    "        api_version=AZURE_OPENAI_API_VERSION\n",
    ")"
   ]
  },
  {
   "cell_type": "code",
   "execution_count": 2,
   "metadata": {},
   "outputs": [],
   "source": [
    "def call_gpt4o_with_imgs(image_list):\n",
    "    text=[\n",
    "    {\"role\": \"system\", \"content\": \"You are generating a video summary. Please provide a summary of the video using the frames from the video provided.\"},\n",
    "    {\"role\": \"user\", \"content\": [\n",
    "        *map(lambda x: {\"type\": \"image_url\", \n",
    "                        \"image_url\": {\n",
    "                            \"url\": f'data:image/jpg;base64,{x}', \n",
    "                            \"detail\": \"low\"}}, image_list)\n",
    "        ],\n",
    "    }\n",
    "    ]\n",
    "    response = client.chat.completions.create(\n",
    "        model=AZURE_OPENAI_GPT4o_DEPLOYMENT,\n",
    "        messages = text,\n",
    "        temperature=0.0\n",
    "    )\n",
    "    return response.choices[0].message.content\n",
    "\n",
    "def call_gpt4o(transcript):\n",
    "    text=[\n",
    "        {\"role\": \"system\", \"content\": \"You are generating a video summary. Please provide a summary of the video transcript.\"},\n",
    "        {\"role\": \"user\", \"content\": transcript}\n",
    "    ]\n",
    "    response = client.chat.completions.create(\n",
    "        model=AZURE_OPENAI_GPT4o_DEPLOYMENT,\n",
    "        messages = text,\n",
    "        temperature=0.0\n",
    "    )\n",
    "    return response.choices[0].message.content"
   ]
  },
  {
   "cell_type": "code",
   "execution_count": 4,
   "metadata": {},
   "outputs": [
    {
     "ename": "ModuleNotFoundError",
     "evalue": "No module named 'moviepy.editor'",
     "output_type": "error",
     "traceback": [
      "\u001b[1;31m---------------------------------------------------------------------------\u001b[0m",
      "\u001b[1;31mModuleNotFoundError\u001b[0m                       Traceback (most recent call last)",
      "Cell \u001b[1;32mIn[4], line 2\u001b[0m\n\u001b[0;32m      1\u001b[0m \u001b[38;5;28;01mimport\u001b[39;00m \u001b[38;5;21;01mcv2\u001b[39;00m\n\u001b[1;32m----> 2\u001b[0m \u001b[38;5;28;01mfrom\u001b[39;00m \u001b[38;5;21;01mmoviepy\u001b[39;00m\u001b[38;5;21;01m.\u001b[39;00m\u001b[38;5;21;01meditor\u001b[39;00m \u001b[38;5;28;01mimport\u001b[39;00m VideoFileClip\n\u001b[0;32m      3\u001b[0m \u001b[38;5;28;01mimport\u001b[39;00m \u001b[38;5;21;01mtime\u001b[39;00m\n\u001b[0;32m      4\u001b[0m \u001b[38;5;28;01mimport\u001b[39;00m \u001b[38;5;21;01mbase64\u001b[39;00m\n",
      "\u001b[1;31mModuleNotFoundError\u001b[0m: No module named 'moviepy.editor'"
     ]
    }
   ],
   "source": [
    "import cv2\n",
    "from moviepy.editor import VideoFileClip\n",
    "import time\n",
    "import base64\n",
    "\n",
    "# We'll be using the OpenAI DevDay Keynote Recap video. You can review the video here: https://www.youtube.com/watch?v=h02ti0Bl6zk\n",
    "VIDEO_PATH = \"data/keynote_recap.mp4\""
   ]
  },
  {
   "cell_type": "code",
   "execution_count": null,
   "metadata": {},
   "outputs": [
    {
     "name": "stdout",
     "output_type": "stream",
     "text": [
      "MoviePy - Writing audio in data/keynote_recap.mp3\n"
     ]
    },
    {
     "name": "stderr",
     "output_type": "stream",
     "text": [
      "                                                                      "
     ]
    },
    {
     "name": "stdout",
     "output_type": "stream",
     "text": [
      "MoviePy - Done.\n",
      "Extracted 218 frames\n",
      "Extracted audio to data/keynote_recap.mp3\n"
     ]
    },
    {
     "name": "stderr",
     "output_type": "stream",
     "text": [
      "\r"
     ]
    }
   ],
   "source": [
    "import os\n",
    "def process_video(video_path, seconds_per_frame=2):\n",
    "    base64Frames = []\n",
    "    base_video_path, _ = os.path.splitext(video_path)\n",
    "\n",
    "    video = cv2.VideoCapture(video_path)\n",
    "    total_frames = int(video.get(cv2.CAP_PROP_FRAME_COUNT))\n",
    "    fps = video.get(cv2.CAP_PROP_FPS)\n",
    "    frames_to_skip = int(fps * seconds_per_frame)\n",
    "    curr_frame=0\n",
    "\n",
    "    # Loop through the video and extract frames at specified sampling rate\n",
    "    while curr_frame < total_frames - 1:\n",
    "        video.set(cv2.CAP_PROP_POS_FRAMES, curr_frame)\n",
    "        success, frame = video.read()\n",
    "        if not success:\n",
    "            break\n",
    "        _, buffer = cv2.imencode(\".jpg\", frame)\n",
    "        base64Frames.append(base64.b64encode(buffer).decode(\"utf-8\"))\n",
    "        curr_frame += frames_to_skip\n",
    "    video.release()\n",
    "\n",
    "    # Extract audio from video\n",
    "    audio_path = f\"{base_video_path}.mp3\"\n",
    "    clip = VideoFileClip(video_path)\n",
    "    clip.audio.write_audiofile(audio_path, bitrate=\"32k\")\n",
    "\n",
    "    print(f\"Extracted {len(base64Frames)} frames\")\n",
    "    print(f\"Extracted audio to {audio_path}\")\n",
    "    return base64Frames, audio_path\n",
    "\n",
    "# Extract 1 frame per second. You can adjust the `seconds_per_frame` parameter to change the sampling rate\n",
    "base64Frames, audio_path = process_video(VIDEO_PATH, seconds_per_frame=1)"
   ]
  },
  {
   "cell_type": "code",
   "execution_count": null,
   "metadata": {},
   "outputs": [
    {
     "data": {
      "image/jpeg": "[encoded data removed]",
      "text/plain": [
       "<IPython.core.display.Image object>"
      ]
     },
     "metadata": {
      "image/jpeg": {
       "width": 600
      }
     },
     "output_type": "display_data"
    }
   ],
   "source": [
    "\n",
    "## Display the frames and audio for context\n",
    "display_handle = display(None, display_id=True)\n",
    "for img in base64Frames:\n",
    "    display_handle.update(Image(data=base64.b64decode(img.encode(\"utf-8\")), width=600))\n",
    "    time.sleep(0.025)"
   ]
  },
  {
   "cell_type": "code",
   "execution_count": null,
   "metadata": {},
   "outputs": [
    {
     "name": "stdout",
     "output_type": "stream",
     "text": [
      "Total frames: 218\n"
     ]
    }
   ],
   "source": [
    "# print the number of frames\n",
    "print(f\"Total frames: {len(base64Frames)}\")"
   ]
  },
  {
   "cell_type": "markdown",
   "metadata": {},
   "source": [
    "### Example 1: Summarization\n",
    "The visual summary is generated by sending the model only the frames from the video. With just the frames, the model is likely to capture the visual aspects, but will miss any details discussed by the speaker."
   ]
  },
  {
   "cell_type": "code",
   "execution_count": null,
   "metadata": {},
   "outputs": [
    {
     "name": "stdout",
     "output_type": "stream",
     "text": [
      "Run 1 - 0 to 19\n"
     ]
    },
    {
     "data": {
      "text/plain": [
       "'The video appears to be a summary of the OpenAI DevDay event. It begins with a title screen displaying \"OPENAI DEVDAY\" and transitions to a \"Keynote Recap\" segment. The video then shows the exterior of the event venue with an OpenAI DevDay sign, followed by the OpenAI logo.\\n\\nInside the venue, there are scenes of attendees moving around and the main stage area filling up with people. The event seems well-attended, with a large audience seated and ready for the keynote presentation.\\n\\nThe keynote speaker is shown on stage, delivering a presentation with the \"OPENAI DEVDAY\" backdrop. The audience is engaged, with some members clapping. The video concludes with another title screen reiterating \"OPENAI DEVDAY.\"'"
      ]
     },
     "metadata": {},
     "output_type": "display_data"
    },
    {
     "name": "stdout",
     "output_type": "stream",
     "text": [
      "Run 2 - 20 to 39\n"
     ]
    },
    {
     "data": {
      "text/plain": [
       "'The video appears to be a presentation or keynote event. Here is a summary based on the provided frames:\\n\\n1. The video begins with an animation of a logo on a light pink background.\\n2. The scene transitions to a stage where a speaker is presenting.\\n3. The speaker introduces \"GPT-4\" and then \"GPT-4 Turbo,\" as indicated by the text on the screen behind them.\\n4. The speaker continues to discuss \"GPT-4 Turbo,\" with the text remaining on the screen for several frames.\\n5. The speaker is shown in close-up shots, holding a clicker and speaking to the audience.\\n6. The presentation then shifts to a demonstration of a feature called \"JSON Mode: ON,\" with an example JSON snippet displayed on the screen.\\n\\nThe video likely covers the introduction and features of GPT-4 Turbo, including a demonstration of its capabilities with JSON data.'"
      ]
     },
     "metadata": {},
     "output_type": "display_data"
    },
    {
     "name": "stdout",
     "output_type": "stream",
     "text": [
      "Run 3 - 40 to 59\n"
     ]
    },
    {
     "data": {
      "text/plain": [
       "'The video appears to be a presentation or keynote, likely related to a tech or software development topic. Here is a summary based on the provided frames:\\n\\n1. **Introduction to JSON Mode**: The video starts with a slide showing a JSON object with weather information and a toggle switch indicating \"JSON Mode: ON.\"\\n\\n2. **Function Calling**: The next slide demonstrates an improvement in function calling. The \"Before\" section shows a command to raise windows and turn on the radio, which is split into two separate functions in the \"After\" section for better clarity and control.\\n\\n3. **Presenter**: A person is seen explaining the function calling improvement, emphasizing the separation of commands for better functionality.\\n\\n4. **Key Features**: The presenter stands in front of a slide listing six key features or improvements:\\n   - Context length\\n   - More control\\n   - Better knowledge\\n   - (The remaining three features are not visible in the provided frames)\\n\\n5. **Further Explanation**: The presenter continues to elaborate on the features, with a background showing a network or graph-like structure, possibly indicating interconnected data or systems.\\n\\n6. **Date Announcement**: The final frames show the presenter in front of a slide with the text \"September 2021,\" likely indicating the release date or a significant event date related to the presentation.\\n\\nOverall, the video seems to be about new features or improvements in a software or technology platform, with a focus on better control, enhanced functionality, and possibly a new release or update in September 2021.'"
      ]
     },
     "metadata": {},
     "output_type": "display_data"
    },
    {
     "name": "stdout",
     "output_type": "stream",
     "text": [
      "Run 4 - 60 to 79\n"
     ]
    },
    {
     "data": {
      "text/plain": [
       "'The video appears to be a presentation or keynote event held in April 2023. The speaker, whose face is blurred, is discussing several technological advancements and new features. The key points highlighted in the presentation include:\\n\\n1. **DALL-E 3**: A new version of the DALL-E model, which is likely related to image generation or manipulation.\\n2. **GPT-4**: The latest version of the GPT model, featuring \"Turbo\" and \"Vision\" capabilities, suggesting enhancements in speed and visual processing.\\n3. **TTS**: This could refer to Text-to-Speech technology, indicating advancements in converting text into spoken words.\\n4. **Custom Models**: The speaker also mentions the availability of custom models, which could imply tailored AI models for specific applications or industries.\\n\\nThe presentation seems to focus on the latest developments in AI and machine learning technologies, showcasing improvements and new features in these areas.'"
      ]
     },
     "metadata": {},
     "output_type": "display_data"
    },
    {
     "name": "stdout",
     "output_type": "stream",
     "text": [
      "Run 5 - 80 to 99\n"
     ]
    },
    {
     "data": {
      "text/plain": [
       "'The video appears to be a presentation or keynote speech. The speaker, dressed in a green sweater and dark pants, is addressing an audience on stage. The background is mostly dark, with a large screen displaying various slides.\\n\\nKey points from the video include:\\n\\n1. The speaker discusses a topic related to \"2x tokens per minute,\" which is displayed prominently on the screen behind him.\\n2. The presentation includes a demonstration or explanation of a feature related to \"Request a limit increase\" for a model named \"gpt-3.5-turbo.\" The interface shown allows users to request an increase in the rate limit, specifying the limit type, model, and requested rate limit.\\n3. The speaker appears to be explaining the process and benefits of this feature, emphasizing the ability to handle higher limits.\\n\\nThe video seems to focus on technical aspects and improvements related to a specific model or service, likely aimed at an audience interested in technology or software development.'"
      ]
     },
     "metadata": {},
     "output_type": "display_data"
    },
    {
     "name": "stdout",
     "output_type": "stream",
     "text": [
      "Run 6 - 100 to 119\n"
     ]
    },
    {
     "data": {
      "text/plain": [
       "'The video appears to be a presentation, likely from an event hosted by OpenAI, given the branding and content. Here is a summary based on the provided frames:\\n\\n1. **Introduction to GPT-4 Turbo Pricing**: The presenter introduces the topic of GPT-4 Turbo pricing.\\n2. **Efficiency Improvements**: The presentation highlights that GPT-4 Turbo uses 3 times fewer input tokens and 2 times fewer output tokens, indicating significant efficiency improvements.\\n3. **OpenAI Dev Day Branding**: The video includes branding for \"OpenAI Dev Day,\" suggesting this is an event or conference organized by OpenAI.\\n4. **OpenAI Logo Animation**: There is an animation of the OpenAI logo, reinforcing the brand identity.\\n5. **Showcase of Various Applications**: The video showcases a variety of applications or tools, possibly developed using OpenAI\\'s technology, displayed in a grid format.\\n6. **Introduction to GPTs**: The term \"GPTs\" is displayed, likely referring to different versions or applications of the Generative Pre-trained Transformer models.\\n7. **Presenter\\'s Conclusion**: The presenter concludes the segment, possibly summarizing the key points or inviting further engagement.\\n\\nOverall, the video seems to focus on the advancements and applications of GPT-4 Turbo, emphasizing its improved efficiency and showcasing its potential uses.'"
      ]
     },
     "metadata": {},
     "output_type": "display_data"
    },
    {
     "name": "stdout",
     "output_type": "stream",
     "text": [
      "Run 7 - 120 to 139\n"
     ]
    },
    {
     "data": {
      "text/plain": [
       "'The video appears to be a presentation or keynote speech. The speaker, dressed in a green sweater and dark pants, is addressing an audience on a stage. The background is dark, and the speaker uses slides to emphasize key points. \\n\\n1. The initial frames show the speaker introducing the topic.\\n2. The slides behind the speaker display three main points: \"Instructions,\" \"Expanded knowledge,\" and \"Actions.\"\\n3. The speaker elaborates on these points, gesturing to emphasize the content.\\n4. The final frames highlight a key message: \"Build with natural language,\" suggesting the presentation is about natural language processing or a related technology.\\n5. The video concludes with a logo or branding slide.\\n\\nThe presentation seems to focus on the importance of natural language in building technology, possibly discussing advancements or applications in this field.'"
      ]
     },
     "metadata": {},
     "output_type": "display_data"
    },
    {
     "name": "stdout",
     "output_type": "stream",
     "text": [
      "Run 8 - 140 to 159\n"
     ]
    },
    {
     "data": {
      "text/plain": [
       "'The video appears to be a presentation or keynote event. The speaker, whose face is blurred, is presenting on stage in front of an audience. The presentation includes a slide with three icons: a person, a globe, and a grid of squares, possibly representing different aspects of a product or service.\\n\\nThe speaker then transitions to a slide showing a menu with categories such as Programming, Data Analysis, Education, Lifestyle, and Just for Fun. This suggests the presentation is about a platform or application that offers various functionalities or services in these areas.\\n\\nFollowing this, the video shows a screen with \"Featured GPTs\" and \"GPTs powered by DALL-E,\" indicating a focus on AI technologies, specifically GPT (Generative Pre-trained Transformer) models and DALL-E, an AI model for generating images from text descriptions.\\n\\nThe final frames show a 3D cube with the word \"PEOPLE\" on its sides, which then zooms out to a small square, possibly symbolizing a focus on people or user-centric design.\\n\\nOverall, the video seems to be about introducing or explaining a new AI-driven platform or service with diverse applications.'"
      ]
     },
     "metadata": {},
     "output_type": "display_data"
    },
    {
     "name": "stdout",
     "output_type": "stream",
     "text": [
      "Run 9 - 160 to 179\n"
     ]
    },
    {
     "data": {
      "text/plain": [
       "'The video appears to be a presentation at an event called \"OpenAI DevDay.\" The speaker, whose face is blurred, is discussing various technical topics related to APIs. The presentation includes slides that highlight key concepts such as \"Threading,\" \"Retrieval,\" \"Code Interpreter,\" and \"Function Calling.\" The event seems to be focused on developers and technical audiences, providing insights into OpenAI\\'s tools and capabilities. The video concludes with a slide reiterating the event\\'s name, \"OpenAI DevDay.\"'"
      ]
     },
     "metadata": {},
     "output_type": "display_data"
    },
    {
     "name": "stdout",
     "output_type": "stream",
     "text": [
      "Run 10 - 180 to 199\n"
     ]
    },
    {
     "data": {
      "text/plain": [
       "'The video appears to be from an event called \"OpenAI DevDay.\" The speaker, whose face is blurred, is on stage delivering a presentation. The background prominently features the words \"OPENAI\" and \"DEVDAY\" repeatedly. The speaker is dressed casually in a green sweater, dark pants, and colorful sneakers. The presentation seems to be focused on topics related to OpenAI, likely discussing new developments, technologies, or updates relevant to developers. The speaker uses hand gestures to emphasize points during the talk.'"
      ]
     },
     "metadata": {},
     "output_type": "display_data"
    }
   ],
   "source": [
    "# grab 20 frames and send them to GPT-4o for summarization\n",
    "# create a loop to grab every 20 frames and send them to OpenAI for summarization from base64Frames\n",
    "import copy \n",
    "\n",
    "nr_of_pics = len(base64Frames)\n",
    "nr_of_pics_per_round = 20\n",
    "start = 0\n",
    "end = nr_of_pics_per_round-1\n",
    "messages = []\n",
    "runs = 1\n",
    "accumulated_result = \"\"\n",
    "while end < nr_of_pics:\n",
    "    partial_frames = copy.deepcopy(base64Frames[start:end])\n",
    "    result = call_gpt4o_with_imgs(partial_frames)\n",
    "    print(f\"Run {runs} - {start} to {end}\")\n",
    "    display(result)\n",
    "    accumulated_result += result\n",
    "    if nr_of_pics - end < nr_of_pics_per_round:\n",
    "        break\n",
    "    start = end+1\n",
    "    end = start + nr_of_pics_per_round-1\n",
    "    runs += 1\n",
    "partial_frames = copy.deepcopy(base64Frames[end+1:nr_of_pics-1])\n",
    "result = call_gpt4o_with_imgs(partial_frames)\n",
    "accumulated_result += result"
   ]
  },
  {
   "cell_type": "code",
   "execution_count": null,
   "metadata": {},
   "outputs": [
    {
     "data": {
      "text/plain": [
       "'The video is a summary of the OpenAI DevDay event, capturing key moments and highlights from the presentation. It begins with a title screen displaying \"OPENAI DEVDAY\" and transitions to scenes of the event venue, showcasing the OpenAI logo and the bustling atmosphere as attendees gather for the keynote.\\n\\nThe keynote speaker is shown on stage, introducing significant advancements and new features in OpenAI\\'s technology. Key points discussed include:\\n\\n1. **GPT-4 and GPT-4 Turbo**: The speaker introduces these new versions, emphasizing their enhanced capabilities.\\n2. **JSON Mode**: A demonstration of a feature called \"JSON Mode: ON\" is shown, highlighting its practical applications.\\n3. **Function Calling Improvements**: The presentation covers improvements in function calling, showcasing a before-and-after comparison for better clarity and control.\\n4. **Key Features**: The speaker lists several key features, including increased context length, more control, and better knowledge.\\n5. **DALL-E 3**: The introduction of a new version of the DALL-E model, likely related to image generation.\\n6. **TTS (Text-to-Speech)**: Advancements in converting text into spoken words are mentioned.\\n7. **Custom Models**: The availability of tailored AI models for specific applications is discussed.\\n\\nThe video also highlights the efficiency improvements in GPT-4 Turbo, noting it uses fewer input and output tokens. The event branding, \"OpenAI Dev Day,\" is prominently featured throughout, reinforcing the significance of the occasion.\\n\\nThe presentation concludes with a focus on building with natural language, emphasizing the importance of natural language processing in technology development. The video captures the professional and engaging atmosphere of the event, showcasing both the speaker\\'s delivery and the visual elements used to enhance the presentation.'"
      ]
     },
     "metadata": {},
     "output_type": "display_data"
    }
   ],
   "source": [
    "final = call_gpt4o(accumulated_result)\n",
    "display(final)"
   ]
  }
 ],
 "metadata": {
  "kernelspec": {
   "display_name": ".venv",
   "language": "python",
   "name": "python3"
  },
  "language_info": {
   "codemirror_mode": {
    "name": "ipython",
    "version": 3
   },
   "file_extension": ".py",
   "mimetype": "text/x-python",
   "name": "python",
   "nbconvert_exporter": "python",
   "pygments_lexer": "ipython3",
   "version": "3.10.11"
  },
  "orig_nbformat": 4
 },
 "nbformat": 4,
 "nbformat_minor": 2
}
