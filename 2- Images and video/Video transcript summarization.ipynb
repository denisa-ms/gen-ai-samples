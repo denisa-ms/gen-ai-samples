{
 "cells": [
  {
   "cell_type": "code",
   "execution_count": 1,
   "metadata": {},
   "outputs": [],
   "source": [
    "from dotenv import load_dotenv\n",
    "import openai\n",
    "import os\n",
    "from openai import AzureOpenAI\n",
    "from IPython.display import display, HTML, JSON, Markdown, Image\n",
    "\n",
    "load_dotenv()\n",
    "AZURE_OPENAI_ENDPOINT=os.getenv(\"AISTUDIO_AZURE_OPENAI_ENDPOINT\")\n",
    "AZURE_OPENAI_GPT4o_DEPLOYMENT=os.getenv(\"AI_STUDIO_AZURE_OPENAI_GPT4o_DEPLOYMENT\")\n",
    "AZURE_OPENAI_API_VERSION=\"2024-02-01\"\n",
    "AZURE_OPENAI_KEY=os.getenv(\"AISTUDIO_AZURE_OPENAI_KEY\")\n",
    " \n",
    "AZURE_COMPUTER_VISION_ENDPOINT = os.getenv(\"AZURE_COMPUTER_VISION_ENDPOINT\")\n",
    "AZURE_COMPUTER_VISION_KEY = os.getenv(\"AZURE_COMPUTER_VISION_KEY\")\n",
    "\n",
    "client = openai.AzureOpenAI(\n",
    "        azure_endpoint=AZURE_OPENAI_ENDPOINT,\n",
    "        api_key=AZURE_OPENAI_KEY,\n",
    "        api_version=AZURE_OPENAI_API_VERSION\n",
    ")\n"
   ]
  },
  {
   "cell_type": "code",
   "execution_count": 4,
   "metadata": {},
   "outputs": [],
   "source": [
    "from langchain.document_loaders import YoutubeLoader\n",
    "#video - azure news dec 2023\n",
    "loader = YoutubeLoader.from_youtube_url(\n",
    "    \"https://www.youtube.com/watch?v=IfBcQvsIKY8\",\n",
    "    add_video_info=False\n",
    ")\n",
    "video_transcripts = loader.load()\n"
   ]
  },
  {
   "cell_type": "code",
   "execution_count": 5,
   "metadata": {},
   "outputs": [
    {
     "name": "stdout",
     "output_type": "stream",
     "text": [
      "hi and welcome to the Azure news recap for December 2023 um we'll Jump Right In again we'll do some retiring features we'll have some general availability ones and then the preview features that have been released in the month of December so first up retiring features most important one of the month Azure spatial services are getting retired which means that Azure spatial anchors will be retired November 20th 2024 and Azure object Anor will be retired May 20th 2024 now for Azure object anchors um it is generally available in Dynamics 365 guides and this is actually using the same technology under the hood so that would be a possible solution and please take into account that Microsoft continues to invest in developing robust spatial Computing Technologies and platforms um so we are actively working on expanding spatial Computing capabilities to meet industry's scale and performance uh jumping right into the new general availability uh features from Azure uh we'll start with Azure Health Data services that now allows you to do encryption based off of customer managed Keys um so this means that you can be extra safe in storing that data in Azure Health Data Services uh next up is a big one uh postgres cule 16 is Now supported on Azure database for postgres flexible server which means that you'll get enhanced logical uh replication it will get query execution optimization uh for instance by doing full and right joint optimizations but also refined plans for complex queries uh we have up to a 300% increase in uh bulk data loading with pushr equal 16 and also there have been some vacuum strategy enhanc ments which means that now there's less need for Full Table vacuums um some of the time um then jumping into Azure functions since we now have local development on Apple silicon Max in general availability which means that it's now GA for running for instance node.js or.net or Java applications Azure functions on your Apple silicon Mac as your app configuration now has snapshots generally available which means that you can have a production stability Assurance uh with last known good configuration uh quickly accessible uh and you can have a comprehensive audit Trail where you can see an in-depth history of changes of values in app configuration and next up virtual machines where we have multidisk crash consistency now available for VM restore points which is an agentless solution that stores the VM configuration and point in time right order consistent snapshots for all managed discs attached to a VM long story short Disaster Recovery became a bit easier with Azure VMS using crash consistency uh then jumping right into the preview features that we have for the month of December Azure event grid has added two new uh topics one of them is the new system topic for Azure Health Resources and Resource Management events which means that you can now use Azure resource notifications for real-time alerts regarding disruptions for instance in your Azure environment so you can now immediately begin um mitigating any and all uh issues that might arise and next to that there's now support for events from services like entra and Outlook and teams since we have an integration of Microsoft graph API um which means that we can now have even more types of events triggering um processes um we already talked about Azure database for postgres flexible server uh we also added some enhanced Disaster Recovery features uh one of them is virtual endpoints which means your database connection will stay uh stable so even if you have to promote your read replica to the primary your application will continue to work um without any changes and last but not least uh we now have the promote to primary server option that lets you switch roles between your primary database and its replica very quickly and this is crucial for disaster recovery and Recovery drills of course as always we have a QR code that actually points you towards all of the updates that we used for this um recap if there's something missing or if you want to see something more go to azure.com updates and see a full list of all of the updates on Azure for the past month uh for now thank thank you so much for watching we'll see you next time\n"
     ]
    }
   ],
   "source": [
    "# Access the content and metadata of each document - print the video transcript\n",
    "transcript_txt = \"\"\n",
    "for document in video_transcripts:\n",
    "    transcript_txt = document.page_content\n",
    "    metadata = document.metadata\n",
    "    print(transcript_txt)"
   ]
  },
  {
   "cell_type": "code",
   "execution_count": 7,
   "metadata": {},
   "outputs": [],
   "source": [
    "\n",
    "def call_openAI(text):\n",
    "    message_text = [\n",
    "    {\"role\":\"system\",\"content\":\"You are an AI assistant that summarizes video transcripts. Given the video transcript, generate a summarization using bullets describing product announcements.\"},\n",
    "    {\"role\":\"user\",\"content\":text}]\n",
    "\n",
    "    response = client.chat.completions.create(\n",
    "        model=AZURE_OPENAI_GPT4o_DEPLOYMENT,\n",
    "        messages = message_text,\n",
    "        temperature=0.7,\n",
    "        max_tokens=800,\n",
    "        top_p=0.95,\n",
    "        frequency_penalty=0,\n",
    "        presence_penalty=0,\n",
    "        stop=None\n",
    "    )\n",
    "\n",
    "    return response.choices[0].message.content"
   ]
  },
  {
   "cell_type": "code",
   "execution_count": null,
   "metadata": {},
   "outputs": [
    {
     "name": "stdout",
     "output_type": "stream",
     "text": [
      "- **Retiring Features:**\n",
      "  - Azure Spatial Services:\n",
      "    - Azure Spatial Anchors retiring on November 20, 2024.\n",
      "    - Azure Object Anchors retiring on May 20, 2024.\n",
      "\n",
      "- **General Availability Features:**\n",
      "  - **Azure Health Data Services:**\n",
      "    - Now supports encryption with customer-managed keys.\n",
      "  - **PostgreSQL 16 on Azure Database for PostgreSQL Flexible Server:**\n",
      "    - Enhanced logical replication.\n",
      "    - Query execution optimization.\n",
      "    - Up to 300% increase in bulk data loading.\n",
      "    - Improved vacuum strategy.\n",
      "  - **Azure Functions:**\n",
      "    - Local development on Apple Silicon Macs is now GA.\n",
      "  - **Azure App Configuration:**\n",
      "    - Snapshots feature is now generally available.\n",
      "  - **Virtual Machines:**\n",
      "    - Multi-disk crash consistency now available for VM restore points.\n",
      "\n",
      "- **Preview Features:**\n",
      "  - **Azure Event Grid:**\n",
      "    - New system topic for Azure Health Resources and Resource Management events.\n",
      "    - Support for events from services like Entra, Outlook, and Teams with Microsoft Graph API integration.\n",
      "  - **Azure Database for PostgreSQL Flexible Server:**\n",
      "    - Enhanced disaster recovery features with virtual endpoints.\n",
      "    - Promote to primary server option available for quick role switching.\n",
      "\n",
      "For full details and updates, visit azure.com/updates.\n"
     ]
    }
   ],
   "source": [
    "result = call_openAI(transcript_txt)\n",
    "print(result)"
   ]
  }
 ],
 "metadata": {
  "kernelspec": {
   "display_name": ".venv",
   "language": "python",
   "name": "python3"
  },
  "language_info": {
   "codemirror_mode": {
    "name": "ipython",
    "version": 3
   },
   "file_extension": ".py",
   "mimetype": "text/x-python",
   "name": "python",
   "nbconvert_exporter": "python",
   "pygments_lexer": "ipython3",
   "version": "3.10.11"
  },
  "orig_nbformat": 4
 },
 "nbformat": 4,
 "nbformat_minor": 2
}
