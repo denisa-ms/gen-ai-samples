{
 "cells": [
  {
   "cell_type": "markdown",
   "metadata": {},
   "source": [
    "This notebook builds a sample DB for a bookstore using SQLite."
   ]
  },
  {
   "cell_type": "code",
   "execution_count": 1,
   "metadata": {},
   "outputs": [],
   "source": [
    "from typing import Annotated\n",
    "import sqlite3"
   ]
  },
  {
   "cell_type": "code",
   "execution_count": 2,
   "metadata": {},
   "outputs": [],
   "source": [
    "# Let's create an SQL lite database with sample data\n",
    "def create_table(cursor, create_table_sql):\n",
    "    \"\"\" Execute a SQL statement to create a table. \"\"\"\n",
    "    cursor.execute(create_table_sql)\n",
    "\n",
    "def insert_data(cursor, insert_sql, data):\n",
    "    \"\"\" Insert data into a table using the provided SQL statement. \"\"\"\n",
    "    cursor.executemany(insert_sql, data)\n",
    "\n",
    "\n",
    "database = 'bookstore.db'\n",
    "\n",
    "with sqlite3.connect(database) as conn:\n",
    "    cursor = conn.cursor()\n",
    "\n",
    "     # Create the Authors table\n",
    "    sql_create_authors_table = \"\"\"\n",
    "        CREATE TABLE IF NOT EXISTS Authors (\n",
    "            id INTEGER PRIMARY KEY AUTOINCREMENT,\n",
    "            name TEXT NOT NULL,\n",
    "            biography TEXT\n",
    "        );\"\"\"\n",
    "    create_table(cursor, sql_create_authors_table)\n",
    "\n",
    "    # Create the Publishers table\n",
    "    sql_create_publishers_table = \"\"\"\n",
    "        CREATE TABLE IF NOT EXISTS Publishers (\n",
    "            d INTEGER PRIMARY KEY AUTOINCREMENT,\n",
    "            name TEXT NOT NULL,\n",
    "            address TEXT\n",
    "        );\"\"\"\n",
    "    create_table(cursor, sql_create_publishers_table)\n",
    "\n",
    "    # Create the Books table\n",
    "    sql_create_books_table = \"\"\"\n",
    "        CREATE TABLE IF NOT EXISTS Books (\n",
    "            id INTEGER PRIMARY KEY AUTOINCREMENT,\n",
    "            title TEXT NOT NULL,\n",
    "            price REAL,\n",
    "            author_id INTEGER NOT NULL, FOREIGN KEY (author_id) REFERENCES Authors(id)\n",
    "        ); \"\"\"\n",
    "    create_table(cursor, sql_create_books_table)\n",
    "\n",
    "\n",
    "    # Insert sample data into Authors table\n",
    "    insert_authors_sql = \"INSERT INTO Authors (name, biography) VALUES (?, ?)\"\n",
    "    authors_data = [\n",
    "        ('Harper Lee', 'Author of To Kill a Mockingbird'),\n",
    "        ('George Orwell', 'Author of 1984'),\n",
    "        ('J.K. Rowling', 'Author of Harry Potter'),\n",
    "        ('Agatha Christie', 'Author of'),\n",
    "        ('Dr. Seuss', 'Author of Green Eggs and Ham'),\n",
    "        ('J.R.R. Tolkien', 'Author of The Lord of the Rings'),\n",
    "        ('Stephen King', 'Author of The Shining'),\n",
    "        ('Mark Twain', 'Author of The Adventures of Huckleberry Finn'),\n",
    "        ('Jane Austen', 'Author of Pride and Prejudice')\n",
    "    ]\n",
    "    insert_data(cursor, insert_authors_sql, authors_data)\n",
    "    \n",
    "\n",
    "    # Insert sample data into Books table\n",
    "    insert_books_sql = \"INSERT INTO Books (title, author_id, price) VALUES (?, ?, ?)\"\n",
    "    books_data = [\n",
    "            ('To Kill a Mockingbird', 1, 10.99),\n",
    "            ('1984', 2, 8.99),\n",
    "            ('Harry Potter and the Sorcerer\\'s Stone', 3, 12.99),\n",
    "            ('Murder on the Orient Express',4,10.99),\n",
    "            ('Green Eggs and Ham',5,6.90),\n",
    "            ('Lord of the Rings', 6, 7.0),\n",
    "            ('Pet Sematary', 7, 9.99),\n",
    "            ('Adventures of Huckleberry Finn',8,5.90),\n",
    "            ('Pride and Prejudice',9,10),\n",
    "            ('Death on the Nile',4,10.89),\n",
    "            ('Nemesis',4,10.89),\n",
    "            ('Sleeping murder',4,10.89)\n",
    "        ]\n",
    "    insert_data(cursor, insert_books_sql, books_data)\n",
    "    conn.commit()\n",
    "    cursor.close()"
   ]
  }
 ],
 "metadata": {
  "kernelspec": {
   "display_name": "venv",
   "language": "python",
   "name": "python3"
  },
  "language_info": {
   "codemirror_mode": {
    "name": "ipython",
    "version": 3
   },
   "file_extension": ".py",
   "mimetype": "text/x-python",
   "name": "python",
   "nbconvert_exporter": "python",
   "pygments_lexer": "ipython3",
   "version": "3.12.9"
  }
 },
 "nbformat": 4,
 "nbformat_minor": 2
}
