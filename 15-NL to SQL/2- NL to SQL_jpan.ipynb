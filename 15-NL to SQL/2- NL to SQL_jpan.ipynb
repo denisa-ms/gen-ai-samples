{
 "cells": [
  {
   "cell_type": "markdown",
   "metadata": {},
   "source": [
    "This notebook demonstrates a basic SQL agent that translates natural language questions into SQL queries."
   ]
  },
  {
   "cell_type": "code",
   "execution_count": 1,
   "metadata": {},
   "outputs": [
    {
     "name": "stdout",
     "output_type": "stream",
     "text": [
      "Models: gpt-4o-mini; API Version:2024-10-21\n",
      "Azure OpenAI Model is ready to use!\n"
     ]
    }
   ],
   "source": [
    "import os\n",
    "from dotenv import load_dotenv\n",
    "from typing import Annotated\n",
    "from openai import AzureOpenAI\n",
    "import sqlite3\n",
    "from typing import Any, List\n",
    "import pandas as pd\n",
    "\n",
    "load_dotenv()\n",
    "\n",
    "AZURE_OPENAI_ENDPOINT = os.getenv(\"AZURE_OPENAI_ENDPOINT\")\n",
    "AZURE_OPENAI_API_KEY = os.getenv(\"AZURE_OPENAI_KEY\")\n",
    "AZURE_OPENAI_GPT4oMINI_DEPLOYMENT_NAME = os.getenv(\"AZURE_OPENAI_GPT4oMINI_DEPLOYMENT\")\n",
    "#AZURE_OPENAI_EMBEDDINGS_ADA_DEPLOYMENT_NAME = os.getenv(\"AZURE_OPENAI_ADA_EMBEDDING_DEPLOYMENT\")\n",
    "#AZURE_OPENAI_EMBEDDINGS_EB3_DEPLOYMENT_NAME = os.getenv(\"AZURE_OPENAI_EB3_EMBEDDING_DEPLOYMENT\")\n",
    "AZURE_OPENAI_API_VERSION=os.getenv(\"AZURE_OPENAI_API_VERSION\")\n",
    "\n",
    "print(f\"Models: {AZURE_OPENAI_GPT4oMINI_DEPLOYMENT_NAME}; API Version:{AZURE_OPENAI_API_VERSION}\")\n",
    "print(\"Azure OpenAI Model is ready to use!\")\n"
   ]
  },
  {
   "cell_type": "code",
   "execution_count": 2,
   "metadata": {},
   "outputs": [],
   "source": [
    "llm = AzureOpenAI(\n",
    "        azure_endpoint=AZURE_OPENAI_ENDPOINT,\n",
    "        api_key=AZURE_OPENAI_API_KEY,\n",
    "        api_version=AZURE_OPENAI_API_VERSION\n",
    ")\n",
    "\n",
    "def call_openAI(user_prompt, use_json_object=True):\n",
    "    system_message = \"\"\"You are an assistant designed to answer questions.\"\"\"\n",
    "    \n",
    "    if use_json_object:\n",
    "        response = llm.chat.completions.create(\n",
    "            model=AZURE_OPENAI_GPT4oMINI_DEPLOYMENT_NAME,\n",
    "            messages = [\n",
    "                {\"role\":\"system\",\"content\":system_message},\n",
    "                {\"role\":\"user\",\"content\":user_prompt}\n",
    "                ],\n",
    "            response_format={ \"type\": \"json_object\" }\n",
    "        )\n",
    "        return response.choices[0].message.content\n",
    "    else:\n",
    "        response = llm.chat.completions.create(\n",
    "            model=AZURE_OPENAI_GPT4oMINI_DEPLOYMENT_NAME,\n",
    "            messages = [\n",
    "                {\"role\":\"system\",\"content\":system_message},\n",
    "                {\"role\":\"user\",\"content\":user_prompt}\n",
    "                ]\n",
    "        )\n",
    "    return response.choices[0].message.content\n"
   ]
  },
  {
   "cell_type": "code",
   "execution_count": 3,
   "metadata": {},
   "outputs": [],
   "source": [
    "def get_conn(db_file: str) -> sqlite3.Connection:\n",
    "    return sqlite3.connect(db_file)\n",
    "\n",
    "def execute_query(conn: sqlite3.Connection, query: str) -> List[Any]:\n",
    "    cursor = conn.cursor()\n",
    "    return cursor.execute(query).fetchall()\n",
    "\n",
    "def execute_query_pd(conn: sqlite3.Connection, query: str) -> pd.DataFrame:\n",
    "    return pd.read_sql_query(query, conn)\n",
    "\n",
    "# Get a description of a table into a pandas dataframe\n",
    "def get_table_schema(conn: sqlite3.Connection, table_name: str) -> pd.DataFrame:\n",
    "    query = f\"PRAGMA table_info({table_name});\"\n",
    "    return pd.read_sql_query(query, conn)\n",
    "\n",
    "#Construct a description of the DB schema for the LLM by retrieving the\n",
    "# CREATE commands used to create the tables\n",
    "def get_db_creation_sql(conn: sqlite3.Connection) -> str:\n",
    "    cursor = conn.cursor()\n",
    "    query = \"SELECT sql FROM sqlite_master WHERE type='table'\"\n",
    "    results = cursor.execute(query).fetchall()\n",
    "    results = [col[0] for col in results]\n",
    "    schema_description = '\\n'.join(results)\n",
    "    return schema_description\n",
    "\n",
    "\n",
    "def get_tables_from_db(conn: sqlite3.Connection) -> List[str]:\n",
    "    cursor = conn.cursor()\n",
    "    cursor.execute(\"SELECT name FROM sqlite_master WHERE type='table';\")\n",
    "    return [x[0] for x in cursor.fetchall()]\n"
   ]
  },
  {
   "cell_type": "code",
   "execution_count": 4,
   "metadata": {},
   "outputs": [
    {
     "name": "stdout",
     "output_type": "stream",
     "text": [
      "CREATE TABLE Authors (\n",
      "            id INTEGER PRIMARY KEY AUTOINCREMENT,\n",
      "            name TEXT NOT NULL,\n",
      "            biography TEXT\n",
      "        )\n",
      "CREATE TABLE sqlite_sequence(name,seq)\n",
      "CREATE TABLE Publishers (\n",
      "            d INTEGER PRIMARY KEY AUTOINCREMENT,\n",
      "            name TEXT NOT NULL,\n",
      "            address TEXT\n",
      "        )\n",
      "CREATE TABLE Books (\n",
      "            id INTEGER PRIMARY KEY AUTOINCREMENT,\n",
      "            title TEXT NOT NULL,\n",
      "            price REAL,\n",
      "            author_id INTEGER NOT NULL, FOREIGN KEY (author_id) REFERENCES Authors(id)\n",
      "        )\n"
     ]
    }
   ],
   "source": [
    "database = 'bookstore.db'\n",
    "conn = sqlite3.connect(database)\n",
    "TABLE_NAME = 'Books'\n",
    "schema = get_db_creation_sql(conn)\n",
    "print(schema)"
   ]
  },
  {
   "cell_type": "code",
   "execution_count": 5,
   "metadata": {},
   "outputs": [],
   "source": [
    "from string import Template\n",
    "\n",
    "def load_template(filename: str) -> Template:\n",
    "    file = open(filename, \"r\")\n",
    "    content = file.read()\n",
    "    file.close()\n",
    "    template = Template(content)\n",
    "    return template"
   ]
  },
  {
   "cell_type": "code",
   "execution_count": 6,
   "metadata": {},
   "outputs": [],
   "source": [
    "from typing import List, Tuple\n",
    "import pandas as pd\n",
    "import json\n",
    "\n",
    "def get_correction_prompt(schema: str,question: str,query: str,sql_error_message: str) -> str:\n",
    "    template_file_name = \"./prompts/correction_prompt.txt\"\n",
    "    template = load_template(template_file_name)\n",
    "    prompt = template.substitute(schema_prompt=get_schema_prompt(),question = question, query = query, sql_error_message = sql_error_message)\n",
    "    return prompt\n",
    "\n",
    "def extract_json(response: str):\n",
    "    json_response = None\n",
    "    if '{' in response and '}' in response:\n",
    "        response = response.replace('\\n', '')\n",
    "        json_response = json.loads(response)\n",
    "    return json_response[\"explanation\"], json_response[\"query\"]\n",
    "    \n",
    "def get_schema_prompt() -> str:\n",
    "    tbl_creation_sql = get_db_creation_sql(conn)\n",
    "    template_file_name = \"./prompts/schema_prompt.txt\"\n",
    "    template = load_template(template_file_name)\n",
    "    prompt = template.substitute(tbl_creation_sql=tbl_creation_sql)\n",
    "    return prompt\n",
    "\n",
    "def get_prompt(question: str) -> str:\n",
    "    schema_prompt = get_schema_prompt()\n",
    "    template_file_name = \"./prompts/user_prompt.txt\"\n",
    "    template = load_template(template_file_name)\n",
    "    prompt = template.substitute(schema_prompt=schema_prompt, question=question)\n",
    "    return prompt\n",
    "\n",
    "def get_final_answer_prompt(question: str,query: str,explanation: str,result: pd.DataFrame) -> str:\n",
    "    schema_prompt = get_schema_prompt()\n",
    "    template_file_name = \"./prompts/final_answer_prompt.txt\"\n",
    "    template = load_template(template_file_name)\n",
    "    prompt = template.substitute(schema_prompt=schema_prompt, question=question, query=query, explanation=explanation, result=result.to_string())\n",
    "    return prompt\n",
    "\n",
    "def respond(question: str, chat_history: List[Tuple[str, str]]) -> Tuple:\n",
    "    user_prompt = get_prompt(question)\n",
    "    ua_response = call_openAI(user_prompt, True)\n",
    "    explanation, query = extract_json(ua_response)\n",
    "\n",
    "    if query is None:\n",
    "        return '', chat_history, None, '', explanation\n",
    "\n",
    "    success = False\n",
    "    for _ in range(5):\n",
    "        try:\n",
    "            query_result = execute_query_pd(conn, query)\n",
    "            success = True\n",
    "            break\n",
    "        except Exception as sql_error_message:\n",
    "            sql_error_prompt = get_correction_prompt(question, query, str(sql_error_message))\n",
    "            response = call_openAI(sql_error_prompt, True)\n",
    "            explanation, query = extract_json(response)\n",
    "            if query is None:\n",
    "                return '', chat_history, None, '', explanation\n",
    "\n",
    "    if success:\n",
    "        final_answer_prompt = get_final_answer_prompt(question, query, explanation, query_result)\n",
    "        chat_response = call_openAI(final_answer_prompt, False)\n",
    "        chat_history.append((question, chat_response))\n",
    "    else:\n",
    "        query_result = ''\n",
    "\n",
    "    return '', chat_history, query_result, query, explanation"
   ]
  },
  {
   "cell_type": "code",
   "execution_count": 7,
   "metadata": {},
   "outputs": [
    {
     "data": {
      "text/plain": [
       "('',\n",
       " [('How many books are in the bookstore?',\n",
       "   'The question asks how many books are in the bookstore. The provided SQL query counts the total number of entries in the `Books` table by using the `COUNT(*)` function. \\n\\nFrom the execution of the query, the result indicates that there are a total of 24 books in the bookstore. \\n\\nSo, the answer is:\\n\\n**There are 24 books in the bookstore.**')],\n",
       "    total_books\n",
       " 0           24,\n",
       " 'SELECT COUNT(*) AS total_books FROM Books;',\n",
       " 'This query counts the total number of books in the Books table using the COUNT function.')"
      ]
     },
     "execution_count": 7,
     "metadata": {},
     "output_type": "execute_result"
    }
   ],
   "source": [
    "respond(\"How many books are in the bookstore?\", [])"
   ]
  },
  {
   "cell_type": "code",
   "execution_count": 8,
   "metadata": {},
   "outputs": [
    {
     "data": {
      "text/plain": [
       "('',\n",
       " [('How many books by Harper Lee are in the bookstore?',\n",
       "   'The provided information indicates that there are 2 books by Harper Lee in the bookstore. The SQL query counts the number of books associated with Harper Lee by joining the Books and Authors tables and filtering for that specific author in the WHERE clause. The result shows that the count of those books is 2.')],\n",
       "    book_count\n",
       " 0           2,\n",
       " \"SELECT COUNT(*) AS book_count FROM Books JOIN Authors ON Books.author_id = Authors.id WHERE Authors.name = 'Harper Lee';\",\n",
       " \"This query counts the number of books written by Harper Lee by joining the Books table with the Authors table on the author_id. It uses a WHERE clause to filter for the author with the name 'Harper Lee' and returns the count of books associated with that author.\")"
      ]
     },
     "execution_count": 8,
     "metadata": {},
     "output_type": "execute_result"
    }
   ],
   "source": [
    "respond(\"How many books by Harper Lee are in the bookstore?\", [])"
   ]
  },
  {
   "cell_type": "code",
   "execution_count": 9,
   "metadata": {},
   "outputs": [],
   "source": [
    "conn.close()"
   ]
  },
  {
   "cell_type": "code",
   "execution_count": null,
   "metadata": {},
   "outputs": [],
   "source": []
  }
 ],
 "metadata": {
  "kernelspec": {
   "display_name": "venv",
   "language": "python",
   "name": "python3"
  },
  "language_info": {
   "codemirror_mode": {
    "name": "ipython",
    "version": 3
   },
   "file_extension": ".py",
   "mimetype": "text/x-python",
   "name": "python",
   "nbconvert_exporter": "python",
   "pygments_lexer": "ipython3",
   "version": "3.12.9"
  }
 },
 "nbformat": 4,
 "nbformat_minor": 2
}
