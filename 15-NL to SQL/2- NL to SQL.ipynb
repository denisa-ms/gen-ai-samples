{
 "cells": [
  {
   "cell_type": "markdown",
   "metadata": {},
   "source": [
    "This notebook demonstrates a basic SQL agent that translates natural language questions into SQL queries."
   ]
  },
  {
   "cell_type": "code",
   "execution_count": 1,
   "metadata": {},
   "outputs": [],
   "source": [
    "import os\n",
    "from dotenv import load_dotenv\n",
    "from typing import Annotated\n",
    "from openai import AzureOpenAI\n",
    "import sqlite3\n",
    "from typing import Any, List\n",
    "import pandas as pd\n",
    "\n",
    "load_dotenv()\n",
    "AZURE_OPENAI_ENDPOINT=os.getenv(\"AZURE_OPENAI_ENDPOINT\")\n",
    "AZURE_OPENAI_API_KEY= os.getenv(\"AZURE_OPENAI_API_KEY\")\n",
    "AZURE_OPENAI_API_VERSION = os.getenv(\"AZURE_OPENAI_API_VERSION\")\n",
    "AZURE_OPENAI_EMBEDDINGS_ADA_DEPLOYMENT_NAME = os.getenv(\"AZURE_OPENAI_EMBEDDINGS_ADA_DEPLOYMENT_NAME\")\n",
    "AZURE_OPENAI_GPT4_DEPLOYMENT_NAME = os.getenv(\"AZURE_OPENAI_GPT4_DEPLOYMENT_NAME\")\n"
   ]
  },
  {
   "cell_type": "code",
   "execution_count": 2,
   "metadata": {},
   "outputs": [],
   "source": [
    "llm = AzureOpenAI(\n",
    "        azure_endpoint=AZURE_OPENAI_ENDPOINT,\n",
    "        api_key=AZURE_OPENAI_API_KEY,\n",
    "        api_version=AZURE_OPENAI_API_VERSION\n",
    ")\n",
    "\n",
    "def call_openAI(user_prompt):\n",
    "    system_message = \"\"\"You are an assistant designed to answer questions.\"\"\"\n",
    "\n",
    "    response = llm.chat.completions.create(\n",
    "        model=AZURE_OPENAI_GPT4_DEPLOYMENT_NAME,\n",
    "        messages = [\n",
    "            {\"role\":\"system\",\"content\":system_message},\n",
    "            {\"role\":\"user\",\"content\":user_prompt}\n",
    "            ]\n",
    "    )\n",
    "    return response.choices[0].message.content\n"
   ]
  },
  {
   "cell_type": "code",
   "execution_count": 3,
   "metadata": {},
   "outputs": [],
   "source": [
    "def get_conn(db_file: str) -> sqlite3.Connection:\n",
    "    return sqlite3.connect(db_file)\n",
    "\n",
    "def execute_query(conn: sqlite3.Connection, query: str) -> List[Any]:\n",
    "    cursor = conn.cursor()\n",
    "    return cursor.execute(query).fetchall()\n",
    "\n",
    "\n",
    "def execute_query_pd(conn: sqlite3.Connection, query: str) -> pd.DataFrame:\n",
    "    return pd.read_sql_query(query, conn)\n",
    "\n",
    "# Get a description of a table into a pandas dataframe\n",
    "def get_table_schema(conn: sqlite3.Connection, table_name: str) -> pd.DataFrame:\n",
    "    query = f\"PRAGMA table_info({table_name});\"\n",
    "    return pd.read_sql_query(query, conn)\n",
    "\n",
    "#Construct a description of the DB schema for the LLM by retrieving the\n",
    "# CREATE commands used to create the tables\n",
    "def get_db_creation_sql(conn: sqlite3.Connection) -> str:\n",
    "    cursor = conn.cursor()\n",
    "    query = \"SELECT sql FROM sqlite_master WHERE type='table'\"\n",
    "    results = cursor.execute(query).fetchall()\n",
    "    results = [col[0] for col in results]\n",
    "    schema_description = '\\n'.join(results)\n",
    "    return schema_description\n",
    "\n",
    "\n",
    "def get_tables_from_db(conn: sqlite3.Connection) -> List[str]:\n",
    "    cursor = conn.cursor()\n",
    "    cursor.execute(\"SELECT name FROM sqlite_master WHERE type='table';\")\n",
    "    return [x[0] for x in cursor.fetchall()]\n"
   ]
  },
  {
   "cell_type": "code",
   "execution_count": 10,
   "metadata": {},
   "outputs": [
    {
     "name": "stdout",
     "output_type": "stream",
     "text": [
      "CREATE TABLE Authors (\n",
      "            id INTEGER PRIMARY KEY AUTOINCREMENT,\n",
      "            name TEXT NOT NULL,\n",
      "            biography TEXT\n",
      "        )\n",
      "CREATE TABLE sqlite_sequence(name,seq)\n",
      "CREATE TABLE Publishers (\n",
      "            d INTEGER PRIMARY KEY AUTOINCREMENT,\n",
      "            name TEXT NOT NULL,\n",
      "            address TEXT\n",
      "        )\n",
      "CREATE TABLE Books (\n",
      "            id INTEGER PRIMARY KEY AUTOINCREMENT,\n",
      "            title TEXT NOT NULL,\n",
      "            price REAL,\n",
      "            author_id INTEGER NOT NULL, FOREIGN KEY (author_id) REFERENCES Authors(id)\n",
      "        )\n"
     ]
    }
   ],
   "source": [
    "database = 'bookstore.db'\n",
    "conn = sqlite3.connect(database)\n",
    "TABLE_NAME = 'Books'\n",
    "schema = get_db_creation_sql(conn)\n",
    "print(schema)"
   ]
  },
  {
   "cell_type": "code",
   "execution_count": 5,
   "metadata": {},
   "outputs": [],
   "source": [
    "from typing import List, Optional, Tuple\n",
    "import pandas as pd\n",
    "import json\n",
    "\n",
    "EXP_QUERY_TEMPLATE = json.dumps(\n",
    "    {\n",
    "        'explanation': '[explain what the query does]',\n",
    "        'query': '```[sql query]```'\n",
    "    }, indent=4\n",
    ")\n",
    "\n",
    "#Given an SQL error after a bad query, this writes a prompt to fix it\n",
    "def get_error_prompt(schema: str,question: str,query: str,sql_error_message: str) -> str:\n",
    "    sql_error_dict = {\n",
    "        'Question': question,\n",
    "        'Query': query,\n",
    "        'SQL Error': str(sql_error_message)\n",
    "    }\n",
    "\n",
    "    prompt = get_table_prompt(schema)\n",
    "    prompt += 'Given the following question, query, and sql error, fix the query.'\n",
    "    prompt += json.dumps(sql_error_dict)\n",
    "    prompt += '\\nReturn your answer by filling out the following template:\\n'\n",
    "    prompt += EXP_QUERY_TEMPLATE\n",
    "    return prompt\n",
    "\n",
    "# Extracts the explanation and SQL query out of the response from the model\n",
    "def extract_query_from_response(response: str) -> Tuple[str, Optional[str]]:\n",
    "    # print('Response_1:', response, '\\n')\n",
    "\n",
    "    if '{' in response and '}' in response:\n",
    "        response = '{' + response.split('{')[1].split('}')[0] + '}'\n",
    "        response = response.replace('```json', '```')\n",
    "        response = response.strip().rstrip().replace('\\n', '')\n",
    "        response = json.loads(response)\n",
    "        query = response['query'].replace('```sql', '')\n",
    "        query = query.replace('```', '')\n",
    "        return response['explanation'], query\n",
    "    else:\n",
    "        # No JSON returned, so probably just an explanation for why it can't complete it\n",
    "        return response, None\n",
    "\n",
    "# Writes a prompt to show information about the table\n",
    "def get_table_prompt(schema: str) -> str:\n",
    "    prompt = 'Below is the information for an SQLite table.'\n",
    "    prompt += f'Schema:\\n{schema}\\n\\n'\n",
    "    prompt += '\\n------------------------------------------------------\\n'\n",
    "    return prompt\n",
    "\n",
    "# Writes the prompt to ask the question given by the user\n",
    "def get_user_agent_prompt(schema: str, question: str) -> str:\n",
    "    prompt = get_table_prompt(schema)\n",
    "    prompt += 'Below is a question input from a user. '\n",
    "    prompt += 'Generate an SQL query that pulls the necessary data to answer the question.\\n\\n'\n",
    "    prompt += f'Question: {question}\\n\\n'\n",
    "    prompt += 'Return your answer by filling out the following template:\\n'\n",
    "    prompt += EXP_QUERY_TEMPLATE\n",
    "    return prompt\n",
    "\n",
    "# Formats the question, query, explanation, and result into a JSON type string\n",
    "def get_question_result(question: str, query: str, explanation: str, result: str) -> str:\n",
    "    return json.dumps(\n",
    "        {\n",
    "            'question': question,\n",
    "            'query': query,\n",
    "            'explanation': explanation,\n",
    "            'result': result\n",
    "        }, indent=4\n",
    "    )\n",
    "\n",
    "# Writes the prompt to answer the question the user had given the result from the query to the database\n",
    "def get_db_agent_prompt(schema: str,question: str,query: str,explanation: str,result: pd.DataFrame) -> str:\n",
    "    prompt = get_table_prompt(schema)\n",
    "    prompt += 'Below is a question, SQL query, explanation, and the result from executing the query. '\n",
    "    prompt += 'Use these pieces of information to answer the question.\\n\\n'\n",
    "    prompt += get_question_result(\n",
    "        question, query, explanation, result.to_string())\n",
    "    return prompt\n",
    "\n",
    "\n",
    "def respond(question: str, chat_history: List[Tuple[str, str]]) -> Tuple:\n",
    "    user_prompt = get_user_agent_prompt(schema, question)\n",
    "    ua_response = call_openAI(user_prompt)\n",
    "    explanation, query = extract_query_from_response(ua_response)\n",
    "\n",
    "    if query is None:\n",
    "        conn.close()\n",
    "        return '', chat_history, None, '', explanation\n",
    "\n",
    "    success = False\n",
    "    for _ in range(5):\n",
    "        try:\n",
    "            query_result = pd.read_sql_query(query, conn)\n",
    "            success = True\n",
    "            break\n",
    "        except Exception as sql_error_message:\n",
    "            sql_error_prompt = get_error_prompt(schema, question, query, str(sql_error_message))\n",
    "            response = call_openAI(sql_error_prompt)\n",
    "            explanation, query = extract_query_from_response(response)\n",
    "            if query is None:\n",
    "                conn.close()\n",
    "                return '', chat_history, None, '', explanation\n",
    "\n",
    "    if success:\n",
    "        db_res_prompt = get_db_agent_prompt(schema, question, query, explanation, query_result)\n",
    "        chat_response = call_openAI(db_res_prompt)\n",
    "        chat_history.append((question, chat_response))\n",
    "    else:\n",
    "        query_result = ''\n",
    "\n",
    "    return '', chat_history, query_result, query, explanation"
   ]
  },
  {
   "cell_type": "code",
   "execution_count": 6,
   "metadata": {},
   "outputs": [
    {
     "data": {
      "text/plain": [
       "('',\n",
       " [('How many books are in the bookstore?',\n",
       "   'Based on the provided SQL query and its result, there are 2 books in the bookstore.')],\n",
       "    total_books\n",
       " 0            2,\n",
       " 'SELECT COUNT(*) AS total_books FROM Books;',\n",
       " \"The SQL query counts the total number of rows in the 'Books' table, which corresponds to the total number of books available in the bookstore.\")"
      ]
     },
     "execution_count": 6,
     "metadata": {},
     "output_type": "execute_result"
    }
   ],
   "source": [
    "respond(\"How many books are in the bookstore?\", [])"
   ]
  },
  {
   "cell_type": "code",
   "execution_count": 7,
   "metadata": {},
   "outputs": [
    {
     "data": {
      "text/plain": [
       "('',\n",
       " [('How many books by Harper Lee are in the bookstore?',\n",
       "   'The result of the query indicates that there is 1 book by Harper Lee in the bookstore.')],\n",
       "    COUNT(*)\n",
       " 0         1,\n",
       " \"SELECT COUNT(*) FROM Books JOIN Authors ON Books.author_id = Authors.id WHERE Authors.name = 'Harper Lee';\",\n",
       " \"The query attempts to count the number of books written by Harper Lee by joining the Books table with the Authors table. The join is performed based on the author_id field in the Books table and the id field in the Authors table. The WHERE clause filters the results to only include books where the author's name is 'Harper Lee'. The error occurred due to an extra 'SQL' prefix in the query, which is not valid SQL syntax.\")"
      ]
     },
     "execution_count": 7,
     "metadata": {},
     "output_type": "execute_result"
    }
   ],
   "source": [
    "respond(\"How many books by Harper Lee are in the bookstore?\", [])"
   ]
  },
  {
   "cell_type": "code",
   "execution_count": 8,
   "metadata": {},
   "outputs": [],
   "source": [
    "conn.close()"
   ]
  }
 ],
 "metadata": {
  "kernelspec": {
   "display_name": ".venv",
   "language": "python",
   "name": "python3"
  },
  "language_info": {
   "codemirror_mode": {
    "name": "ipython",
    "version": 3
   },
   "file_extension": ".py",
   "mimetype": "text/x-python",
   "name": "python",
   "nbconvert_exporter": "python",
   "pygments_lexer": "ipython3",
   "version": "3.10.11"
  }
 },
 "nbformat": 4,
 "nbformat_minor": 2
}
