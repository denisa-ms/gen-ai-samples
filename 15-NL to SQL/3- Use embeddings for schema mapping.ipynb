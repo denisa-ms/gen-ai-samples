{
 "cells": [
  {
   "cell_type": "markdown",
   "metadata": {},
   "source": [
    "### **Load Environment variables from .env file**"
   ]
  },
  {
   "cell_type": "code",
   "execution_count": 1,
   "metadata": {},
   "outputs": [],
   "source": [
    "from openai import AzureOpenAI\n",
    "import faiss\n",
    "from dotenv import load_dotenv\n",
    "from IPython.display import display, HTML\n",
    "import os"
   ]
  },
  {
   "cell_type": "code",
   "execution_count": 2,
   "metadata": {},
   "outputs": [],
   "source": [
    "load_dotenv()\n",
    "AISTUDIO_AZURE_OPENAI_ENDPOINT=os.getenv(\"AISTUDIO_AZURE_OPENAI_ENDPOINT\")\n",
    "AISTUDIO_AZURE_OPENAI_KEY= os.getenv(\"AISTUDIO_AZURE_OPENAI_KEY\")\n",
    "AISTUDIO_AZURE_OPENAI_EMBEDDING_DEPLOYMENT = \"text-embedding-3-large\"\n",
    "AISTUDIO_AZURE_OPENAI_EMBEDDING_MODELNAME = \"text-embedding-3-large\""
   ]
  },
  {
   "cell_type": "code",
   "execution_count": 3,
   "metadata": {},
   "outputs": [
    {
     "name": "stdout",
     "output_type": "stream",
     "text": [
      "data[0]: length=3072, [0.022330209612846375, -0.002088305074721575, ..., -0.014379994943737984, 0.006100048776715994]\n",
      "data[1]: length=3072, [0.011640272103250027, 0.005252661183476448, ..., -0.028720801696181297, -0.0025770869106054306]\n",
      "data[2]: length=3072, [0.016326788812875748, -0.0018455119570717216, ..., -0.005349587649106979, 0.006049444433301687]\n",
      "Usage(prompt_tokens=6, total_tokens=6)\n"
     ]
    }
   ],
   "source": [
    "# testing embeddings \n",
    "\n",
    "import os\n",
    "from openai import AzureOpenAI\n",
    "\n",
    "client = AzureOpenAI(\n",
    "    api_version=\"2024-02-01\",\n",
    "    azure_endpoint =AISTUDIO_AZURE_OPENAI_ENDPOINT,\n",
    "    api_key=AISTUDIO_AZURE_OPENAI_KEY\n",
    ")\n",
    "\n",
    "response = client.embeddings.create(\n",
    "    input=[\"first phrase\",\"second phrase\",\"third phrase\"],\n",
    "    model=AISTUDIO_AZURE_OPENAI_EMBEDDING_MODELNAME\n",
    ")\n",
    "\n",
    "for item in response.data:\n",
    "    length = len(item.embedding)\n",
    "    print(\n",
    "        f\"data[{item.index}]: length={length}, \"\n",
    "        f\"[{item.embedding[0]}, {item.embedding[1]}, \"\n",
    "        f\"..., {item.embedding[length-2]}, {item.embedding[length-1]}]\"\n",
    "    )\n",
    "print(response.usage)"
   ]
  },
  {
   "cell_type": "code",
   "execution_count": 4,
   "metadata": {},
   "outputs": [
    {
     "data": {
      "text/plain": [
       "'Semantic kernel is the framework for building context-aware reasoning applications'"
      ]
     },
     "execution_count": 4,
     "metadata": {},
     "output_type": "execute_result"
    }
   ],
   "source": [
    "# Create a vector store with a sample text\n",
    "from langchain_core.vectorstores import InMemoryVectorStore\n",
    "from langchain_openai import AzureOpenAIEmbeddings\n",
    "\n",
    "embeddings = AzureOpenAIEmbeddings(\n",
    "    model=AISTUDIO_AZURE_OPENAI_EMBEDDING_MODELNAME,\n",
    "    azure_endpoint=AISTUDIO_AZURE_OPENAI_ENDPOINT,\n",
    "    api_key=AISTUDIO_AZURE_OPENAI_KEY,\n",
    "    openai_api_version=\"2024-02-01\"\n",
    ")\n",
    "text = \"Semantic kernel is the framework for building context-aware reasoning applications\"\n",
    "\n",
    "vectorstore = InMemoryVectorStore.from_texts(\n",
    "    [text],\n",
    "    embedding=embeddings,\n",
    ")\n",
    "\n",
    "# Use the vectorstore as a retriever\n",
    "retriever = vectorstore.as_retriever()\n",
    "\n",
    "# Retrieve the most similar text\n",
    "retrieved_documents = retriever.invoke(\"What is Semantic kernel?\")\n",
    "\n",
    "# show the retrieved document's content\n",
    "retrieved_documents[0].page_content"
   ]
  },
  {
   "cell_type": "code",
   "execution_count": 22,
   "metadata": {},
   "outputs": [],
   "source": [
    "import pandas as pd\n",
    "\n",
    "# Load the CSV file\n",
    "df = pd.read_csv(\"./schema/schema.csv\")\n",
    "\n",
    "# convert df[schema] to a list of strings\n",
    "texts = df[\"table_schema\"].tolist()\n",
    "\n",
    "vectorstore = InMemoryVectorStore.from_texts(\n",
    "    texts,\n",
    "    embedding=embeddings,\n",
    ")\n",
    "\n",
    "# Use the vectorstore as a retriever\n",
    "# retrieve 2 most similar documents\n",
    "retriever = vectorstore.as_retriever(search_kwargs={\"k\": 1})"
   ]
  },
  {
   "cell_type": "code",
   "execution_count": 23,
   "metadata": {},
   "outputs": [
    {
     "data": {
      "text/html": [
       "<pre>Document 1:\n",
       "\n",
       "-- The Books table stores information about books\n",
       "-- Each book has a unique ID, a title, a price, and an author ID\n",
       "-- The ID is an auto-incrementing integer\n",
       "-- The title is a required text field\n",
       "-- The price is a real number (optional)\n",
       "-- The author ID is a foreign key referencing the Authors table\n",
       "-- The table is created with the following SQL statement\n",
       "        CREATE TABLE Books (\n",
       "            id INTEGER PRIMARY KEY AUTOINCREMENT,\n",
       "            title TEXT NOT NULL,\n",
       "            price REAL,\n",
       "            author_id INTEGER NOT NULL, FOREIGN KEY (author_id) REFERENCES Authors(id)\n",
       "        )</pre>"
      ],
      "text/plain": [
       "<IPython.core.display.HTML object>"
      ]
     },
     "metadata": {},
     "output_type": "display_data"
    }
   ],
   "source": [
    "# retrieve 2 most similar documents\n",
    "retrieved_documents = retriever.invoke(\"How many books are in the bookstore?\")\n",
    "\n",
    "# show the retrieved document's content\n",
    "for i, doc in enumerate(retrieved_documents):\n",
    "    display(HTML(f\"<pre>Document {i+1}:\\n{doc.page_content}</pre>\"))"
   ]
  }
 ],
 "metadata": {
  "kernelspec": {
   "display_name": ".venv",
   "language": "python",
   "name": "python3"
  },
  "language_info": {
   "codemirror_mode": {
    "name": "ipython",
    "version": 3
   },
   "file_extension": ".py",
   "mimetype": "text/x-python",
   "name": "python",
   "nbconvert_exporter": "python",
   "pygments_lexer": "ipython3",
   "version": "3.10.11"
  },
  "orig_nbformat": 4
 },
 "nbformat": 4,
 "nbformat_minor": 2
}
