{
 "cells": [
  {
   "cell_type": "code",
   "execution_count": 1,
   "metadata": {},
   "outputs": [
    {
     "name": "stdout",
     "output_type": "stream",
     "text": [
      "Model: gpt-4o; API Version:2024-10-21\n",
      "Azure OpenAI Chatbot is ready to use!\n"
     ]
    }
   ],
   "source": [
    "from dotenv import load_dotenv\n",
    "import openai\n",
    "import os\n",
    "from openai import AzureOpenAI\n",
    "from IPython.display import display, HTML, JSON, Markdown, Image\n",
    "\n",
    "load_dotenv()\n",
    "AZURE_OPENAI_ENDPOINT=os.getenv(\"AZURE_OPENAI_ENDPOINT\")\n",
    "AZURE_OPENAI_KEY=os.getenv(\"AZURE_OPENAI_KEY\")\n",
    "AZURE_OPENAI_API_VERSION=os.getenv(\"AZURE_OPENAI_API_VERSION\")\n",
    "AZURE_OPENAI_GPT4o_DEPLOYMENT=os.getenv(\"AZURE_OPENAI_GPT4o_DEPLOYMENT\")\n",
    "\n",
    "client = openai.AzureOpenAI(\n",
    "        azure_endpoint=AZURE_OPENAI_ENDPOINT,\n",
    "        api_key=AZURE_OPENAI_KEY,\n",
    "        api_version=AZURE_OPENAI_API_VERSION\n",
    ")\n",
    "print(f\"Model: {AZURE_OPENAI_GPT4o_DEPLOYMENT}; API Version:{AZURE_OPENAI_API_VERSION}\")\n",
    "print(\"Azure OpenAI Chatbot is ready to use!\")\n"
   ]
  },
  {
   "cell_type": "code",
   "execution_count": 2,
   "metadata": {},
   "outputs": [],
   "source": [
    "from langchain_openai import AzureChatOpenAI\n",
    "llm = AzureChatOpenAI(\n",
    "            deployment_name=AZURE_OPENAI_GPT4o_DEPLOYMENT,\n",
    "            model=AZURE_OPENAI_GPT4o_DEPLOYMENT,\n",
    "            openai_api_version=AZURE_OPENAI_API_VERSION,\n",
    "            api_key= AZURE_OPENAI_KEY,\n",
    "            azure_endpoint=AZURE_OPENAI_ENDPOINT,\n",
    "            temperature=0,\n",
    "            max_tokens=2000\n",
    "            )\n",
    "\n",
    "\n"
   ]
  },
  {
   "cell_type": "code",
   "execution_count": 3,
   "metadata": {},
   "outputs": [
    {
     "name": "stdout",
     "output_type": "stream",
     "text": [
      "filename: ./data/Best-Practices-in-Change-Management-Full-Report-Digital-11th-Edition.pdf\n",
      "Number of pages:  367\n"
     ]
    }
   ],
   "source": [
    "from langchain import PromptTemplate\n",
    "from langchain.chains.summarize import load_summarize_chain\n",
    "from langchain.document_loaders import PyPDFLoader\n",
    "\n",
    "fileName = \"./data/Best-Practices-in-Change-Management-Full-Report-Digital-11th-Edition.pdf\"\n",
    "loader = PyPDFLoader(fileName)\n",
    "pages = loader.load_and_split()\n",
    "print(f\"filename: {fileName}\")\n",
    "print(\"Number of pages: \", len(pages))"
   ]
  },
  {
   "cell_type": "markdown",
   "metadata": {},
   "source": [
    "![Upload](./images/map_reduce.png)"
   ]
  },
  {
   "cell_type": "code",
   "execution_count": 4,
   "metadata": {},
   "outputs": [],
   "source": [
    "map_prompt_template = \"\"\"\n",
    "                      Write a summary of this chunk of text that includes the main points and any important details.\n",
    "                      {text}\n",
    "                      \"\"\"\n",
    "\n",
    "map_prompt = PromptTemplate(template=map_prompt_template, input_variables=[\"text\"])\n",
    "\n",
    "combine_prompt_template = \"\"\"\n",
    "                      Write a concise summary of the following text delimited by triple backquotes.\n",
    "                      Return your response in bullet points which covers the key points of the text.\n",
    "                      ```{text}```\n",
    "                      BULLET POINT SUMMARY:\n",
    "                      \"\"\"\n",
    "\n",
    "combine_prompt = PromptTemplate(\n",
    "    template=combine_prompt_template, input_variables=[\"text\"]\n",
    ")"
   ]
  },
  {
   "cell_type": "code",
   "execution_count": 5,
   "metadata": {},
   "outputs": [],
   "source": [
    "map_reduce_chain = load_summarize_chain(\n",
    "    llm,\n",
    "    chain_type=\"map_reduce\",\n",
    "    map_prompt=map_prompt,\n",
    "    combine_prompt=combine_prompt,\n",
    "    return_intermediate_steps=True,\n",
    ")"
   ]
  },
  {
   "cell_type": "code",
   "execution_count": 6,
   "metadata": {},
   "outputs": [
    {
     "name": "stdout",
     "output_type": "stream",
     "text": [
      "Number of outputs:  3\n"
     ]
    }
   ],
   "source": [
    "# This might take some time to run. For demo purposes, limit it to 10 pages.\n",
    "map_reduce_outputs = map_reduce_chain.invoke({\"input_documents\": pages[100:110]})\n",
    "print(\"Number of outputs: \", len(map_reduce_outputs))"
   ]
  },
  {
   "cell_type": "code",
   "execution_count": 7,
   "metadata": {},
   "outputs": [
    {
     "data": {
      "text/markdown": [
       "- The text discusses the value and measurement of change management in projects, based on studies from 2013, 2015, 2016, and 2019.\n",
       "- Key benefits of change management include increased realization of project benefits, improved employee adoption, and enhanced engagement.\n",
       "- Measurement methods include post-implementation reviews, surveys, feedback, assessments, and sustainability measures.\n",
       "- Metrics for evaluating change management effectiveness include employee responses, project results, end-user adoption, and project success.\n",
       "- The 2015 study identified five primary methods for measuring effectiveness: surveys, adoption observation, feedback, assessments, and eliminated challenges.\n",
       "- In 2019, 51% of participants reported measuring change management effectiveness, using additional channels like employee surveys and industry data.\n",
       "- Best practices focus on measuring change at the individual level, using metrics like compliance, usage, attendance, and engagement.\n",
       "- Data sources for measurement include end users, stakeholders, project teams, and senior leaders, with timing varying from pre to post-project.\n",
       "- Key strategies for measuring individual progress include observation, communication, tests, performance evaluations, and surveys.\n",
       "- The 2015 study highlighted three key metrics: speed of adoption, ultimate utilization, and proficiency, with varying levels of success reported.\n",
       "- Effective change management is linked to better outcomes in speed of adoption, ultimate utilization, and proficiency.\n",
       "- Methods and metrics for measuring feedback, work output, proficiency, and ultimate utilization include interviews, performance evaluations, and compliance audits.\n",
       "- Project success is evaluated through KPIs like schedule adherence, budget, intended outcomes, and employee usage.\n",
       "- Common obstacles in change management include leadership and sponsorship issues, project management challenges, and employee resistance.\n",
       "- The text emphasizes the importance of early and structured change management methodology to enhance project success."
      ],
      "text/plain": [
       "<IPython.core.display.Markdown object>"
      ]
     },
     "metadata": {},
     "output_type": "display_data"
    }
   ],
   "source": [
    "display(Markdown(map_reduce_outputs['output_text']))"
   ]
  },
  {
   "cell_type": "code",
   "execution_count": 8,
   "metadata": {},
   "outputs": [
    {
     "data": {
      "text/html": [
       "<div>\n",
       "<style scoped>\n",
       "    .dataframe tbody tr th:only-of-type {\n",
       "        vertical-align: middle;\n",
       "    }\n",
       "\n",
       "    .dataframe tbody tr th {\n",
       "        vertical-align: top;\n",
       "    }\n",
       "\n",
       "    .dataframe thead th {\n",
       "        text-align: right;\n",
       "    }\n",
       "</style>\n",
       "<table border=\"1\" class=\"dataframe\">\n",
       "  <thead>\n",
       "    <tr style=\"text-align: right;\">\n",
       "      <th></th>\n",
       "      <th>file_name</th>\n",
       "      <th>file_type</th>\n",
       "      <th>page_number</th>\n",
       "      <th>chunks</th>\n",
       "      <th>concise_summary</th>\n",
       "    </tr>\n",
       "  </thead>\n",
       "  <tbody>\n",
       "    <tr>\n",
       "      <th>0</th>\n",
       "      <td>Best-Practices-in-Change-Management-Full-Repor...</td>\n",
       "      <td>.pdf</td>\n",
       "      <td>95</td>\n",
       "      <td>Prosci \\n®    \\nBest Practices in Change Manag...</td>\n",
       "      <td>The text discusses the value and measurement o...</td>\n",
       "    </tr>\n",
       "    <tr>\n",
       "      <th>1</th>\n",
       "      <td>Best-Practices-in-Change-Management-Full-Repor...</td>\n",
       "      <td>.pdf</td>\n",
       "      <td>96</td>\n",
       "      <td>96  •  © 2020 Prosci Inc. \\nFigure 5.9 – Measu...</td>\n",
       "      <td>The text discusses methods for measuring chang...</td>\n",
       "    </tr>\n",
       "    <tr>\n",
       "      <th>2</th>\n",
       "      <td>Best-Practices-in-Change-Management-Full-Repor...</td>\n",
       "      <td>.pdf</td>\n",
       "      <td>97</td>\n",
       "      <td>Prosci \\n®    \\nBest Practices in Change Manag...</td>\n",
       "      <td>The text discusses best practices in change ma...</td>\n",
       "    </tr>\n",
       "    <tr>\n",
       "      <th>3</th>\n",
       "      <td>Best-Practices-in-Change-Management-Full-Repor...</td>\n",
       "      <td>.pdf</td>\n",
       "      <td>98</td>\n",
       "      <td>98  •  © 2020 Prosci Inc. \\n2. Observation and...</td>\n",
       "      <td>The text outlines various methods used to meas...</td>\n",
       "    </tr>\n",
       "    <tr>\n",
       "      <th>4</th>\n",
       "      <td>Best-Practices-in-Change-Management-Full-Repor...</td>\n",
       "      <td>.pdf</td>\n",
       "      <td>99</td>\n",
       "      <td>Prosci \\n®    \\nBest Practices in Change Manag...</td>\n",
       "      <td>The text summarizes findings from a 2015 study...</td>\n",
       "    </tr>\n",
       "  </tbody>\n",
       "</table>\n",
       "</div>"
      ],
      "text/plain": [
       "                                           file_name file_type  page_number  \\\n",
       "0  Best-Practices-in-Change-Management-Full-Repor...      .pdf           95   \n",
       "1  Best-Practices-in-Change-Management-Full-Repor...      .pdf           96   \n",
       "2  Best-Practices-in-Change-Management-Full-Repor...      .pdf           97   \n",
       "3  Best-Practices-in-Change-Management-Full-Repor...      .pdf           98   \n",
       "4  Best-Practices-in-Change-Management-Full-Repor...      .pdf           99   \n",
       "\n",
       "                                              chunks  \\\n",
       "0  Prosci \\n®    \\nBest Practices in Change Manag...   \n",
       "1  96  •  © 2020 Prosci Inc. \\nFigure 5.9 – Measu...   \n",
       "2  Prosci \\n®    \\nBest Practices in Change Manag...   \n",
       "3  98  •  © 2020 Prosci Inc. \\n2. Observation and...   \n",
       "4  Prosci \\n®    \\nBest Practices in Change Manag...   \n",
       "\n",
       "                                     concise_summary  \n",
       "0  The text discusses the value and measurement o...  \n",
       "1  The text discusses methods for measuring chang...  \n",
       "2  The text discusses best practices in change ma...  \n",
       "3  The text outlines various methods used to meas...  \n",
       "4  The text summarizes findings from a 2015 study...  "
      ]
     },
     "execution_count": 8,
     "metadata": {},
     "output_type": "execute_result"
    }
   ],
   "source": [
    "import pandas as pd\n",
    "from pathlib import Path as p\n",
    "final_mp_data = []\n",
    "for doc, out in zip(map_reduce_outputs[\"input_documents\"], map_reduce_outputs[\"intermediate_steps\"]):\n",
    "    output = {}\n",
    "    output[\"file_name\"] = p(doc.metadata[\"source\"]).stem\n",
    "    output[\"file_type\"] = p(doc.metadata[\"source\"]).suffix\n",
    "    output[\"page_number\"] = doc.metadata[\"page\"]\n",
    "    output[\"chunks\"] = doc.page_content\n",
    "    output[\"concise_summary\"] = out\n",
    "    final_mp_data.append(output)\n",
    "\n",
    "pdf_mp_summary = pd.DataFrame.from_dict(final_mp_data)\n",
    "pdf_mp_summary = pdf_mp_summary.sort_values(\n",
    "    by=[\"file_name\", \"page_number\"]\n",
    ")  # sorting the dataframe by filename and page_number\n",
    "pdf_mp_summary.reset_index(inplace=True, drop=True)\n",
    "pdf_mp_summary.head()"
   ]
  },
  {
   "cell_type": "code",
   "execution_count": 9,
   "metadata": {},
   "outputs": [
    {
     "name": "stdout",
     "output_type": "stream",
     "text": [
      "[Context]\n",
      "Prosci \n",
      "®    \n",
      "Best Practices in Change Management\n",
      "© 2020 Prosci Inc.  •  101\n",
      "3. Feedback and observation  \n",
      "Participants collected feedback through interviews, \n",
      "focus groups and one-on-one conversations. \n",
      "Feedback was collected from key individuals \n",
      "including employees, managers, clients and change \n",
      "network members. Participants also gauged ultimate \n",
      "use by observing and monitoring employees in the \n",
      "new state.\n",
      "4. Work output and performance \n",
      "Identified less than half as often as the previous \n",
      "finding, employee performance and output also \n",
      "determined ultimate use. Performance evaluations, \n",
      "project goals and updated key performance \n",
      "indicators (KPIs) were used. The quality and quantity \n",
      "of work output was also evaluated to determine how \n",
      "many employees were using the solution.\n",
      "5. Timeline and process completion \n",
      "Participants tracked timeline, process and task \n",
      "completion often using checklists. Some said the time \n",
      "it took for employees to become efficient using a new \n",
      "solution contributed to ultimate use measurement.  \n",
      "Measuring Proficiency\n",
      "Source date: 2016\n",
      "Participants who measured proficiency used the \n",
      "following methods and metrics.\n",
      "1. Work output and performance \n",
      "Participants analyzed the quantity and quality of \n",
      "employees’ work output to determine proficiency. \n",
      "Productivity and quality measures were taken \n",
      "before and after implementation for comparison. \n",
      "Participants tracked and rated employees’ \n",
      "performance in the new state. Percent completion of \n",
      "specific job tasks and speed of execution were used \n",
      "as performance indicators. Performance evaluations \n",
      "were also used to measure proficiency. Work \n",
      "performance was compared with established key \n",
      "performance indicators (KPIs).\n",
      "2. Surveys and assessments \n",
      "Surveys were used to gauge employee satisfaction \n",
      "and confidence in operating with a new \n",
      "solution. Assessments were given to impacted \n",
      "groups to analyze skills and abilities, assess \n",
      "4. Observation and feedback  \n",
      "Participants observed employees to understand \n",
      "attitudes, behaviors and willingness to adopt \n",
      "change. Special attention was given to demonstrated \n",
      "engagement. Sometimes managers were tasked \n",
      "with observing employees and reporting to change \n",
      "practitioners. Feedback was also collected from \n",
      "employees, managers, change agents, senior leaders \n",
      "and clients to gauge speed of adoption. Interviews, \n",
      "one-on-one conversations, focus groups and \n",
      "Question and Answer (Q&A) sessions were some of \n",
      "the feedback channels used. \n",
      "Other methods or metrics included performance \n",
      "evaluations, compliance reports, audits, error tracking \n",
      "and issues raised to support groups or help desks. \n",
      "Measuring Ultimate Utilization\n",
      "Source date: 2016\n",
      "The 39% of participants who measured ultimate \n",
      "utilization used the following methods and metrics:\n",
      "1. Compliance and use \n",
      "Compliance was measured through process audits \n",
      "and compliance reporting. Participants also \n",
      "measured use based on the number of employees \n",
      "logging into new systems, completing new \n",
      "processes, and downloading and uploading new \n",
      "documents. Participants tracked use before and \n",
      "after implementation by comparing the number \n",
      "of employees using the new solution to the total \n",
      "impacted by the change. Others gauged use by \n",
      "monitoring workarounds, and how many employees \n",
      "were reverting to the old ways of doing things.\n",
      "2. Surveys and assessments \n",
      "As a method to measure ultimate use, participants \n",
      "delivered surveys and assessments to impacted \n",
      "employees. These tools were aimed at revealing \n",
      "productivity, readiness, user acceptance and \n",
      "employee satisfaction. Participants also focused  \n",
      "on surveying managers to collect information  \n",
      "about their direct reports. Assessments were  \n",
      "given to determine employees’ knowledge and  \n",
      "skills. Specific assessments included processes,  \n",
      "post-implementation and staff capacity assessments.\n"
     ]
    }
   ],
   "source": [
    "index = 6\n",
    "print(\"[Context]\")\n",
    "print(pdf_mp_summary[\"chunks\"].iloc[index])"
   ]
  },
  {
   "cell_type": "code",
   "execution_count": 10,
   "metadata": {},
   "outputs": [
    {
     "name": "stdout",
     "output_type": "stream",
     "text": [
      "\n",
      "\n",
      " [Simple Summary]\n",
      "The text outlines methods and metrics used in change management to measure feedback, work output, proficiency, and ultimate utilization. Feedback was gathered through interviews, focus groups, and observations from employees, managers, clients, and change network members. Work output and performance were assessed using performance evaluations, project goals, and key performance indicators (KPIs). Timeline and process completion were tracked using checklists to measure efficiency in adopting new solutions. Proficiency was measured by analyzing work output, conducting surveys and assessments, and observing employee engagement. Ultimate utilization was measured through compliance audits, system usage tracking, and surveys to assess productivity, readiness, and user acceptance. Compliance was also gauged by monitoring workarounds and the extent of reverting to old practices.\n",
      "\n",
      "\n",
      " [Page number]\n",
      "101\n",
      "\n",
      "\n",
      " [Source: file_name]\n",
      "Best-Practices-in-Change-Management-Full-Report-Digital-11th-Edition\n"
     ]
    }
   ],
   "source": [
    "print(\"\\n\\n [Simple Summary]\")\n",
    "print(pdf_mp_summary[\"concise_summary\"].iloc[index])\n",
    "print(\"\\n\\n [Page number]\")\n",
    "print(pdf_mp_summary[\"page_number\"].iloc[index])\n",
    "print(\"\\n\\n [Source: file_name]\")\n",
    "print(pdf_mp_summary[\"file_name\"].iloc[index])"
   ]
  }
 ],
 "metadata": {
  "kernelspec": {
   "display_name": "venv",
   "language": "python",
   "name": "python3"
  },
  "language_info": {
   "codemirror_mode": {
    "name": "ipython",
    "version": 3
   },
   "file_extension": ".py",
   "mimetype": "text/x-python",
   "name": "python",
   "nbconvert_exporter": "python",
   "pygments_lexer": "ipython3",
   "version": "3.12.9"
  },
  "orig_nbformat": 4
 },
 "nbformat": 4,
 "nbformat_minor": 2
}
