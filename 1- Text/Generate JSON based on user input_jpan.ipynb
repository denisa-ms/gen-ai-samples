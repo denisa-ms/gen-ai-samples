{
 "cells": [
  {
   "cell_type": "code",
   "execution_count": 6,
   "metadata": {},
   "outputs": [
    {
     "name": "stdout",
     "output_type": "stream",
     "text": [
      "Model: gpt-4o; API Version:2024-10-21\n",
      "Azure OpenAI Chatbot is ready to use!\n"
     ]
    }
   ],
   "source": [
    "from dotenv import load_dotenv\n",
    "import openai\n",
    "import os\n",
    "from openai import AzureOpenAI\n",
    "from IPython.display import display, HTML, JSON, Markdown, Image\n",
    "\n",
    "load_dotenv()\n",
    "AZURE_OPENAI_ENDPOINT=os.getenv(\"AISTUDIO_AZURE_OPENAI_ENDPOINT\")\n",
    "AZURE_OPENAI_GPT4o_DEPLOYMENT=os.getenv(\"AISTUDIO_AZURE_OPENAI_GPT4o_DEPLOYMENT\")\n",
    "AZURE_OPENAI_API_VERSION=os.getenv(\"AISTUDIO_AZURE_OPENAI_API_VERSION\")\n",
    "AZURE_OPENAI_KEY=os.getenv(\"AISTUDIO_AZURE_OPENAI_KEY\")\n",
    "\n",
    "client = openai.AzureOpenAI(\n",
    "        azure_endpoint=AZURE_OPENAI_ENDPOINT,\n",
    "        api_key=AZURE_OPENAI_KEY,\n",
    "        api_version=AZURE_OPENAI_API_VERSION\n",
    ")\n",
    "\n",
    "print(f\"Model: {AZURE_OPENAI_GPT4o_DEPLOYMENT}; API Version:{AZURE_OPENAI_API_VERSION}\")\n",
    "print(\"Azure OpenAI Chatbot is ready to use!\")"
   ]
  },
  {
   "cell_type": "code",
   "execution_count": 2,
   "metadata": {},
   "outputs": [],
   "source": [
    "def call_openAI(text):\n",
    "    system_message = \"\"\"\n",
    "    You are an assistant designed to extract entities from a user question. \n",
    "    Users will paste in a string of text and you will respond with entities you have extracted from the text as a JSON object.\n",
    "    Here is an example of your output format:{moods:[],instruments:[],genres:[]}\n",
    "    \"\"\"\n",
    "\n",
    "    response = client.chat.completions.create(\n",
    "        model=AZURE_OPENAI_GPT4o_DEPLOYMENT,\n",
    "        messages = [\n",
    "            {\"role\":\"system\",\"content\":system_message},\n",
    "            {\"role\":\"user\",\"content\":text}\n",
    "            ],\n",
    "        temperature=0.7,\n",
    "        max_tokens=800,\n",
    "        top_p=0.95,\n",
    "        frequency_penalty=0,\n",
    "        presence_penalty=0,\n",
    "        stop=None\n",
    "    )\n",
    "\n",
    "    return response.choices[0].message.content\n"
   ]
  },
  {
   "cell_type": "code",
   "execution_count": 3,
   "metadata": {},
   "outputs": [
    {
     "data": {
      "text/html": [
       "{moods:[\"happy\"],instruments:[\"guitar\", \"piano\"],genres:[]}"
      ],
      "text/plain": [
       "<IPython.core.display.HTML object>"
      ]
     },
     "metadata": {},
     "output_type": "display_data"
    }
   ],
   "source": [
    "query =  \"I would like to find music for guitar or piano, for a happy mood\"\n",
    "answer = call_openAI(query)\n",
    "display(HTML(answer))"
   ]
  },
  {
   "cell_type": "code",
   "execution_count": 4,
   "metadata": {},
   "outputs": [
    {
     "data": {
      "text/html": [
       "{moods:[\"pumped\"],instruments:[\"guitar\"],genres:[\"metal\"]}"
      ],
      "text/plain": [
       "<IPython.core.display.HTML object>"
      ]
     },
     "metadata": {},
     "output_type": "display_data"
    }
   ],
   "source": [
    "query =  \"I'm pumped for some metal MAN!! Need those guitar riffs in my blood!\"\n",
    "answer = call_openAI(query)\n",
    "display(HTML(answer))"
   ]
  },
  {
   "cell_type": "code",
   "execution_count": 5,
   "metadata": {},
   "outputs": [
    {
     "data": {
      "text/html": [
       "{moods:[\"relaxar\"],instruments:[],genres:[\"jazz\"]}"
      ],
      "text/plain": [
       "<IPython.core.display.HTML object>"
      ]
     },
     "metadata": {},
     "output_type": "display_data"
    }
   ],
   "source": [
    "query =  \"Preciso de ir relaxar um pouco a ouvir jazz.\"\n",
    "answer = call_openAI(query)\n",
    "display(HTML(answer))"
   ]
  }
 ],
 "metadata": {
  "kernelspec": {
   "display_name": "venv",
   "language": "python",
   "name": "python3"
  },
  "language_info": {
   "codemirror_mode": {
    "name": "ipython",
    "version": 3
   },
   "file_extension": ".py",
   "mimetype": "text/x-python",
   "name": "python",
   "nbconvert_exporter": "python",
   "pygments_lexer": "ipython3",
   "version": "3.12.9"
  },
  "orig_nbformat": 4
 },
 "nbformat": 4,
 "nbformat_minor": 2
}
