{
 "cells": [
  {
   "cell_type": "code",
   "execution_count": 1,
   "metadata": {},
   "outputs": [],
   "source": [
    "from dotenv import load_dotenv\n",
    "import openai\n",
    "import os\n",
    "from openai import AzureOpenAI\n",
    "from IPython.display import display, HTML, JSON, Markdown, Image\n",
    "\n",
    "load_dotenv()\n",
    "AZURE_OPENAI_ENDPOINT=os.getenv(\"AISTUDIO_AZURE_OPENAI_ENDPOINT\")\n",
    "AZURE_OPENAI_GPT4o_DEPLOYMENT=os.getenv(\"AI_STUDIO_AZURE_OPENAI_GPT4o_DEPLOYMENT\")\n",
    "AZURE_OPENAI_API_VERSION=\"2024-02-01\"\n",
    "AZURE_OPENAI_KEY=os.getenv(\"AISTUDIO_AZURE_OPENAI_KEY\")\n",
    "\n",
    "client = openai.AzureOpenAI(\n",
    "        azure_endpoint=AZURE_OPENAI_ENDPOINT,\n",
    "        api_key=AZURE_OPENAI_KEY,\n",
    "        api_version=AZURE_OPENAI_API_VERSION\n",
    ")"
   ]
  },
  {
   "cell_type": "code",
   "execution_count": 8,
   "metadata": {},
   "outputs": [],
   "source": [
    "def call_openAI(text):\n",
    "    system_message = \"\"\"\n",
    "    You are an assistant designed to understand a user question. \n",
    "    You will respond with entities you have extracted from the text as a JSON object.\n",
    "    {question_language:<language>,question_subject:<one of the options>}\n",
    "    Question subjects can be one of the following ONLY:\n",
    "    option1: question about the status of a parcel\n",
    "    option2: question about the status of a refund\n",
    "    option3: question about the status of a return\n",
    "    option4: question about the status of a complaint\n",
    "    option5: question about the status of a product\n",
    "    option6: question about the taxes to pay\n",
    "    option7: question about the location of a parcel\n",
    "\n",
    "    If the user question does not match any of the options, you will respond with:\n",
    "    {question_language:<language>,question_subject:option99}\n",
    "\n",
    "    Here is an example of your output format:\n",
    "    user question: \"¿Dónde está mi paquete?\"\n",
    "    assistant output:\n",
    "    {question_language:spanish,question_subject:option7}\n",
    "    Here is another example:\n",
    "    user question: \"What is the status of the refund?\"\n",
    "    assistant output:   \n",
    "    {question_language:english,question_subject:option2}\n",
    "    \"\"\"\n",
    "\n",
    "    response = client.chat.completions.create(\n",
    "        model=AZURE_OPENAI_GPT4o_DEPLOYMENT,\n",
    "        messages = [\n",
    "            {\"role\":\"system\",\"content\":system_message},\n",
    "            {\"role\":\"user\",\"content\":text}\n",
    "            ],\n",
    "        temperature=0,\n",
    "    )\n",
    "\n",
    "    return response.choices[0].message.content\n"
   ]
  },
  {
   "cell_type": "code",
   "execution_count": 9,
   "metadata": {},
   "outputs": [
    {
     "data": {
      "text/html": [
       "{question_language:spanish,question_subject:option7}"
      ],
      "text/plain": [
       "<IPython.core.display.HTML object>"
      ]
     },
     "metadata": {},
     "output_type": "display_data"
    }
   ],
   "source": [
    "query =  \"¿Dónde está mi paquete?\"\n",
    "answer = call_openAI(query)\n",
    "display(HTML(answer))"
   ]
  },
  {
   "cell_type": "code",
   "execution_count": 10,
   "metadata": {},
   "outputs": [
    {
     "data": {
      "text/html": [
       "{question_language:english,question_subject:option2}"
      ],
      "text/plain": [
       "<IPython.core.display.HTML object>"
      ]
     },
     "metadata": {},
     "output_type": "display_data"
    }
   ],
   "source": [
    "query =  \"I wamt to know the status of my refund\"\n",
    "answer = call_openAI(query)\n",
    "display(HTML(answer))"
   ]
  },
  {
   "cell_type": "code",
   "execution_count": 11,
   "metadata": {},
   "outputs": [
    {
     "data": {
      "text/html": [
       "{question_language:portuguese,question_subject:option6}"
      ],
      "text/plain": [
       "<IPython.core.display.HTML object>"
      ]
     },
     "metadata": {},
     "output_type": "display_data"
    }
   ],
   "source": [
    "query =  \"quais são os impostos a pagar pela minha encomenda\"\n",
    "answer = call_openAI(query)\n",
    "display(HTML(answer))"
   ]
  }
 ],
 "metadata": {
  "kernelspec": {
   "display_name": ".venv",
   "language": "python",
   "name": "python3"
  },
  "language_info": {
   "codemirror_mode": {
    "name": "ipython",
    "version": 3
   },
   "file_extension": ".py",
   "mimetype": "text/x-python",
   "name": "python",
   "nbconvert_exporter": "python",
   "pygments_lexer": "ipython3",
   "version": "3.10.11"
  },
  "orig_nbformat": 4
 },
 "nbformat": 4,
 "nbformat_minor": 2
}
