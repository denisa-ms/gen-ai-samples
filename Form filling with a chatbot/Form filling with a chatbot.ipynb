{
 "cells": [
  {
   "cell_type": "markdown",
   "metadata": {
    "id": "RwyDfYSkfx9U"
   },
   "source": [
    "# Making a Conversational Form"
   ]
  },
  {
   "cell_type": "markdown",
   "metadata": {
    "id": "HqwsGJDhvAQ5"
   },
   "source": [
    "### Setting up Conversation Filtering\n",
    "\n"
   ]
  },
  {
   "cell_type": "code",
   "execution_count": 2,
   "metadata": {},
   "outputs": [],
   "source": [
    "from langchain_openai import AzureChatOpenAI\n",
    "from dotenv import load_dotenv\n",
    "import os\n",
    "from typing import Optional\n",
    "from pydantic import BaseModel, Field\n",
    "\n",
    "load_dotenv()\n",
    "\n",
    "llm = AzureChatOpenAI(\n",
    "    azure_endpoint=os.getenv(\"AISTUDIO_AZURE_OPENAI_ENDPOINT\"),\n",
    "    azure_deployment=os.getenv(\"AI_STUDIO_AZURE_OPENAI_GPT4o_DEPLOYMENT\"),\n",
    "    openai_api_version=\"2024-02-01\",\n",
    "    api_key=os.getenv(\"AISTUDIO_AZURE_OPENAI_KEY\")\n",
    ")"
   ]
  },
  {
   "cell_type": "code",
   "execution_count": 41,
   "metadata": {
    "id": "76DeeTs1Jqli"
   },
   "outputs": [],
   "source": [
    "class PersonalDetails(BaseModel):\n",
    "    first_name: str = Field(\n",
    "        ...,\n",
    "        description=\"This is the first name of the user.\",\n",
    "    )\n",
    "    last_name: str = Field(\n",
    "        ...,\n",
    "        description=\"This is the last name or surname of the user.\",\n",
    "    )\n",
    "    full_name: str = Field(\n",
    "        ...,\n",
    "        description=\"Is the full name of the user \",\n",
    "    )\n",
    "    phone_nr: str = Field(\n",
    "        ...,\n",
    "        description=\"Is the phone number of the user \",\n",
    "    )\n",
    "    city: str = Field(\n",
    "        ...,\n",
    "        description=\"The name of the city where someone lives\",\n",
    "    )\n",
    "    email: str = Field(\n",
    "        ...,\n",
    "        description=\"an email address that the person associates as theirs\",\n",
    "    )\n",
    "    language: str = Field(\n",
    "        ..., enum=[\"spanish\", \"english\", \"french\", \"german\", \"italian\"]\n",
    "    )\n",
    "structured_llm = llm.with_structured_output(PersonalDetails)\n"
   ]
  },
  {
   "cell_type": "code",
   "execution_count": 42,
   "metadata": {
    "id": "c5H6PmOQpWOa"
   },
   "outputs": [
    {
     "data": {
      "text/plain": [
       "PersonalDetails(first_name='David', last_name='Jones', full_name='David Jones', phone_nr='', city='Melbourne', email='', language='english')"
      ]
     },
     "execution_count": 42,
     "metadata": {},
     "output_type": "execute_result"
    }
   ],
   "source": [
    "structured_llm.invoke(\"Hi my name is David Jones and I live in Melbourne Australia.\")"
   ]
  },
  {
   "cell_type": "code",
   "execution_count": 43,
   "metadata": {
    "id": "FSQTCd1LKEa6"
   },
   "outputs": [
    {
     "name": "stdout",
     "output_type": "stream",
     "text": [
      "first_name='Chatree' last_name='Kongsuwan' full_name='Chatree Kongsuwan' phone_nr='' city='Bangkok' email='chatree@gmail.com' language='english'\n",
      "chatree@gmail.com\n"
     ]
    }
   ],
   "source": [
    "res = structured_llm.invoke(\"Hi my name is Chatree Kongsuwan  and I live in Bangkok. you can contact me at chatree@gmail.com\")\n",
    "print(res)\n",
    "print(res.email)"
   ]
  },
  {
   "cell_type": "markdown",
   "metadata": {
    "id": "SmVukHs6NJak"
   },
   "source": [
    "## Doing the full thing in a natural conversation"
   ]
  },
  {
   "cell_type": "code",
   "execution_count": 45,
   "metadata": {
    "id": "Gh5cNlpNNNdp"
   },
   "outputs": [],
   "source": [
    "user_123_personal_details = PersonalDetails(first_name=\"\",\n",
    "                                last_name=\"\",\n",
    "                                full_name=\"\",\n",
    "                                phone_nr=\"\",\n",
    "                                city=\"\",\n",
    "                                email=\"\",\n",
    "                                language=\"\")"
   ]
  },
  {
   "cell_type": "code",
   "execution_count": 46,
   "metadata": {
    "colab": {
     "base_uri": "https://localhost:8080/"
    },
    "id": "mmIjQAWGNoDN",
    "outputId": "85f25332-5d57-45b7-a47a-cd0fe001d8b5"
   },
   "outputs": [
    {
     "data": {
      "text/plain": [
       "PersonalDetails(first_name='', last_name='', full_name='', phone_nr='', city='', email='', language='')"
      ]
     },
     "execution_count": 46,
     "metadata": {},
     "output_type": "execute_result"
    }
   ],
   "source": [
    "user_123_personal_details"
   ]
  },
  {
   "cell_type": "code",
   "execution_count": 47,
   "metadata": {
    "id": "QBre-nGGOHtf"
   },
   "outputs": [],
   "source": [
    "def check_what_is_empty(user_personal_details):\n",
    "    ask_for = []\n",
    "    # Check if fields are empty\n",
    "    dictionary = user_personal_details.model_dump(exclude_unset=True)\n",
    "    # check if the field is empty\n",
    "    for field, value in dictionary.items():\n",
    "        if value in [None, \"\", 0]:  # You can add other 'empty' conditions as per your requirements\n",
    "            print(f\"Field '{field}' is empty.\")\n",
    "            ask_for.append(f'{field}')\n",
    "    return ask_for"
   ]
  },
  {
   "cell_type": "code",
   "execution_count": 48,
   "metadata": {
    "colab": {
     "base_uri": "https://localhost:8080/"
    },
    "id": "a5tKKXQTOhFc",
    "outputId": "cb518de2-c052-41c1-a93d-c4f60df00bbe"
   },
   "outputs": [
    {
     "name": "stdout",
     "output_type": "stream",
     "text": [
      "Field 'first_name' is empty.\n",
      "Field 'last_name' is empty.\n",
      "Field 'full_name' is empty.\n",
      "Field 'phone_nr' is empty.\n",
      "Field 'city' is empty.\n",
      "Field 'email' is empty.\n",
      "Field 'language' is empty.\n"
     ]
    },
    {
     "data": {
      "text/plain": [
       "['first_name',\n",
       " 'last_name',\n",
       " 'full_name',\n",
       " 'phone_nr',\n",
       " 'city',\n",
       " 'email',\n",
       " 'language']"
      ]
     },
     "execution_count": 48,
     "metadata": {},
     "output_type": "execute_result"
    }
   ],
   "source": [
    "ask_for = check_what_is_empty(user_123_personal_details)\n",
    "ask_for"
   ]
  },
  {
   "cell_type": "code",
   "execution_count": 49,
   "metadata": {
    "id": "kUJYH-KJQb8h"
   },
   "outputs": [],
   "source": [
    "## checking the response and adding it\n",
    "def add_non_empty_details(current_details: PersonalDetails, new_details: PersonalDetails):\n",
    "    new_dict = new_details.model_dump(exclude_unset=True)\n",
    "    non_empty_details = {k: v for k, v in new_dict.items() if v not in [None, \"\"]}\n",
    "    updated_details = current_details.model_copy(update=non_empty_details)\n",
    "    return updated_details"
   ]
  },
  {
   "cell_type": "code",
   "execution_count": 50,
   "metadata": {
    "id": "P3LBHBhQPIQZ"
   },
   "outputs": [
    {
     "data": {
      "text/plain": [
       "PersonalDetails(first_name='Chatree', last_name='Kongsuwan', full_name='Chatree Kongsuwan', phone_nr='', city='Bangkok', email='chatree@gmail.com', language='english')"
      ]
     },
     "execution_count": 50,
     "metadata": {},
     "output_type": "execute_result"
    }
   ],
   "source": [
    "user_123_personal_details = add_non_empty_details(user_123_personal_details,res)\n",
    "user_123_personal_details"
   ]
  },
  {
   "cell_type": "code",
   "execution_count": 53,
   "metadata": {
    "id": "rNPMWCFxPITz"
   },
   "outputs": [
    {
     "name": "stdout",
     "output_type": "stream",
     "text": [
      "first_name='' last_name='' full_name='' phone_nr='123456789' city='' email='' language='english'\n",
      "\n"
     ]
    }
   ],
   "source": [
    "#adding more information based on the response\n",
    "res = structured_llm.invoke(\"My phone number is 123456789\")\n",
    "print(res)\n",
    "print(res.email)"
   ]
  },
  {
   "cell_type": "code",
   "execution_count": 52,
   "metadata": {},
   "outputs": [
    {
     "data": {
      "text/plain": [
       "PersonalDetails(first_name='John', last_name='Doe', full_name='John Doe', phone_nr='123456789', city='New York', email='john.doe@example.com', language='english')"
      ]
     },
     "execution_count": 52,
     "metadata": {},
     "output_type": "execute_result"
    }
   ],
   "source": [
    "user_123_personal_details = add_non_empty_details(user_123_personal_details,res)\n",
    "user_123_personal_details"
   ]
  },
  {
   "cell_type": "markdown",
   "metadata": {
    "id": "3S_WzUO0yVWY"
   },
   "source": [
    "## Putting it together with a LLMChain as well\n"
   ]
  },
  {
   "cell_type": "code",
   "execution_count": 54,
   "metadata": {
    "id": "aE0oO-7mrmCr"
   },
   "outputs": [],
   "source": [
    "from langchain.chains import TransformChain, LLMChain, SimpleSequentialChain\n",
    "from langchain.prompts import PromptTemplate, ChatPromptTemplate"
   ]
  },
  {
   "cell_type": "code",
   "execution_count": 55,
   "metadata": {
    "id": "qygsMN8cznUy"
   },
   "outputs": [],
   "source": [
    "user_123_personal_details = PersonalDetails(first_name=\"\",\n",
    "                                last_name=\"\",\n",
    "                                full_name=\"\",\n",
    "                                phone_nr=\"\",\n",
    "                                city=\"\",\n",
    "                                email=\"\",\n",
    "                                language=\"\")"
   ]
  },
  {
   "cell_type": "code",
   "execution_count": 56,
   "metadata": {
    "colab": {
     "base_uri": "https://localhost:8080/"
    },
    "id": "zpr5lFJtznVB",
    "outputId": "76bcff09-83c8-440b-8c19-445a05708ed5"
   },
   "outputs": [
    {
     "data": {
      "text/plain": [
       "PersonalDetails(first_name='', last_name='', full_name='', phone_nr='', city='', email='', language='')"
      ]
     },
     "execution_count": 56,
     "metadata": {},
     "output_type": "execute_result"
    }
   ],
   "source": [
    "user_123_personal_details"
   ]
  },
  {
   "cell_type": "code",
   "execution_count": 86,
   "metadata": {
    "id": "jaLij6mBs4cs"
   },
   "outputs": [],
   "source": [
    "def ask_for_info(ask_for = ['name','age', 'location']):\n",
    "\n",
    "    # prompt template 1\n",
    "    first_prompt = ChatPromptTemplate.from_template(\n",
    "        \"Below is are some things to ask the user for in a coversation way. you should only ask one question at a time even if you don't get all the info \\\n",
    "        don't ask as a list! Don't greet the user! Don't say Hi.Explain you need to get some info. If the ask_for list is empty then thank them and ask how you can help them \\n\\n \\\n",
    "        ### ask_for list: {ask_for}\"\n",
    "    )\n",
    "    # info_gathering_chain\n",
    "    info_gathering_chain = first_prompt | structured_llm\n",
    "    ai_chat = info_gathering_chain.invoke({\"ask_for\": ask_for})\n",
    "    return ai_chat\n"
   ]
  },
  {
   "cell_type": "code",
   "execution_count": 87,
   "metadata": {
    "colab": {
     "base_uri": "https://localhost:8080/",
     "height": 35
    },
    "id": "fuJ7Cf_aW8qr",
    "outputId": "72e7605e-d73d-4fc7-fae3-26ee475dd21d"
   },
   "outputs": [
    {
     "data": {
      "text/plain": [
       "PersonalDetails(first_name='John', last_name='Doe', full_name='John Doe', phone_nr='123-456-7890', city='New York', email='johndoe@example.com', language='english')"
      ]
     },
     "execution_count": 87,
     "metadata": {},
     "output_type": "execute_result"
    }
   ],
   "source": [
    "ask_for_info()"
   ]
  },
  {
   "cell_type": "code",
   "execution_count": null,
   "metadata": {},
   "outputs": [],
   "source": [
    "text_input =\"ok My name is Sam\"\n",
    "user_details, ask_for = filter_response(text_input, user_123_personal_details)"
   ]
  },
  {
   "cell_type": "code",
   "execution_count": 89,
   "metadata": {},
   "outputs": [
    {
     "data": {
      "text/plain": [
       "'Carrots are most commonly orange, but they can also be found in a variety of other colors including purple, yellow, red, and white. These different colors are due to variations in pigments such as beta-carotene (which gives the orange color), anthocyanins (which give purple and red colors), and other compounds. Each color can have slightly different nutritional properties and flavors.'"
      ]
     },
     "execution_count": 89,
     "metadata": {},
     "output_type": "execute_result"
    }
   ],
   "source": [
    "from operator import itemgetter\n",
    "from typing import Literal\n",
    "from typing_extensions import TypedDict\n",
    "\n",
    "from langchain_core.output_parsers import StrOutputParser\n",
    "from langchain_core.prompts import ChatPromptTemplate\n",
    "from langchain_core.runnables import RunnableLambda, RunnablePassthrough\n",
    "from langchain_openai import ChatOpenAI\n",
    "\n",
    "\n",
    "prompt_1 = ChatPromptTemplate.from_messages(\n",
    "    [\n",
    "        (\"system\", \"You are an expert on animals.\"),\n",
    "        (\"human\", \"{query}\"),\n",
    "    ]\n",
    ")\n",
    "prompt_2 = ChatPromptTemplate.from_messages(\n",
    "    [\n",
    "        (\"system\", \"You are an expert on vegetables.\"),\n",
    "        (\"human\", \"{query}\"),\n",
    "    ]\n",
    ")\n",
    "\n",
    "chain_1 = prompt_1 | llm | StrOutputParser()\n",
    "chain_2 = prompt_2 | llm | StrOutputParser()\n",
    "\n",
    "route_system = \"Route the user's query to either the animal or vegetable expert.\"\n",
    "route_prompt = ChatPromptTemplate.from_messages(\n",
    "    [\n",
    "        (\"system\", route_system),\n",
    "        (\"human\", \"{query}\"),\n",
    "    ]\n",
    ")\n",
    "\n",
    "\n",
    "class RouteQuery(TypedDict):\n",
    "    \"\"\"Route query to destination.\"\"\"\n",
    "    destination: Literal[\"animal\", \"vegetable\"]\n",
    "\n",
    "\n",
    "route_chain = (\n",
    "    route_prompt\n",
    "    | llm.with_structured_output(RouteQuery)\n",
    "    | itemgetter(\"destination\")\n",
    ")\n",
    "\n",
    "chain = {\n",
    "    \"destination\": route_chain,  # \"animal\" or \"vegetable\"\n",
    "    \"query\": lambda x: x[\"query\"],  # pass through input query\n",
    "} | RunnableLambda(\n",
    "    # if animal, chain_1. otherwise, chain_2.\n",
    "    lambda x: chain_1 if x[\"destination\"] == \"animal\" else chain_2,\n",
    ")\n",
    "\n",
    "chain.invoke({\"query\": \"what color are carrots\"})"
   ]
  }
 ],
 "metadata": {
  "colab": {
   "provenance": []
  },
  "kernelspec": {
   "display_name": ".venv",
   "language": "python",
   "name": "python3"
  },
  "language_info": {
   "codemirror_mode": {
    "name": "ipython",
    "version": 3
   },
   "file_extension": ".py",
   "mimetype": "text/x-python",
   "name": "python",
   "nbconvert_exporter": "python",
   "pygments_lexer": "ipython3",
   "version": "3.10.11"
  }
 },
 "nbformat": 4,
 "nbformat_minor": 0
}
