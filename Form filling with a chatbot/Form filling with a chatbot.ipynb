{
 "cells": [
  {
   "cell_type": "markdown",
   "metadata": {
    "id": "RwyDfYSkfx9U"
   },
   "source": [
    "# Making a Conversational Form"
   ]
  },
  {
   "cell_type": "markdown",
   "metadata": {
    "id": "HqwsGJDhvAQ5"
   },
   "source": [
    "### Setting up Conversation Filtering\n",
    "\n"
   ]
  },
  {
   "cell_type": "code",
   "execution_count": 1,
   "metadata": {},
   "outputs": [],
   "source": [
    "from langchain_openai import AzureChatOpenAI\n",
    "from dotenv import load_dotenv\n",
    "import os\n",
    "from typing import Optional\n",
    "from pydantic import BaseModel, Field\n",
    "\n",
    "load_dotenv()\n",
    "\n",
    "llm = AzureChatOpenAI(\n",
    "    azure_endpoint=os.getenv(\"AISTUDIO_AZURE_OPENAI_ENDPOINT\"),\n",
    "    azure_deployment=os.getenv(\"AI_STUDIO_AZURE_OPENAI_GPT4o_DEPLOYMENT\"),\n",
    "    openai_api_version=\"2024-02-01\",\n",
    "    api_key=os.getenv(\"AISTUDIO_AZURE_OPENAI_KEY\")\n",
    ")"
   ]
  },
  {
   "cell_type": "code",
   "execution_count": 2,
   "metadata": {
    "id": "76DeeTs1Jqli"
   },
   "outputs": [],
   "source": [
    "class PersonalDetails(BaseModel):\n",
    "    first_name: str = Field(\n",
    "        ...,\n",
    "        description=\"This is the first name of the user.\",\n",
    "    )\n",
    "    last_name: str = Field(\n",
    "        ...,\n",
    "        description=\"This is the last name or surname of the user.\",\n",
    "    )\n",
    "    full_name: str = Field(\n",
    "        ...,\n",
    "        description=\"Is the full name of the user \",\n",
    "    )\n",
    "    phone_nr: str = Field(\n",
    "        ...,\n",
    "        description=\"Is the phone number of the user \",\n",
    "    )\n",
    "    city: str = Field(\n",
    "        ...,\n",
    "        description=\"The name of the city where someone lives\",\n",
    "    )\n",
    "    email: str = Field(\n",
    "        ...,\n",
    "        description=\"an email address that the person associates as theirs\",\n",
    "    )\n",
    "    language: str = Field(\n",
    "        ..., enum=[\"spanish\", \"english\", \"french\", \"german\", \"italian\"]\n",
    "    )\n",
    "structured_llm = llm.with_structured_output(PersonalDetails)\n"
   ]
  },
  {
   "cell_type": "code",
   "execution_count": 3,
   "metadata": {
    "id": "c5H6PmOQpWOa"
   },
   "outputs": [
    {
     "data": {
      "text/plain": [
       "PersonalDetails(first_name='David', last_name='Jones', full_name='David Jones', phone_nr='', city='Melbourne', email='', language='english')"
      ]
     },
     "execution_count": 3,
     "metadata": {},
     "output_type": "execute_result"
    }
   ],
   "source": [
    "structured_llm.invoke(\"Hi my name is David Jones and I live in Melbourne Australia.\")"
   ]
  },
  {
   "cell_type": "code",
   "execution_count": 4,
   "metadata": {
    "id": "FSQTCd1LKEa6"
   },
   "outputs": [
    {
     "name": "stdout",
     "output_type": "stream",
     "text": [
      "first_name='Chatree' last_name='Kongsuwan' full_name='Chatree Kongsuwan' phone_nr='' city='Bangkok' email='chatree@gmail.com' language='english'\n",
      "chatree@gmail.com\n"
     ]
    }
   ],
   "source": [
    "res = structured_llm.invoke(\"Hi my name is Chatree Kongsuwan  and I live in Bangkok. you can contact me at chatree@gmail.com\")\n",
    "print(res)\n",
    "print(res.email)"
   ]
  },
  {
   "cell_type": "markdown",
   "metadata": {
    "id": "SmVukHs6NJak"
   },
   "source": [
    "## Filling gradually"
   ]
  },
  {
   "cell_type": "code",
   "execution_count": 5,
   "metadata": {
    "id": "Gh5cNlpNNNdp"
   },
   "outputs": [],
   "source": [
    "user_personal_details = PersonalDetails(first_name=\"\",\n",
    "                                last_name=\"\",\n",
    "                                full_name=\"\",\n",
    "                                phone_nr=\"\",\n",
    "                                city=\"\",\n",
    "                                email=\"\",\n",
    "                                language=\"\")"
   ]
  },
  {
   "cell_type": "code",
   "execution_count": 6,
   "metadata": {
    "colab": {
     "base_uri": "https://localhost:8080/"
    },
    "id": "mmIjQAWGNoDN",
    "outputId": "85f25332-5d57-45b7-a47a-cd0fe001d8b5"
   },
   "outputs": [
    {
     "data": {
      "text/plain": [
       "PersonalDetails(first_name='', last_name='', full_name='', phone_nr='', city='', email='', language='')"
      ]
     },
     "execution_count": 6,
     "metadata": {},
     "output_type": "execute_result"
    }
   ],
   "source": [
    "user_personal_details"
   ]
  },
  {
   "cell_type": "code",
   "execution_count": 7,
   "metadata": {
    "id": "QBre-nGGOHtf"
   },
   "outputs": [],
   "source": [
    "def check_what_is_empty(user_personal_details):\n",
    "    ask_for = []\n",
    "    # Check if fields are empty\n",
    "    dictionary = user_personal_details.model_dump(exclude_unset=True)\n",
    "    # check if the field is empty\n",
    "    for field, value in dictionary.items():\n",
    "        if value in [None, \"\", 0]:  # You can add other 'empty' conditions as per your requirements\n",
    "            print(f\"Please fill the value for:  '{field}'.\")\n",
    "            ask_for.append(f'{field}')\n",
    "    return ask_for\n",
    "\n",
    "## checking the response and adding it\n",
    "def add_non_empty_details(current_details: PersonalDetails, new_details: PersonalDetails):\n",
    "    new_dict = new_details.model_dump(exclude_unset=True)\n",
    "    non_empty_details = {k: v for k, v in new_dict.items() if v not in [None, \"\"]}\n",
    "    updated_details = current_details.model_copy(update=non_empty_details)\n",
    "    return updated_details"
   ]
  },
  {
   "cell_type": "code",
   "execution_count": 8,
   "metadata": {
    "colab": {
     "base_uri": "https://localhost:8080/"
    },
    "id": "a5tKKXQTOhFc",
    "outputId": "cb518de2-c052-41c1-a93d-c4f60df00bbe"
   },
   "outputs": [
    {
     "name": "stdout",
     "output_type": "stream",
     "text": [
      "Please fill the value for:  'first_name'.\n",
      "Please fill the value for:  'last_name'.\n",
      "Please fill the value for:  'full_name'.\n",
      "Please fill the value for:  'phone_nr'.\n",
      "Please fill the value for:  'city'.\n",
      "Please fill the value for:  'email'.\n",
      "Please fill the value for:  'language'.\n"
     ]
    }
   ],
   "source": [
    "ask_for = check_what_is_empty(user_personal_details)"
   ]
  },
  {
   "cell_type": "code",
   "execution_count": 9,
   "metadata": {
    "id": "P3LBHBhQPIQZ"
   },
   "outputs": [
    {
     "name": "stdout",
     "output_type": "stream",
     "text": [
      "first_name='John' last_name='Smith' full_name='John Smith' phone_nr='' city='London' email='john123@gmail.com' language='english'\n"
     ]
    },
    {
     "data": {
      "text/plain": [
       "PersonalDetails(first_name='John', last_name='Smith', full_name='John Smith', phone_nr='', city='London', email='john123@gmail.com', language='english')"
      ]
     },
     "execution_count": 9,
     "metadata": {},
     "output_type": "execute_result"
    }
   ],
   "source": [
    "res = structured_llm.invoke(\"Hi my name is John Smith and I live in London UK. you can contact me at john123@gmail.com\")\n",
    "print(res)\n",
    "\n",
    "user_123_personal_details = add_non_empty_details(user_personal_details,res)\n",
    "user_123_personal_details"
   ]
  },
  {
   "cell_type": "code",
   "execution_count": 10,
   "metadata": {},
   "outputs": [
    {
     "name": "stdout",
     "output_type": "stream",
     "text": [
      "Please fill the value for:  'first_name'.\n",
      "Please fill the value for:  'last_name'.\n",
      "Please fill the value for:  'full_name'.\n",
      "Please fill the value for:  'phone_nr'.\n",
      "Please fill the value for:  'city'.\n",
      "Please fill the value for:  'email'.\n",
      "Please fill the value for:  'language'.\n"
     ]
    }
   ],
   "source": [
    "# check if the fields are empty\n",
    "ask_for = check_what_is_empty(user_personal_details)"
   ]
  },
  {
   "cell_type": "code",
   "execution_count": 11,
   "metadata": {
    "id": "rNPMWCFxPITz"
   },
   "outputs": [
    {
     "data": {
      "text/plain": [
       "PersonalDetails(first_name='John', last_name='Doe', full_name='John Doe', phone_nr='123456789', city='New York', email='john.doe@example.com', language='english')"
      ]
     },
     "execution_count": 11,
     "metadata": {},
     "output_type": "execute_result"
    }
   ],
   "source": [
    "#adding more information based on the response\n",
    "res = structured_llm.invoke(\"My phone number is 123456789\")\n",
    "\n",
    "user_personal_details = add_non_empty_details(user_personal_details,res)\n",
    "user_personal_details"
   ]
  },
  {
   "cell_type": "markdown",
   "metadata": {
    "id": "3S_WzUO0yVWY"
   },
   "source": [
    "## Putting it together with a LLMChain as well\n"
   ]
  },
  {
   "cell_type": "code",
   "execution_count": 26,
   "metadata": {
    "id": "aE0oO-7mrmCr"
   },
   "outputs": [],
   "source": [
    "from langchain.chains import TransformChain, LLMChain, SimpleSequentialChain\n",
    "from langchain.prompts import PromptTemplate, ChatPromptTemplate"
   ]
  },
  {
   "cell_type": "code",
   "execution_count": 27,
   "metadata": {
    "id": "qygsMN8cznUy"
   },
   "outputs": [],
   "source": [
    "user_123_personal_details = PersonalDetails(first_name=\"\",\n",
    "                                last_name=\"\",\n",
    "                                full_name=\"\",\n",
    "                                phone_nr=\"\",\n",
    "                                city=\"\",\n",
    "                                email=\"\",\n",
    "                                language=\"\")"
   ]
  },
  {
   "cell_type": "code",
   "execution_count": 28,
   "metadata": {
    "colab": {
     "base_uri": "https://localhost:8080/"
    },
    "id": "zpr5lFJtznVB",
    "outputId": "76bcff09-83c8-440b-8c19-445a05708ed5"
   },
   "outputs": [
    {
     "data": {
      "text/plain": [
       "PersonalDetails(first_name='', last_name='', full_name='', phone_nr='', city='', email='', language='')"
      ]
     },
     "execution_count": 28,
     "metadata": {},
     "output_type": "execute_result"
    }
   ],
   "source": [
    "user_123_personal_details"
   ]
  },
  {
   "cell_type": "code",
   "execution_count": 31,
   "metadata": {
    "id": "jaLij6mBs4cs"
   },
   "outputs": [],
   "source": [
    "def ask_for_info(required_fields):\n",
    "    # prompt template 1\n",
    "    first_prompt = ChatPromptTemplate.from_template(\n",
    "        \"Below is are some things to ask the user for in a conversational way. You should only ask one question at a time even if you don't get all the info \\\n",
    "        don't ask as a list! Don't greet the user! Don't say Hi. Explain you need to get some info. If the required_fields list is empty then thank them and ask how you can help them \\n\\n \\\n",
    "        ### required_fields list: {required_fields}\"\n",
    "    )\n",
    "    # info_gathering_chain\n",
    "    info_gathering_chain = first_prompt | structured_llm\n",
    "    ai_chat = info_gathering_chain.invoke({\"required_fields\": required_fields})\n",
    "    return ai_chat\n"
   ]
  },
  {
   "cell_type": "code",
   "execution_count": 36,
   "metadata": {},
   "outputs": [
    {
     "name": "stdout",
     "output_type": "stream",
     "text": [
      "first_name='' last_name='' full_name='' phone_nr='' city='' email='' language='english'\n"
     ]
    }
   ],
   "source": [
    "text_input =\"ok My name is Sam\"\n",
    "user_details = ask_for_info(user_123_personal_details)\n",
    "print(user_details)"
   ]
  }
 ],
 "metadata": {
  "colab": {
   "provenance": []
  },
  "kernelspec": {
   "display_name": ".venv",
   "language": "python",
   "name": "python3"
  },
  "language_info": {
   "codemirror_mode": {
    "name": "ipython",
    "version": 3
   },
   "file_extension": ".py",
   "mimetype": "text/x-python",
   "name": "python",
   "nbconvert_exporter": "python",
   "pygments_lexer": "ipython3",
   "version": "3.10.11"
  }
 },
 "nbformat": 4,
 "nbformat_minor": 0
}
